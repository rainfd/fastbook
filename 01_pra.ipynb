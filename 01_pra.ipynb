{
 "cells": [
  {
   "cell_type": "code",
   "execution_count": 3,
   "id": "153e7494-c0ee-4a8a-b4d4-da6c2c9bece1",
   "metadata": {},
   "outputs": [],
   "source": [
    "! [ -e /content ] && pip install -Uqq fastbook"
   ]
  },
  {
   "cell_type": "code",
   "execution_count": null,
   "id": "fac7fd1f-c3ba-47a7-b2e1-aa8cca6feffc",
   "metadata": {},
   "outputs": [],
   "source": [
    "!pip install fastbook\n",
    "import fastbook"
   ]
  },
  {
   "cell_type": "code",
   "execution_count": 5,
   "id": "a5f82358-04e1-459d-b797-0877782ed97d",
   "metadata": {},
   "outputs": [],
   "source": [
    "fastbook.setup_book()"
   ]
  },
  {
   "cell_type": "code",
   "execution_count": 6,
   "id": "2826a26d-2a1e-47a5-a586-603985f616c9",
   "metadata": {},
   "outputs": [],
   "source": [
    "#id first_training\n",
    "#caption Results from the first training\n",
    "# CLICK ME\n",
    "from fastai.vision.all import *"
   ]
  },
  {
   "cell_type": "code",
   "execution_count": 7,
   "id": "0d664714-6092-46ab-8019-7fdee2ffd840",
   "metadata": {},
   "outputs": [
    {
     "data": {
      "text/plain": [
       "Path('/root/.fastai/data/oxford-iiit-pet/images')"
      ]
     },
     "execution_count": 7,
     "metadata": {},
     "output_type": "execute_result"
    }
   ],
   "source": [
    "path = untar_data(URLs.PETS)/'images'\n",
    "path"
   ]
  },
  {
   "cell_type": "code",
   "execution_count": 8,
   "id": "f11aee55-3273-46d3-8598-dc03312a35c3",
   "metadata": {},
   "outputs": [
    {
     "data": {
      "text/plain": [
       "(#7393) [Path('/root/.fastai/data/oxford-iiit-pet/images/beagle_1.jpg'),Path('/root/.fastai/data/oxford-iiit-pet/images/saint_bernard_170.jpg'),Path('/root/.fastai/data/oxford-iiit-pet/images/german_shorthaired_189.jpg'),Path('/root/.fastai/data/oxford-iiit-pet/images/american_pit_bull_terrier_53.jpg'),Path('/root/.fastai/data/oxford-iiit-pet/images/japanese_chin_112.jpg'),Path('/root/.fastai/data/oxford-iiit-pet/images/havanese_35.jpg'),Path('/root/.fastai/data/oxford-iiit-pet/images/shiba_inu_181.jpg'),Path('/root/.fastai/data/oxford-iiit-pet/images/Egyptian_Mau_130.jpg'),Path('/root/.fastai/data/oxford-iiit-pet/images/basset_hound_159.jpg'),Path('/root/.fastai/data/oxford-iiit-pet/images/British_Shorthair_129.jpg')...]"
      ]
     },
     "execution_count": 8,
     "metadata": {},
     "output_type": "execute_result"
    }
   ],
   "source": [
    "path.ls()"
   ]
  },
  {
   "cell_type": "code",
   "execution_count": 9,
   "id": "a23f4046-2a99-4e6f-8c99-b6d9bb68a466",
   "metadata": {},
   "outputs": [],
   "source": [
    "def is_cat(x): return x[0].isupper()"
   ]
  },
  {
   "cell_type": "code",
   "execution_count": 10,
   "id": "6caea42c-7837-4a86-bdd3-8ebd4d7517d3",
   "metadata": {},
   "outputs": [],
   "source": [
    "dls = ImageDataLoaders.from_name_func(\n",
    "    path, get_image_files(path), valid_pct=0.2, seed=42,\n",
    "    label_func=is_cat, item_tfms=Resize(224))"
   ]
  },
  {
   "cell_type": "code",
   "execution_count": 11,
   "id": "14a8acac-6807-410c-bb4a-f820da02acb9",
   "metadata": {},
   "outputs": [
    {
     "data": {
      "text/html": [
       "\n",
       "<style>\n",
       "    /* Turns off some styling */\n",
       "    progress {\n",
       "        /* gets rid of default border in Firefox and Opera. */\n",
       "        border: none;\n",
       "        /* Needs to be in here for Safari polyfill so background images work as expected. */\n",
       "        background-size: auto;\n",
       "    }\n",
       "    progress:not([value]), progress:not([value])::-webkit-progress-bar {\n",
       "        background: repeating-linear-gradient(45deg, #7e7e7e, #7e7e7e 10px, #5c5c5c 10px, #5c5c5c 20px);\n",
       "    }\n",
       "    .progress-bar-interrupted, .progress-bar-interrupted::-webkit-progress-bar {\n",
       "        background: #F44336;\n",
       "    }\n",
       "</style>\n"
      ],
      "text/plain": [
       "<IPython.core.display.HTML object>"
      ]
     },
     "metadata": {},
     "output_type": "display_data"
    },
    {
     "data": {
      "text/html": [
       "<table border=\"1\" class=\"dataframe\">\n",
       "  <thead>\n",
       "    <tr style=\"text-align: left;\">\n",
       "      <th>epoch</th>\n",
       "      <th>train_loss</th>\n",
       "      <th>valid_loss</th>\n",
       "      <th>error_rate</th>\n",
       "      <th>time</th>\n",
       "    </tr>\n",
       "  </thead>\n",
       "  <tbody>\n",
       "    <tr>\n",
       "      <td>0</td>\n",
       "      <td>0.167752</td>\n",
       "      <td>0.019715</td>\n",
       "      <td>0.005413</td>\n",
       "      <td>00:10</td>\n",
       "    </tr>\n",
       "  </tbody>\n",
       "</table>"
      ],
      "text/plain": [
       "<IPython.core.display.HTML object>"
      ]
     },
     "metadata": {},
     "output_type": "display_data"
    },
    {
     "data": {
      "text/html": [
       "\n",
       "<style>\n",
       "    /* Turns off some styling */\n",
       "    progress {\n",
       "        /* gets rid of default border in Firefox and Opera. */\n",
       "        border: none;\n",
       "        /* Needs to be in here for Safari polyfill so background images work as expected. */\n",
       "        background-size: auto;\n",
       "    }\n",
       "    progress:not([value]), progress:not([value])::-webkit-progress-bar {\n",
       "        background: repeating-linear-gradient(45deg, #7e7e7e, #7e7e7e 10px, #5c5c5c 10px, #5c5c5c 20px);\n",
       "    }\n",
       "    .progress-bar-interrupted, .progress-bar-interrupted::-webkit-progress-bar {\n",
       "        background: #F44336;\n",
       "    }\n",
       "</style>\n"
      ],
      "text/plain": [
       "<IPython.core.display.HTML object>"
      ]
     },
     "metadata": {},
     "output_type": "display_data"
    },
    {
     "data": {
      "text/html": [
       "<table border=\"1\" class=\"dataframe\">\n",
       "  <thead>\n",
       "    <tr style=\"text-align: left;\">\n",
       "      <th>epoch</th>\n",
       "      <th>train_loss</th>\n",
       "      <th>valid_loss</th>\n",
       "      <th>error_rate</th>\n",
       "      <th>time</th>\n",
       "    </tr>\n",
       "  </thead>\n",
       "  <tbody>\n",
       "    <tr>\n",
       "      <td>0</td>\n",
       "      <td>0.052417</td>\n",
       "      <td>0.026361</td>\n",
       "      <td>0.009472</td>\n",
       "      <td>00:10</td>\n",
       "    </tr>\n",
       "  </tbody>\n",
       "</table>"
      ],
      "text/plain": [
       "<IPython.core.display.HTML object>"
      ]
     },
     "metadata": {},
     "output_type": "display_data"
    }
   ],
   "source": [
    "learn = vision_learner(dls, resnet34, metrics=error_rate)\n",
    "learn.fine_tune(1)"
   ]
  },
  {
   "cell_type": "code",
   "execution_count": 12,
   "id": "c24a3781-344f-47dc-b68c-f1aa3692bb76",
   "metadata": {},
   "outputs": [
    {
     "data": {
      "image/jpeg": "[encoded data removed]",
      "image/png": "[encoded data removed]",
      "text/plain": [
       "<PIL.Image.Image image mode=RGB size=151x192>"
      ]
     },
     "execution_count": 12,
     "metadata": {},
     "output_type": "execute_result"
    }
   ],
   "source": [
    "img = PILImage.create(fastbook.image_cat())\n",
    "img.to_thumb(192)"
   ]
  },
  {
   "cell_type": "code",
   "execution_count": 14,
   "id": "f1db616e-7b10-4b2c-aab2-a5d4ad5bffc9",
   "metadata": {},
   "outputs": [
    {
     "data": {
      "application/vnd.jupyter.widget-view+json": {
       "model_id": "06b426fd225440c3a91ab1773731999f",
       "version_major": 2,
       "version_minor": 0
      },
      "text/plain": [
       "FileUpload(value={}, description='Upload')"
      ]
     },
     "metadata": {},
     "output_type": "display_data"
    }
   ],
   "source": [
    "import ipywidgets as widgets\n",
    "uploader = widgets.FileUpload()\n",
    "uploader"
   ]
  },
  {
   "cell_type": "code",
   "execution_count": null,
   "id": "dcb18eab-64c1-4a2e-9e6c-91552b3cfa89",
   "metadata": {},
   "outputs": [],
   "source": [
    "!pip install ipywidgets\n",
    "!jupyter nbextension enable --py widgetsnbextension\n",
    "!jupyter labextension install @jupyter-widgets/jupyterlab-manager"
   ]
  },
  {
   "cell_type": "code",
   "execution_count": null,
   "id": "61298681-ef8c-4103-954f-96f774f2179e",
   "metadata": {},
   "outputs": [],
   "source": [
    "!pip install jupyter_contrib_nbextensions\n",
    "!jupyter contrib nbextension install"
   ]
  },
  {
   "cell_type": "code",
   "execution_count": 16,
   "id": "7ddc7247-b4de-4333-b91b-119694a89b3a",
   "metadata": {},
   "outputs": [
    {
     "name": "stdout",
     "output_type": "stream",
     "text": [
      "Collecting fileupload\n",
      "  Downloading fileupload-0.1.5-py2.py3-none-any.whl (6.2 kB)\n",
      "Requirement already satisfied: ipywidgets>=5.1 in /root/miniconda3/envs/fast/lib/python3.10/site-packages (from fileupload) (7.8.1)\n",
      "Requirement already satisfied: notebook>=4.2 in /root/miniconda3/envs/fast/lib/python3.10/site-packages (from fileupload) (7.0.6)\n",
      "Requirement already satisfied: traitlets>=4.2 in /root/miniconda3/envs/fast/lib/python3.10/site-packages (from fileupload) (5.7.1)\n",
      "Requirement already satisfied: comm>=0.1.3 in /root/miniconda3/envs/fast/lib/python3.10/site-packages (from ipywidgets>=5.1->fileupload) (0.2.0)\n",
      "Requirement already satisfied: ipython-genutils~=0.2.0 in /root/miniconda3/envs/fast/lib/python3.10/site-packages (from ipywidgets>=5.1->fileupload) (0.2.0)\n",
      "Requirement already satisfied: widgetsnbextension~=3.6.6 in /root/miniconda3/envs/fast/lib/python3.10/site-packages (from ipywidgets>=5.1->fileupload) (3.6.6)\n",
      "Requirement already satisfied: ipython>=4.0.0 in /root/miniconda3/envs/fast/lib/python3.10/site-packages (from ipywidgets>=5.1->fileupload) (8.15.0)\n",
      "Requirement already satisfied: jupyterlab-widgets<3,>=1.0.0 in /root/miniconda3/envs/fast/lib/python3.10/site-packages (from ipywidgets>=5.1->fileupload) (1.1.7)\n",
      "Requirement already satisfied: jupyter-server<3,>=2.4.0 in /root/miniconda3/envs/fast/lib/python3.10/site-packages (from notebook>=4.2->fileupload) (2.10.0)\n",
      "Requirement already satisfied: jupyterlab-server<3,>=2.22.1 in /root/miniconda3/envs/fast/lib/python3.10/site-packages (from notebook>=4.2->fileupload) (2.25.1)\n",
      "Requirement already satisfied: jupyterlab<5,>=4.0.2 in /root/miniconda3/envs/fast/lib/python3.10/site-packages (from notebook>=4.2->fileupload) (4.0.8)\n",
      "Requirement already satisfied: notebook-shim<0.3,>=0.2 in /root/miniconda3/envs/fast/lib/python3.10/site-packages (from notebook>=4.2->fileupload) (0.2.3)\n",
      "Requirement already satisfied: tornado>=6.2.0 in /root/miniconda3/envs/fast/lib/python3.10/site-packages (from notebook>=4.2->fileupload) (6.3.3)\n",
      "Requirement already satisfied: backcall in /root/miniconda3/envs/fast/lib/python3.10/site-packages (from ipython>=4.0.0->ipywidgets>=5.1->fileupload) (0.2.0)\n",
      "Requirement already satisfied: decorator in /root/miniconda3/envs/fast/lib/python3.10/site-packages (from ipython>=4.0.0->ipywidgets>=5.1->fileupload) (5.1.1)\n",
      "Requirement already satisfied: jedi>=0.16 in /root/miniconda3/envs/fast/lib/python3.10/site-packages (from ipython>=4.0.0->ipywidgets>=5.1->fileupload) (0.18.1)\n",
      "Requirement already satisfied: matplotlib-inline in /root/miniconda3/envs/fast/lib/python3.10/site-packages (from ipython>=4.0.0->ipywidgets>=5.1->fileupload) (0.1.6)\n",
      "Requirement already satisfied: pickleshare in /root/miniconda3/envs/fast/lib/python3.10/site-packages (from ipython>=4.0.0->ipywidgets>=5.1->fileupload) (0.7.5)\n",
      "Requirement already satisfied: prompt-toolkit!=3.0.37,<3.1.0,>=3.0.30 in /root/miniconda3/envs/fast/lib/python3.10/site-packages (from ipython>=4.0.0->ipywidgets>=5.1->fileupload) (3.0.36)\n",
      "Requirement already satisfied: pygments>=2.4.0 in /root/miniconda3/envs/fast/lib/python3.10/site-packages (from ipython>=4.0.0->ipywidgets>=5.1->fileupload) (2.15.1)\n",
      "Requirement already satisfied: stack-data in /root/miniconda3/envs/fast/lib/python3.10/site-packages (from ipython>=4.0.0->ipywidgets>=5.1->fileupload) (0.2.0)\n",
      "Requirement already satisfied: exceptiongroup in /root/miniconda3/envs/fast/lib/python3.10/site-packages (from ipython>=4.0.0->ipywidgets>=5.1->fileupload) (1.0.4)\n",
      "Requirement already satisfied: pexpect>4.3 in /root/miniconda3/envs/fast/lib/python3.10/site-packages (from ipython>=4.0.0->ipywidgets>=5.1->fileupload) (4.8.0)\n",
      "Requirement already satisfied: anyio>=3.1.0 in /root/miniconda3/envs/fast/lib/python3.10/site-packages (from jupyter-server<3,>=2.4.0->notebook>=4.2->fileupload) (3.5.0)\n",
      "Requirement already satisfied: argon2-cffi in /root/miniconda3/envs/fast/lib/python3.10/site-packages (from jupyter-server<3,>=2.4.0->notebook>=4.2->fileupload) (21.3.0)\n",
      "Requirement already satisfied: jinja2 in /root/miniconda3/envs/fast/lib/python3.10/site-packages (from jupyter-server<3,>=2.4.0->notebook>=4.2->fileupload) (3.1.2)\n",
      "Requirement already satisfied: jupyter-client>=7.4.4 in /root/miniconda3/envs/fast/lib/python3.10/site-packages (from jupyter-server<3,>=2.4.0->notebook>=4.2->fileupload) (8.6.0)\n",
      "Requirement already satisfied: jupyter-core!=5.0.*,>=4.12 in /root/miniconda3/envs/fast/lib/python3.10/site-packages (from jupyter-server<3,>=2.4.0->notebook>=4.2->fileupload) (5.5.0)\n",
      "Requirement already satisfied: jupyter-events>=0.6.0 in /root/miniconda3/envs/fast/lib/python3.10/site-packages (from jupyter-server<3,>=2.4.0->notebook>=4.2->fileupload) (0.8.0)\n",
      "Requirement already satisfied: jupyter-server-terminals in /root/miniconda3/envs/fast/lib/python3.10/site-packages (from jupyter-server<3,>=2.4.0->notebook>=4.2->fileupload) (0.4.4)\n",
      "Requirement already satisfied: nbconvert>=6.4.4 in /root/miniconda3/envs/fast/lib/python3.10/site-packages (from jupyter-server<3,>=2.4.0->notebook>=4.2->fileupload) (7.10.0)\n",
      "Requirement already satisfied: nbformat>=5.3.0 in /root/miniconda3/envs/fast/lib/python3.10/site-packages (from jupyter-server<3,>=2.4.0->notebook>=4.2->fileupload) (5.9.2)\n",
      "Requirement already satisfied: overrides in /root/miniconda3/envs/fast/lib/python3.10/site-packages (from jupyter-server<3,>=2.4.0->notebook>=4.2->fileupload) (7.4.0)\n",
      "Requirement already satisfied: packaging in /root/miniconda3/envs/fast/lib/python3.10/site-packages (from jupyter-server<3,>=2.4.0->notebook>=4.2->fileupload) (23.1)\n",
      "Requirement already satisfied: prometheus-client in /root/miniconda3/envs/fast/lib/python3.10/site-packages (from jupyter-server<3,>=2.4.0->notebook>=4.2->fileupload) (0.14.1)\n",
      "Requirement already satisfied: pyzmq>=24 in /root/miniconda3/envs/fast/lib/python3.10/site-packages (from jupyter-server<3,>=2.4.0->notebook>=4.2->fileupload) (25.1.0)\n",
      "Requirement already satisfied: send2trash>=1.8.2 in /root/miniconda3/envs/fast/lib/python3.10/site-packages (from jupyter-server<3,>=2.4.0->notebook>=4.2->fileupload) (1.8.2)\n",
      "Requirement already satisfied: terminado>=0.8.3 in /root/miniconda3/envs/fast/lib/python3.10/site-packages (from jupyter-server<3,>=2.4.0->notebook>=4.2->fileupload) (0.17.1)\n",
      "Requirement already satisfied: websocket-client in /root/miniconda3/envs/fast/lib/python3.10/site-packages (from jupyter-server<3,>=2.4.0->notebook>=4.2->fileupload) (0.58.0)\n",
      "Requirement already satisfied: async-lru>=1.0.0 in /root/miniconda3/envs/fast/lib/python3.10/site-packages (from jupyterlab<5,>=4.0.2->notebook>=4.2->fileupload) (2.0.4)\n",
      "Requirement already satisfied: ipykernel in /root/miniconda3/envs/fast/lib/python3.10/site-packages (from jupyterlab<5,>=4.0.2->notebook>=4.2->fileupload) (6.25.0)\n",
      "Requirement already satisfied: jupyter-lsp>=2.0.0 in /root/miniconda3/envs/fast/lib/python3.10/site-packages (from jupyterlab<5,>=4.0.2->notebook>=4.2->fileupload) (2.2.0)\n",
      "Requirement already satisfied: tomli in /root/miniconda3/envs/fast/lib/python3.10/site-packages (from jupyterlab<5,>=4.0.2->notebook>=4.2->fileupload) (2.0.1)\n",
      "Requirement already satisfied: babel>=2.10 in /root/miniconda3/envs/fast/lib/python3.10/site-packages (from jupyterlab-server<3,>=2.22.1->notebook>=4.2->fileupload) (2.11.0)\n",
      "Requirement already satisfied: json5>=0.9.0 in /root/miniconda3/envs/fast/lib/python3.10/site-packages (from jupyterlab-server<3,>=2.22.1->notebook>=4.2->fileupload) (0.9.6)\n",
      "Requirement already satisfied: jsonschema>=4.18.0 in /root/miniconda3/envs/fast/lib/python3.10/site-packages (from jupyterlab-server<3,>=2.22.1->notebook>=4.2->fileupload) (4.19.2)\n",
      "Requirement already satisfied: requests>=2.31 in /root/miniconda3/envs/fast/lib/python3.10/site-packages (from jupyterlab-server<3,>=2.22.1->notebook>=4.2->fileupload) (2.31.0)\n",
      "Requirement already satisfied: idna>=2.8 in /root/miniconda3/envs/fast/lib/python3.10/site-packages (from anyio>=3.1.0->jupyter-server<3,>=2.4.0->notebook>=4.2->fileupload) (3.4)\n",
      "Requirement already satisfied: sniffio>=1.1 in /root/miniconda3/envs/fast/lib/python3.10/site-packages (from anyio>=3.1.0->jupyter-server<3,>=2.4.0->notebook>=4.2->fileupload) (1.2.0)\n",
      "Requirement already satisfied: typing-extensions>=4.0.0 in /root/miniconda3/envs/fast/lib/python3.10/site-packages (from async-lru>=1.0.0->jupyterlab<5,>=4.0.2->notebook>=4.2->fileupload) (4.7.1)\n",
      "Requirement already satisfied: pytz>=2015.7 in /root/miniconda3/envs/fast/lib/python3.10/site-packages (from babel>=2.10->jupyterlab-server<3,>=2.22.1->notebook>=4.2->fileupload) (2023.3.post1)\n",
      "Requirement already satisfied: parso<0.9.0,>=0.8.0 in /root/miniconda3/envs/fast/lib/python3.10/site-packages (from jedi>=0.16->ipython>=4.0.0->ipywidgets>=5.1->fileupload) (0.8.3)\n",
      "Requirement already satisfied: MarkupSafe>=2.0 in /root/miniconda3/envs/fast/lib/python3.10/site-packages (from jinja2->jupyter-server<3,>=2.4.0->notebook>=4.2->fileupload) (2.1.1)\n",
      "Requirement already satisfied: attrs>=22.2.0 in /root/miniconda3/envs/fast/lib/python3.10/site-packages (from jsonschema>=4.18.0->jupyterlab-server<3,>=2.22.1->notebook>=4.2->fileupload) (23.1.0)\n",
      "Requirement already satisfied: jsonschema-specifications>=2023.03.6 in /root/miniconda3/envs/fast/lib/python3.10/site-packages (from jsonschema>=4.18.0->jupyterlab-server<3,>=2.22.1->notebook>=4.2->fileupload) (2023.7.1)\n",
      "Requirement already satisfied: referencing>=0.28.4 in /root/miniconda3/envs/fast/lib/python3.10/site-packages (from jsonschema>=4.18.0->jupyterlab-server<3,>=2.22.1->notebook>=4.2->fileupload) (0.30.2)\n",
      "Requirement already satisfied: rpds-py>=0.7.1 in /root/miniconda3/envs/fast/lib/python3.10/site-packages (from jsonschema>=4.18.0->jupyterlab-server<3,>=2.22.1->notebook>=4.2->fileupload) (0.10.6)\n",
      "Requirement already satisfied: python-dateutil>=2.8.2 in /root/miniconda3/envs/fast/lib/python3.10/site-packages (from jupyter-client>=7.4.4->jupyter-server<3,>=2.4.0->notebook>=4.2->fileupload) (2.8.2)\n",
      "Requirement already satisfied: platformdirs>=2.5 in /root/miniconda3/envs/fast/lib/python3.10/site-packages (from jupyter-core!=5.0.*,>=4.12->jupyter-server<3,>=2.4.0->notebook>=4.2->fileupload) (3.10.0)\n",
      "Requirement already satisfied: python-json-logger>=2.0.4 in /root/miniconda3/envs/fast/lib/python3.10/site-packages (from jupyter-events>=0.6.0->jupyter-server<3,>=2.4.0->notebook>=4.2->fileupload) (2.0.7)\n",
      "Requirement already satisfied: pyyaml>=5.3 in /root/miniconda3/envs/fast/lib/python3.10/site-packages (from jupyter-events>=0.6.0->jupyter-server<3,>=2.4.0->notebook>=4.2->fileupload) (6.0.1)\n",
      "Requirement already satisfied: rfc3339-validator in /root/miniconda3/envs/fast/lib/python3.10/site-packages (from jupyter-events>=0.6.0->jupyter-server<3,>=2.4.0->notebook>=4.2->fileupload) (0.1.4)\n",
      "Requirement already satisfied: rfc3986-validator>=0.1.1 in /root/miniconda3/envs/fast/lib/python3.10/site-packages (from jupyter-events>=0.6.0->jupyter-server<3,>=2.4.0->notebook>=4.2->fileupload) (0.1.1)\n",
      "Requirement already satisfied: beautifulsoup4 in /root/miniconda3/envs/fast/lib/python3.10/site-packages (from nbconvert>=6.4.4->jupyter-server<3,>=2.4.0->notebook>=4.2->fileupload) (4.12.2)\n",
      "Requirement already satisfied: bleach!=5.0.0 in /root/miniconda3/envs/fast/lib/python3.10/site-packages (from nbconvert>=6.4.4->jupyter-server<3,>=2.4.0->notebook>=4.2->fileupload) (4.1.0)\n",
      "Requirement already satisfied: defusedxml in /root/miniconda3/envs/fast/lib/python3.10/site-packages (from nbconvert>=6.4.4->jupyter-server<3,>=2.4.0->notebook>=4.2->fileupload) (0.7.1)\n",
      "Requirement already satisfied: jupyterlab-pygments in /root/miniconda3/envs/fast/lib/python3.10/site-packages (from nbconvert>=6.4.4->jupyter-server<3,>=2.4.0->notebook>=4.2->fileupload) (0.1.2)\n",
      "Requirement already satisfied: mistune<4,>=2.0.3 in /root/miniconda3/envs/fast/lib/python3.10/site-packages (from nbconvert>=6.4.4->jupyter-server<3,>=2.4.0->notebook>=4.2->fileupload) (2.0.4)\n",
      "Requirement already satisfied: nbclient>=0.5.0 in /root/miniconda3/envs/fast/lib/python3.10/site-packages (from nbconvert>=6.4.4->jupyter-server<3,>=2.4.0->notebook>=4.2->fileupload) (0.8.0)\n",
      "Requirement already satisfied: pandocfilters>=1.4.1 in /root/miniconda3/envs/fast/lib/python3.10/site-packages (from nbconvert>=6.4.4->jupyter-server<3,>=2.4.0->notebook>=4.2->fileupload) (1.5.0)\n",
      "Requirement already satisfied: tinycss2 in /root/miniconda3/envs/fast/lib/python3.10/site-packages (from nbconvert>=6.4.4->jupyter-server<3,>=2.4.0->notebook>=4.2->fileupload) (1.2.1)\n",
      "Requirement already satisfied: fastjsonschema in /root/miniconda3/envs/fast/lib/python3.10/site-packages (from nbformat>=5.3.0->jupyter-server<3,>=2.4.0->notebook>=4.2->fileupload) (2.16.2)\n",
      "Requirement already satisfied: ptyprocess>=0.5 in /root/miniconda3/envs/fast/lib/python3.10/site-packages (from pexpect>4.3->ipython>=4.0.0->ipywidgets>=5.1->fileupload) (0.7.0)\n",
      "Requirement already satisfied: wcwidth in /root/miniconda3/envs/fast/lib/python3.10/site-packages (from prompt-toolkit!=3.0.37,<3.1.0,>=3.0.30->ipython>=4.0.0->ipywidgets>=5.1->fileupload) (0.2.5)\n",
      "Requirement already satisfied: charset-normalizer<4,>=2 in /root/miniconda3/envs/fast/lib/python3.10/site-packages (from requests>=2.31->jupyterlab-server<3,>=2.22.1->notebook>=4.2->fileupload) (2.0.4)\n",
      "Requirement already satisfied: urllib3<3,>=1.21.1 in /root/miniconda3/envs/fast/lib/python3.10/site-packages (from requests>=2.31->jupyterlab-server<3,>=2.22.1->notebook>=4.2->fileupload) (1.26.18)\n",
      "Requirement already satisfied: certifi>=2017.4.17 in /root/miniconda3/envs/fast/lib/python3.10/site-packages (from requests>=2.31->jupyterlab-server<3,>=2.22.1->notebook>=4.2->fileupload) (2023.11.17)\n",
      "Requirement already satisfied: argon2-cffi-bindings in /root/miniconda3/envs/fast/lib/python3.10/site-packages (from argon2-cffi->jupyter-server<3,>=2.4.0->notebook>=4.2->fileupload) (21.2.0)\n",
      "Requirement already satisfied: debugpy>=1.6.5 in /root/miniconda3/envs/fast/lib/python3.10/site-packages (from ipykernel->jupyterlab<5,>=4.0.2->notebook>=4.2->fileupload) (1.6.7)\n",
      "Requirement already satisfied: nest-asyncio in /root/miniconda3/envs/fast/lib/python3.10/site-packages (from ipykernel->jupyterlab<5,>=4.0.2->notebook>=4.2->fileupload) (1.5.6)\n",
      "Requirement already satisfied: psutil in /root/miniconda3/envs/fast/lib/python3.10/site-packages (from ipykernel->jupyterlab<5,>=4.0.2->notebook>=4.2->fileupload) (5.9.0)\n",
      "Requirement already satisfied: executing in /root/miniconda3/envs/fast/lib/python3.10/site-packages (from stack-data->ipython>=4.0.0->ipywidgets>=5.1->fileupload) (0.8.3)\n",
      "Requirement already satisfied: asttokens in /root/miniconda3/envs/fast/lib/python3.10/site-packages (from stack-data->ipython>=4.0.0->ipywidgets>=5.1->fileupload) (2.0.5)\n",
      "Requirement already satisfied: pure-eval in /root/miniconda3/envs/fast/lib/python3.10/site-packages (from stack-data->ipython>=4.0.0->ipywidgets>=5.1->fileupload) (0.2.2)\n",
      "Requirement already satisfied: six in /root/miniconda3/envs/fast/lib/python3.10/site-packages (from websocket-client->jupyter-server<3,>=2.4.0->notebook>=4.2->fileupload) (1.16.0)\n",
      "Requirement already satisfied: webencodings in /root/miniconda3/envs/fast/lib/python3.10/site-packages (from bleach!=5.0.0->nbconvert>=6.4.4->jupyter-server<3,>=2.4.0->notebook>=4.2->fileupload) (0.5.1)\n",
      "Requirement already satisfied: fqdn in /root/miniconda3/envs/fast/lib/python3.10/site-packages (from jsonschema[format-nongpl]>=4.18.0->jupyter-events>=0.6.0->jupyter-server<3,>=2.4.0->notebook>=4.2->fileupload) (1.5.1)\n",
      "Requirement already satisfied: isoduration in /root/miniconda3/envs/fast/lib/python3.10/site-packages (from jsonschema[format-nongpl]>=4.18.0->jupyter-events>=0.6.0->jupyter-server<3,>=2.4.0->notebook>=4.2->fileupload) (20.11.0)\n",
      "Requirement already satisfied: jsonpointer>1.13 in /root/miniconda3/envs/fast/lib/python3.10/site-packages (from jsonschema[format-nongpl]>=4.18.0->jupyter-events>=0.6.0->jupyter-server<3,>=2.4.0->notebook>=4.2->fileupload) (2.4)\n",
      "Requirement already satisfied: uri-template in /root/miniconda3/envs/fast/lib/python3.10/site-packages (from jsonschema[format-nongpl]>=4.18.0->jupyter-events>=0.6.0->jupyter-server<3,>=2.4.0->notebook>=4.2->fileupload) (1.3.0)\n",
      "Requirement already satisfied: webcolors>=1.11 in /root/miniconda3/envs/fast/lib/python3.10/site-packages (from jsonschema[format-nongpl]>=4.18.0->jupyter-events>=0.6.0->jupyter-server<3,>=2.4.0->notebook>=4.2->fileupload) (1.13)\n",
      "Requirement already satisfied: cffi>=1.0.1 in /root/miniconda3/envs/fast/lib/python3.10/site-packages (from argon2-cffi-bindings->argon2-cffi->jupyter-server<3,>=2.4.0->notebook>=4.2->fileupload) (1.16.0)\n",
      "Requirement already satisfied: soupsieve>1.2 in /root/miniconda3/envs/fast/lib/python3.10/site-packages (from beautifulsoup4->nbconvert>=6.4.4->jupyter-server<3,>=2.4.0->notebook>=4.2->fileupload) (2.5)\n",
      "Requirement already satisfied: pycparser in /root/miniconda3/envs/fast/lib/python3.10/site-packages (from cffi>=1.0.1->argon2-cffi-bindings->argon2-cffi->jupyter-server<3,>=2.4.0->notebook>=4.2->fileupload) (2.21)\n",
      "Requirement already satisfied: arrow>=0.15.0 in /root/miniconda3/envs/fast/lib/python3.10/site-packages (from isoduration->jsonschema[format-nongpl]>=4.18.0->jupyter-events>=0.6.0->jupyter-server<3,>=2.4.0->notebook>=4.2->fileupload) (1.3.0)\n",
      "Requirement already satisfied: types-python-dateutil>=2.8.10 in /root/miniconda3/envs/fast/lib/python3.10/site-packages (from arrow>=0.15.0->isoduration->jsonschema[format-nongpl]>=4.18.0->jupyter-events>=0.6.0->jupyter-server<3,>=2.4.0->notebook>=4.2->fileupload) (2.8.19.14)\n",
      "Installing collected packages: fileupload\n",
      "Successfully installed fileupload-0.1.5\n",
      "\u001b[33mWARNING: Running pip as the 'root' user can result in broken permissions and conflicting behaviour with the system package manager. It is recommended to use a virtual environment instead: https://pip.pypa.io/warnings/venv\u001b[0m\u001b[33m\n",
      "\u001b[0m"
     ]
    }
   ],
   "source": [
    "!pip install fileupload"
   ]
  },
  {
   "cell_type": "code",
   "execution_count": 18,
   "id": "48ae6eeb-8996-46b6-b48e-29f959f6e83f",
   "metadata": {},
   "outputs": [
    {
     "data": {
      "application/vnd.jupyter.widget-view+json": {
       "model_id": "c46ac1a37ac8403f954676c39c60ef9f",
       "version_major": 2,
       "version_minor": 0
      },
      "text/plain": [
       "FileUploadWidget(label='Browse', _dom_classes=('widget_item', 'btn-group'))"
      ]
     },
     "metadata": {},
     "output_type": "display_data"
    },
    {
     "data": {
      "text/plain": [
       "'请上传文件...'"
      ]
     },
     "metadata": {},
     "output_type": "display_data"
    }
   ],
   "source": [
    "# 导入所需的库\n",
    "from IPython.display import display\n",
    "import fileupload\n",
    "\n",
    "# 创建上传按钮\n",
    "upload_button = fileupload.FileUploadWidget()\n",
    "\n",
    "# 显示上传按钮\n",
    "display(upload_button)\n",
    "\n",
    "# 定义处理上传文件的函数\n",
    "def on_upload(change):\n",
    "    uploaded_filename = next(iter(change['new'].keys()))\n",
    "    content = change['new'][uploaded_filename]['content']\n",
    "    \n",
    "    # 在这里进行文件处理的代码\n",
    "    print(\"文件名:\", uploaded_filename)\n",
    "    print(\"文件内容:\", content.decode('utf-8'))\n",
    "\n",
    "# 将处理函数连接到上传按钮\n",
    "upload_button.observe(on_upload, names='_counter')\n",
    "\n",
    "# 保持Notebook处于活动状态\n",
    "display('请上传文件...')\n"
   ]
  },
  {
   "cell_type": "code",
   "execution_count": 19,
   "id": "fb3d0da1-3e76-4600-8858-0a1c201b7a5d",
   "metadata": {},
   "outputs": [
    {
     "name": "stdout",
     "output_type": "stream",
     "text": [
      "Requirement already satisfied: ipywidgets in /root/miniconda3/envs/fast/lib/python3.10/site-packages (7.8.1)\n",
      "Requirement already satisfied: comm>=0.1.3 in /root/miniconda3/envs/fast/lib/python3.10/site-packages (from ipywidgets) (0.2.0)\n",
      "Requirement already satisfied: ipython-genutils~=0.2.0 in /root/miniconda3/envs/fast/lib/python3.10/site-packages (from ipywidgets) (0.2.0)\n",
      "Requirement already satisfied: traitlets>=4.3.1 in /root/miniconda3/envs/fast/lib/python3.10/site-packages (from ipywidgets) (5.7.1)\n",
      "Requirement already satisfied: widgetsnbextension~=3.6.6 in /root/miniconda3/envs/fast/lib/python3.10/site-packages (from ipywidgets) (3.6.6)\n",
      "Requirement already satisfied: ipython>=4.0.0 in /root/miniconda3/envs/fast/lib/python3.10/site-packages (from ipywidgets) (8.15.0)\n",
      "Requirement already satisfied: jupyterlab-widgets<3,>=1.0.0 in /root/miniconda3/envs/fast/lib/python3.10/site-packages (from ipywidgets) (1.1.7)\n",
      "Requirement already satisfied: backcall in /root/miniconda3/envs/fast/lib/python3.10/site-packages (from ipython>=4.0.0->ipywidgets) (0.2.0)\n",
      "Requirement already satisfied: decorator in /root/miniconda3/envs/fast/lib/python3.10/site-packages (from ipython>=4.0.0->ipywidgets) (5.1.1)\n",
      "Requirement already satisfied: jedi>=0.16 in /root/miniconda3/envs/fast/lib/python3.10/site-packages (from ipython>=4.0.0->ipywidgets) (0.18.1)\n",
      "Requirement already satisfied: matplotlib-inline in /root/miniconda3/envs/fast/lib/python3.10/site-packages (from ipython>=4.0.0->ipywidgets) (0.1.6)\n",
      "Requirement already satisfied: pickleshare in /root/miniconda3/envs/fast/lib/python3.10/site-packages (from ipython>=4.0.0->ipywidgets) (0.7.5)\n",
      "Requirement already satisfied: prompt-toolkit!=3.0.37,<3.1.0,>=3.0.30 in /root/miniconda3/envs/fast/lib/python3.10/site-packages (from ipython>=4.0.0->ipywidgets) (3.0.36)\n",
      "Requirement already satisfied: pygments>=2.4.0 in /root/miniconda3/envs/fast/lib/python3.10/site-packages (from ipython>=4.0.0->ipywidgets) (2.15.1)\n",
      "Requirement already satisfied: stack-data in /root/miniconda3/envs/fast/lib/python3.10/site-packages (from ipython>=4.0.0->ipywidgets) (0.2.0)\n",
      "Requirement already satisfied: exceptiongroup in /root/miniconda3/envs/fast/lib/python3.10/site-packages (from ipython>=4.0.0->ipywidgets) (1.0.4)\n",
      "Requirement already satisfied: pexpect>4.3 in /root/miniconda3/envs/fast/lib/python3.10/site-packages (from ipython>=4.0.0->ipywidgets) (4.8.0)\n",
      "Requirement already satisfied: notebook>=4.4.1 in /root/miniconda3/envs/fast/lib/python3.10/site-packages (from widgetsnbextension~=3.6.6->ipywidgets) (7.0.6)\n",
      "Requirement already satisfied: parso<0.9.0,>=0.8.0 in /root/miniconda3/envs/fast/lib/python3.10/site-packages (from jedi>=0.16->ipython>=4.0.0->ipywidgets) (0.8.3)\n",
      "Requirement already satisfied: jupyter-server<3,>=2.4.0 in /root/miniconda3/envs/fast/lib/python3.10/site-packages (from notebook>=4.4.1->widgetsnbextension~=3.6.6->ipywidgets) (2.10.0)\n",
      "Requirement already satisfied: jupyterlab-server<3,>=2.22.1 in /root/miniconda3/envs/fast/lib/python3.10/site-packages (from notebook>=4.4.1->widgetsnbextension~=3.6.6->ipywidgets) (2.25.1)\n",
      "Requirement already satisfied: jupyterlab<5,>=4.0.2 in /root/miniconda3/envs/fast/lib/python3.10/site-packages (from notebook>=4.4.1->widgetsnbextension~=3.6.6->ipywidgets) (4.0.8)\n",
      "Requirement already satisfied: notebook-shim<0.3,>=0.2 in /root/miniconda3/envs/fast/lib/python3.10/site-packages (from notebook>=4.4.1->widgetsnbextension~=3.6.6->ipywidgets) (0.2.3)\n",
      "Requirement already satisfied: tornado>=6.2.0 in /root/miniconda3/envs/fast/lib/python3.10/site-packages (from notebook>=4.4.1->widgetsnbextension~=3.6.6->ipywidgets) (6.3.3)\n",
      "Requirement already satisfied: ptyprocess>=0.5 in /root/miniconda3/envs/fast/lib/python3.10/site-packages (from pexpect>4.3->ipython>=4.0.0->ipywidgets) (0.7.0)\n",
      "Requirement already satisfied: wcwidth in /root/miniconda3/envs/fast/lib/python3.10/site-packages (from prompt-toolkit!=3.0.37,<3.1.0,>=3.0.30->ipython>=4.0.0->ipywidgets) (0.2.5)\n",
      "Requirement already satisfied: executing in /root/miniconda3/envs/fast/lib/python3.10/site-packages (from stack-data->ipython>=4.0.0->ipywidgets) (0.8.3)\n",
      "Requirement already satisfied: asttokens in /root/miniconda3/envs/fast/lib/python3.10/site-packages (from stack-data->ipython>=4.0.0->ipywidgets) (2.0.5)\n",
      "Requirement already satisfied: pure-eval in /root/miniconda3/envs/fast/lib/python3.10/site-packages (from stack-data->ipython>=4.0.0->ipywidgets) (0.2.2)\n",
      "Requirement already satisfied: anyio>=3.1.0 in /root/miniconda3/envs/fast/lib/python3.10/site-packages (from jupyter-server<3,>=2.4.0->notebook>=4.4.1->widgetsnbextension~=3.6.6->ipywidgets) (3.5.0)\n",
      "Requirement already satisfied: argon2-cffi in /root/miniconda3/envs/fast/lib/python3.10/site-packages (from jupyter-server<3,>=2.4.0->notebook>=4.4.1->widgetsnbextension~=3.6.6->ipywidgets) (21.3.0)\n",
      "Requirement already satisfied: jinja2 in /root/miniconda3/envs/fast/lib/python3.10/site-packages (from jupyter-server<3,>=2.4.0->notebook>=4.4.1->widgetsnbextension~=3.6.6->ipywidgets) (3.1.2)\n",
      "Requirement already satisfied: jupyter-client>=7.4.4 in /root/miniconda3/envs/fast/lib/python3.10/site-packages (from jupyter-server<3,>=2.4.0->notebook>=4.4.1->widgetsnbextension~=3.6.6->ipywidgets) (8.6.0)\n",
      "Requirement already satisfied: jupyter-core!=5.0.*,>=4.12 in /root/miniconda3/envs/fast/lib/python3.10/site-packages (from jupyter-server<3,>=2.4.0->notebook>=4.4.1->widgetsnbextension~=3.6.6->ipywidgets) (5.5.0)\n",
      "Requirement already satisfied: jupyter-events>=0.6.0 in /root/miniconda3/envs/fast/lib/python3.10/site-packages (from jupyter-server<3,>=2.4.0->notebook>=4.4.1->widgetsnbextension~=3.6.6->ipywidgets) (0.8.0)\n",
      "Requirement already satisfied: jupyter-server-terminals in /root/miniconda3/envs/fast/lib/python3.10/site-packages (from jupyter-server<3,>=2.4.0->notebook>=4.4.1->widgetsnbextension~=3.6.6->ipywidgets) (0.4.4)\n",
      "Requirement already satisfied: nbconvert>=6.4.4 in /root/miniconda3/envs/fast/lib/python3.10/site-packages (from jupyter-server<3,>=2.4.0->notebook>=4.4.1->widgetsnbextension~=3.6.6->ipywidgets) (7.10.0)\n",
      "Requirement already satisfied: nbformat>=5.3.0 in /root/miniconda3/envs/fast/lib/python3.10/site-packages (from jupyter-server<3,>=2.4.0->notebook>=4.4.1->widgetsnbextension~=3.6.6->ipywidgets) (5.9.2)\n",
      "Requirement already satisfied: overrides in /root/miniconda3/envs/fast/lib/python3.10/site-packages (from jupyter-server<3,>=2.4.0->notebook>=4.4.1->widgetsnbextension~=3.6.6->ipywidgets) (7.4.0)\n",
      "Requirement already satisfied: packaging in /root/miniconda3/envs/fast/lib/python3.10/site-packages (from jupyter-server<3,>=2.4.0->notebook>=4.4.1->widgetsnbextension~=3.6.6->ipywidgets) (23.1)\n",
      "Requirement already satisfied: prometheus-client in /root/miniconda3/envs/fast/lib/python3.10/site-packages (from jupyter-server<3,>=2.4.0->notebook>=4.4.1->widgetsnbextension~=3.6.6->ipywidgets) (0.14.1)\n",
      "Requirement already satisfied: pyzmq>=24 in /root/miniconda3/envs/fast/lib/python3.10/site-packages (from jupyter-server<3,>=2.4.0->notebook>=4.4.1->widgetsnbextension~=3.6.6->ipywidgets) (25.1.0)\n",
      "Requirement already satisfied: send2trash>=1.8.2 in /root/miniconda3/envs/fast/lib/python3.10/site-packages (from jupyter-server<3,>=2.4.0->notebook>=4.4.1->widgetsnbextension~=3.6.6->ipywidgets) (1.8.2)\n",
      "Requirement already satisfied: terminado>=0.8.3 in /root/miniconda3/envs/fast/lib/python3.10/site-packages (from jupyter-server<3,>=2.4.0->notebook>=4.4.1->widgetsnbextension~=3.6.6->ipywidgets) (0.17.1)\n",
      "Requirement already satisfied: websocket-client in /root/miniconda3/envs/fast/lib/python3.10/site-packages (from jupyter-server<3,>=2.4.0->notebook>=4.4.1->widgetsnbextension~=3.6.6->ipywidgets) (0.58.0)\n",
      "Requirement already satisfied: async-lru>=1.0.0 in /root/miniconda3/envs/fast/lib/python3.10/site-packages (from jupyterlab<5,>=4.0.2->notebook>=4.4.1->widgetsnbextension~=3.6.6->ipywidgets) (2.0.4)\n",
      "Requirement already satisfied: ipykernel in /root/miniconda3/envs/fast/lib/python3.10/site-packages (from jupyterlab<5,>=4.0.2->notebook>=4.4.1->widgetsnbextension~=3.6.6->ipywidgets) (6.25.0)\n",
      "Requirement already satisfied: jupyter-lsp>=2.0.0 in /root/miniconda3/envs/fast/lib/python3.10/site-packages (from jupyterlab<5,>=4.0.2->notebook>=4.4.1->widgetsnbextension~=3.6.6->ipywidgets) (2.2.0)\n",
      "Requirement already satisfied: tomli in /root/miniconda3/envs/fast/lib/python3.10/site-packages (from jupyterlab<5,>=4.0.2->notebook>=4.4.1->widgetsnbextension~=3.6.6->ipywidgets) (2.0.1)\n",
      "Requirement already satisfied: babel>=2.10 in /root/miniconda3/envs/fast/lib/python3.10/site-packages (from jupyterlab-server<3,>=2.22.1->notebook>=4.4.1->widgetsnbextension~=3.6.6->ipywidgets) (2.11.0)\n",
      "Requirement already satisfied: json5>=0.9.0 in /root/miniconda3/envs/fast/lib/python3.10/site-packages (from jupyterlab-server<3,>=2.22.1->notebook>=4.4.1->widgetsnbextension~=3.6.6->ipywidgets) (0.9.6)\n",
      "Requirement already satisfied: jsonschema>=4.18.0 in /root/miniconda3/envs/fast/lib/python3.10/site-packages (from jupyterlab-server<3,>=2.22.1->notebook>=4.4.1->widgetsnbextension~=3.6.6->ipywidgets) (4.19.2)\n",
      "Requirement already satisfied: requests>=2.31 in /root/miniconda3/envs/fast/lib/python3.10/site-packages (from jupyterlab-server<3,>=2.22.1->notebook>=4.4.1->widgetsnbextension~=3.6.6->ipywidgets) (2.31.0)\n",
      "Requirement already satisfied: six in /root/miniconda3/envs/fast/lib/python3.10/site-packages (from asttokens->stack-data->ipython>=4.0.0->ipywidgets) (1.16.0)\n",
      "Requirement already satisfied: idna>=2.8 in /root/miniconda3/envs/fast/lib/python3.10/site-packages (from anyio>=3.1.0->jupyter-server<3,>=2.4.0->notebook>=4.4.1->widgetsnbextension~=3.6.6->ipywidgets) (3.4)\n",
      "Requirement already satisfied: sniffio>=1.1 in /root/miniconda3/envs/fast/lib/python3.10/site-packages (from anyio>=3.1.0->jupyter-server<3,>=2.4.0->notebook>=4.4.1->widgetsnbextension~=3.6.6->ipywidgets) (1.2.0)\n",
      "Requirement already satisfied: typing-extensions>=4.0.0 in /root/miniconda3/envs/fast/lib/python3.10/site-packages (from async-lru>=1.0.0->jupyterlab<5,>=4.0.2->notebook>=4.4.1->widgetsnbextension~=3.6.6->ipywidgets) (4.7.1)\n",
      "Requirement already satisfied: pytz>=2015.7 in /root/miniconda3/envs/fast/lib/python3.10/site-packages (from babel>=2.10->jupyterlab-server<3,>=2.22.1->notebook>=4.4.1->widgetsnbextension~=3.6.6->ipywidgets) (2023.3.post1)\n",
      "Requirement already satisfied: MarkupSafe>=2.0 in /root/miniconda3/envs/fast/lib/python3.10/site-packages (from jinja2->jupyter-server<3,>=2.4.0->notebook>=4.4.1->widgetsnbextension~=3.6.6->ipywidgets) (2.1.1)\n",
      "Requirement already satisfied: attrs>=22.2.0 in /root/miniconda3/envs/fast/lib/python3.10/site-packages (from jsonschema>=4.18.0->jupyterlab-server<3,>=2.22.1->notebook>=4.4.1->widgetsnbextension~=3.6.6->ipywidgets) (23.1.0)\n",
      "Requirement already satisfied: jsonschema-specifications>=2023.03.6 in /root/miniconda3/envs/fast/lib/python3.10/site-packages (from jsonschema>=4.18.0->jupyterlab-server<3,>=2.22.1->notebook>=4.4.1->widgetsnbextension~=3.6.6->ipywidgets) (2023.7.1)\n",
      "Requirement already satisfied: referencing>=0.28.4 in /root/miniconda3/envs/fast/lib/python3.10/site-packages (from jsonschema>=4.18.0->jupyterlab-server<3,>=2.22.1->notebook>=4.4.1->widgetsnbextension~=3.6.6->ipywidgets) (0.30.2)\n",
      "Requirement already satisfied: rpds-py>=0.7.1 in /root/miniconda3/envs/fast/lib/python3.10/site-packages (from jsonschema>=4.18.0->jupyterlab-server<3,>=2.22.1->notebook>=4.4.1->widgetsnbextension~=3.6.6->ipywidgets) (0.10.6)\n",
      "Requirement already satisfied: python-dateutil>=2.8.2 in /root/miniconda3/envs/fast/lib/python3.10/site-packages (from jupyter-client>=7.4.4->jupyter-server<3,>=2.4.0->notebook>=4.4.1->widgetsnbextension~=3.6.6->ipywidgets) (2.8.2)\n",
      "Requirement already satisfied: platformdirs>=2.5 in /root/miniconda3/envs/fast/lib/python3.10/site-packages (from jupyter-core!=5.0.*,>=4.12->jupyter-server<3,>=2.4.0->notebook>=4.4.1->widgetsnbextension~=3.6.6->ipywidgets) (3.10.0)\n",
      "Requirement already satisfied: python-json-logger>=2.0.4 in /root/miniconda3/envs/fast/lib/python3.10/site-packages (from jupyter-events>=0.6.0->jupyter-server<3,>=2.4.0->notebook>=4.4.1->widgetsnbextension~=3.6.6->ipywidgets) (2.0.7)\n",
      "Requirement already satisfied: pyyaml>=5.3 in /root/miniconda3/envs/fast/lib/python3.10/site-packages (from jupyter-events>=0.6.0->jupyter-server<3,>=2.4.0->notebook>=4.4.1->widgetsnbextension~=3.6.6->ipywidgets) (6.0.1)\n",
      "Requirement already satisfied: rfc3339-validator in /root/miniconda3/envs/fast/lib/python3.10/site-packages (from jupyter-events>=0.6.0->jupyter-server<3,>=2.4.0->notebook>=4.4.1->widgetsnbextension~=3.6.6->ipywidgets) (0.1.4)\n",
      "Requirement already satisfied: rfc3986-validator>=0.1.1 in /root/miniconda3/envs/fast/lib/python3.10/site-packages (from jupyter-events>=0.6.0->jupyter-server<3,>=2.4.0->notebook>=4.4.1->widgetsnbextension~=3.6.6->ipywidgets) (0.1.1)\n",
      "Requirement already satisfied: beautifulsoup4 in /root/miniconda3/envs/fast/lib/python3.10/site-packages (from nbconvert>=6.4.4->jupyter-server<3,>=2.4.0->notebook>=4.4.1->widgetsnbextension~=3.6.6->ipywidgets) (4.12.2)\n",
      "Requirement already satisfied: bleach!=5.0.0 in /root/miniconda3/envs/fast/lib/python3.10/site-packages (from nbconvert>=6.4.4->jupyter-server<3,>=2.4.0->notebook>=4.4.1->widgetsnbextension~=3.6.6->ipywidgets) (4.1.0)\n",
      "Requirement already satisfied: defusedxml in /root/miniconda3/envs/fast/lib/python3.10/site-packages (from nbconvert>=6.4.4->jupyter-server<3,>=2.4.0->notebook>=4.4.1->widgetsnbextension~=3.6.6->ipywidgets) (0.7.1)\n",
      "Requirement already satisfied: jupyterlab-pygments in /root/miniconda3/envs/fast/lib/python3.10/site-packages (from nbconvert>=6.4.4->jupyter-server<3,>=2.4.0->notebook>=4.4.1->widgetsnbextension~=3.6.6->ipywidgets) (0.1.2)\n",
      "Requirement already satisfied: mistune<4,>=2.0.3 in /root/miniconda3/envs/fast/lib/python3.10/site-packages (from nbconvert>=6.4.4->jupyter-server<3,>=2.4.0->notebook>=4.4.1->widgetsnbextension~=3.6.6->ipywidgets) (2.0.4)\n",
      "Requirement already satisfied: nbclient>=0.5.0 in /root/miniconda3/envs/fast/lib/python3.10/site-packages (from nbconvert>=6.4.4->jupyter-server<3,>=2.4.0->notebook>=4.4.1->widgetsnbextension~=3.6.6->ipywidgets) (0.8.0)\n",
      "Requirement already satisfied: pandocfilters>=1.4.1 in /root/miniconda3/envs/fast/lib/python3.10/site-packages (from nbconvert>=6.4.4->jupyter-server<3,>=2.4.0->notebook>=4.4.1->widgetsnbextension~=3.6.6->ipywidgets) (1.5.0)\n",
      "Requirement already satisfied: tinycss2 in /root/miniconda3/envs/fast/lib/python3.10/site-packages (from nbconvert>=6.4.4->jupyter-server<3,>=2.4.0->notebook>=4.4.1->widgetsnbextension~=3.6.6->ipywidgets) (1.2.1)\n",
      "Requirement already satisfied: fastjsonschema in /root/miniconda3/envs/fast/lib/python3.10/site-packages (from nbformat>=5.3.0->jupyter-server<3,>=2.4.0->notebook>=4.4.1->widgetsnbextension~=3.6.6->ipywidgets) (2.16.2)\n",
      "Requirement already satisfied: charset-normalizer<4,>=2 in /root/miniconda3/envs/fast/lib/python3.10/site-packages (from requests>=2.31->jupyterlab-server<3,>=2.22.1->notebook>=4.4.1->widgetsnbextension~=3.6.6->ipywidgets) (2.0.4)\n",
      "Requirement already satisfied: urllib3<3,>=1.21.1 in /root/miniconda3/envs/fast/lib/python3.10/site-packages (from requests>=2.31->jupyterlab-server<3,>=2.22.1->notebook>=4.4.1->widgetsnbextension~=3.6.6->ipywidgets) (1.26.18)\n",
      "Requirement already satisfied: certifi>=2017.4.17 in /root/miniconda3/envs/fast/lib/python3.10/site-packages (from requests>=2.31->jupyterlab-server<3,>=2.22.1->notebook>=4.4.1->widgetsnbextension~=3.6.6->ipywidgets) (2023.11.17)\n",
      "Requirement already satisfied: argon2-cffi-bindings in /root/miniconda3/envs/fast/lib/python3.10/site-packages (from argon2-cffi->jupyter-server<3,>=2.4.0->notebook>=4.4.1->widgetsnbextension~=3.6.6->ipywidgets) (21.2.0)\n",
      "Requirement already satisfied: debugpy>=1.6.5 in /root/miniconda3/envs/fast/lib/python3.10/site-packages (from ipykernel->jupyterlab<5,>=4.0.2->notebook>=4.4.1->widgetsnbextension~=3.6.6->ipywidgets) (1.6.7)\n",
      "Requirement already satisfied: nest-asyncio in /root/miniconda3/envs/fast/lib/python3.10/site-packages (from ipykernel->jupyterlab<5,>=4.0.2->notebook>=4.4.1->widgetsnbextension~=3.6.6->ipywidgets) (1.5.6)\n",
      "Requirement already satisfied: psutil in /root/miniconda3/envs/fast/lib/python3.10/site-packages (from ipykernel->jupyterlab<5,>=4.0.2->notebook>=4.4.1->widgetsnbextension~=3.6.6->ipywidgets) (5.9.0)\n",
      "Requirement already satisfied: webencodings in /root/miniconda3/envs/fast/lib/python3.10/site-packages (from bleach!=5.0.0->nbconvert>=6.4.4->jupyter-server<3,>=2.4.0->notebook>=4.4.1->widgetsnbextension~=3.6.6->ipywidgets) (0.5.1)\n",
      "Requirement already satisfied: fqdn in /root/miniconda3/envs/fast/lib/python3.10/site-packages (from jsonschema[format-nongpl]>=4.18.0->jupyter-events>=0.6.0->jupyter-server<3,>=2.4.0->notebook>=4.4.1->widgetsnbextension~=3.6.6->ipywidgets) (1.5.1)\n",
      "Requirement already satisfied: isoduration in /root/miniconda3/envs/fast/lib/python3.10/site-packages (from jsonschema[format-nongpl]>=4.18.0->jupyter-events>=0.6.0->jupyter-server<3,>=2.4.0->notebook>=4.4.1->widgetsnbextension~=3.6.6->ipywidgets) (20.11.0)\n",
      "Requirement already satisfied: jsonpointer>1.13 in /root/miniconda3/envs/fast/lib/python3.10/site-packages (from jsonschema[format-nongpl]>=4.18.0->jupyter-events>=0.6.0->jupyter-server<3,>=2.4.0->notebook>=4.4.1->widgetsnbextension~=3.6.6->ipywidgets) (2.4)\n",
      "Requirement already satisfied: uri-template in /root/miniconda3/envs/fast/lib/python3.10/site-packages (from jsonschema[format-nongpl]>=4.18.0->jupyter-events>=0.6.0->jupyter-server<3,>=2.4.0->notebook>=4.4.1->widgetsnbextension~=3.6.6->ipywidgets) (1.3.0)\n",
      "Requirement already satisfied: webcolors>=1.11 in /root/miniconda3/envs/fast/lib/python3.10/site-packages (from jsonschema[format-nongpl]>=4.18.0->jupyter-events>=0.6.0->jupyter-server<3,>=2.4.0->notebook>=4.4.1->widgetsnbextension~=3.6.6->ipywidgets) (1.13)\n",
      "Requirement already satisfied: cffi>=1.0.1 in /root/miniconda3/envs/fast/lib/python3.10/site-packages (from argon2-cffi-bindings->argon2-cffi->jupyter-server<3,>=2.4.0->notebook>=4.4.1->widgetsnbextension~=3.6.6->ipywidgets) (1.16.0)\n",
      "Requirement already satisfied: soupsieve>1.2 in /root/miniconda3/envs/fast/lib/python3.10/site-packages (from beautifulsoup4->nbconvert>=6.4.4->jupyter-server<3,>=2.4.0->notebook>=4.4.1->widgetsnbextension~=3.6.6->ipywidgets) (2.5)\n",
      "Requirement already satisfied: pycparser in /root/miniconda3/envs/fast/lib/python3.10/site-packages (from cffi>=1.0.1->argon2-cffi-bindings->argon2-cffi->jupyter-server<3,>=2.4.0->notebook>=4.4.1->widgetsnbextension~=3.6.6->ipywidgets) (2.21)\n",
      "Requirement already satisfied: arrow>=0.15.0 in /root/miniconda3/envs/fast/lib/python3.10/site-packages (from isoduration->jsonschema[format-nongpl]>=4.18.0->jupyter-events>=0.6.0->jupyter-server<3,>=2.4.0->notebook>=4.4.1->widgetsnbextension~=3.6.6->ipywidgets) (1.3.0)\n",
      "Requirement already satisfied: types-python-dateutil>=2.8.10 in /root/miniconda3/envs/fast/lib/python3.10/site-packages (from arrow>=0.15.0->isoduration->jsonschema[format-nongpl]>=4.18.0->jupyter-events>=0.6.0->jupyter-server<3,>=2.4.0->notebook>=4.4.1->widgetsnbextension~=3.6.6->ipywidgets) (2.8.19.14)\n",
      "\u001b[33mWARNING: Running pip as the 'root' user can result in broken permissions and conflicting behaviour with the system package manager. It is recommended to use a virtual environment instead: https://pip.pypa.io/warnings/venv\u001b[0m\u001b[33m\n",
      "\u001b[0musage: jupyter [-h] [--version] [--config-dir] [--data-dir] [--runtime-dir]\n",
      "               [--paths] [--json] [--debug]\n",
      "               [subcommand]\n",
      "\n",
      "Jupyter: Interactive Computing\n",
      "\n",
      "positional arguments:\n",
      "  subcommand     the subcommand to launch\n",
      "\n",
      "options:\n",
      "  -h, --help     show this help message and exit\n",
      "  --version      show the versions of core jupyter packages and exit\n",
      "  --config-dir   show Jupyter config dir\n",
      "  --data-dir     show Jupyter data dir\n",
      "  --runtime-dir  show Jupyter runtime dir\n",
      "  --paths        show all Jupyter paths. Add --json for machine-readable\n",
      "                 format.\n",
      "  --json         output paths as machine-readable json\n",
      "  --debug        output debug information about paths\n",
      "\n",
      "Available subcommands: console-script.py console.exe contrib dejavu dejavu.exe\n",
      "events events.exe execute execute.exe kernel kernel.exe kernelspec\n",
      "kernelspec.exe lab lab.exe labextension labextension.exe labhub labhub.exe\n",
      "migrate migrate.exe nbconvert nbconvert.exe nbextensions_configurator notebook\n",
      "notebook.exe qtconsole-script.py qtconsole.exe run run.exe script.py server\n",
      "server.exe troubleshoot troubleshoot.exe trust trust.exe\n",
      "\n",
      "Jupyter command `jupyter-nbextension` not found.\n",
      "usage: jupyter [-h] [--version] [--config-dir] [--data-dir] [--runtime-dir]\n",
      "               [--paths] [--json] [--debug]\n",
      "               [subcommand]\n",
      "\n",
      "Jupyter: Interactive Computing\n",
      "\n",
      "positional arguments:\n",
      "  subcommand     the subcommand to launch\n",
      "\n",
      "options:\n",
      "  -h, --help     show this help message and exit\n",
      "  --version      show the versions of core jupyter packages and exit\n",
      "  --config-dir   show Jupyter config dir\n",
      "  --data-dir     show Jupyter data dir\n",
      "  --runtime-dir  show Jupyter runtime dir\n",
      "  --paths        show all Jupyter paths. Add --json for machine-readable\n",
      "                 format.\n",
      "  --json         output paths as machine-readable json\n",
      "  --debug        output debug information about paths\n",
      "\n",
      "Available subcommands: console-script.py console.exe contrib dejavu dejavu.exe\n",
      "events events.exe execute execute.exe kernel kernel.exe kernelspec\n",
      "kernelspec.exe lab lab.exe labextension labextension.exe labhub labhub.exe\n",
      "migrate migrate.exe nbconvert nbconvert.exe nbextensions_configurator notebook\n",
      "notebook.exe qtconsole-script.py qtconsole.exe run run.exe script.py server\n",
      "server.exe troubleshoot troubleshoot.exe trust trust.exe\n",
      "\n",
      "Jupyter command `jupyter-nbextension` not found.\n"
     ]
    }
   ],
   "source": [
    "!pip install ipywidgets\n",
    "!jupyter nbextension enable --py widgetsnbextension --sys-prefix\n",
    "!jupyter nbextension enable --py fileupload --sys-prefix\n"
   ]
  },
  {
   "cell_type": "code",
   "execution_count": 20,
   "id": "58206f35-9af6-4e54-9d0f-8e65f9e23da5",
   "metadata": {},
   "outputs": [
    {
     "name": "stdout",
     "output_type": "stream",
     "text": [
      "Requirement already satisfied: ipywidgets in /root/miniconda3/envs/fast/lib/python3.10/site-packages (7.8.1)\n",
      "Requirement already satisfied: comm>=0.1.3 in /root/miniconda3/envs/fast/lib/python3.10/site-packages (from ipywidgets) (0.2.0)\n",
      "Requirement already satisfied: ipython-genutils~=0.2.0 in /root/miniconda3/envs/fast/lib/python3.10/site-packages (from ipywidgets) (0.2.0)\n",
      "Requirement already satisfied: traitlets>=4.3.1 in /root/miniconda3/envs/fast/lib/python3.10/site-packages (from ipywidgets) (5.7.1)\n",
      "Requirement already satisfied: widgetsnbextension~=3.6.6 in /root/miniconda3/envs/fast/lib/python3.10/site-packages (from ipywidgets) (3.6.6)\n",
      "Requirement already satisfied: ipython>=4.0.0 in /root/miniconda3/envs/fast/lib/python3.10/site-packages (from ipywidgets) (8.15.0)\n",
      "Requirement already satisfied: jupyterlab-widgets<3,>=1.0.0 in /root/miniconda3/envs/fast/lib/python3.10/site-packages (from ipywidgets) (1.1.7)\n",
      "Requirement already satisfied: backcall in /root/miniconda3/envs/fast/lib/python3.10/site-packages (from ipython>=4.0.0->ipywidgets) (0.2.0)\n",
      "Requirement already satisfied: decorator in /root/miniconda3/envs/fast/lib/python3.10/site-packages (from ipython>=4.0.0->ipywidgets) (5.1.1)\n",
      "Requirement already satisfied: jedi>=0.16 in /root/miniconda3/envs/fast/lib/python3.10/site-packages (from ipython>=4.0.0->ipywidgets) (0.18.1)\n",
      "Requirement already satisfied: matplotlib-inline in /root/miniconda3/envs/fast/lib/python3.10/site-packages (from ipython>=4.0.0->ipywidgets) (0.1.6)\n",
      "Requirement already satisfied: pickleshare in /root/miniconda3/envs/fast/lib/python3.10/site-packages (from ipython>=4.0.0->ipywidgets) (0.7.5)\n",
      "Requirement already satisfied: prompt-toolkit!=3.0.37,<3.1.0,>=3.0.30 in /root/miniconda3/envs/fast/lib/python3.10/site-packages (from ipython>=4.0.0->ipywidgets) (3.0.36)\n",
      "Requirement already satisfied: pygments>=2.4.0 in /root/miniconda3/envs/fast/lib/python3.10/site-packages (from ipython>=4.0.0->ipywidgets) (2.15.1)\n",
      "Requirement already satisfied: stack-data in /root/miniconda3/envs/fast/lib/python3.10/site-packages (from ipython>=4.0.0->ipywidgets) (0.2.0)\n",
      "Requirement already satisfied: exceptiongroup in /root/miniconda3/envs/fast/lib/python3.10/site-packages (from ipython>=4.0.0->ipywidgets) (1.0.4)\n",
      "Requirement already satisfied: pexpect>4.3 in /root/miniconda3/envs/fast/lib/python3.10/site-packages (from ipython>=4.0.0->ipywidgets) (4.8.0)\n",
      "Requirement already satisfied: notebook>=4.4.1 in /root/miniconda3/envs/fast/lib/python3.10/site-packages (from widgetsnbextension~=3.6.6->ipywidgets) (7.0.6)\n",
      "Requirement already satisfied: parso<0.9.0,>=0.8.0 in /root/miniconda3/envs/fast/lib/python3.10/site-packages (from jedi>=0.16->ipython>=4.0.0->ipywidgets) (0.8.3)\n",
      "Requirement already satisfied: jupyter-server<3,>=2.4.0 in /root/miniconda3/envs/fast/lib/python3.10/site-packages (from notebook>=4.4.1->widgetsnbextension~=3.6.6->ipywidgets) (2.10.0)\n",
      "Requirement already satisfied: jupyterlab-server<3,>=2.22.1 in /root/miniconda3/envs/fast/lib/python3.10/site-packages (from notebook>=4.4.1->widgetsnbextension~=3.6.6->ipywidgets) (2.25.1)\n",
      "Requirement already satisfied: jupyterlab<5,>=4.0.2 in /root/miniconda3/envs/fast/lib/python3.10/site-packages (from notebook>=4.4.1->widgetsnbextension~=3.6.6->ipywidgets) (4.0.8)\n",
      "Requirement already satisfied: notebook-shim<0.3,>=0.2 in /root/miniconda3/envs/fast/lib/python3.10/site-packages (from notebook>=4.4.1->widgetsnbextension~=3.6.6->ipywidgets) (0.2.3)\n",
      "Requirement already satisfied: tornado>=6.2.0 in /root/miniconda3/envs/fast/lib/python3.10/site-packages (from notebook>=4.4.1->widgetsnbextension~=3.6.6->ipywidgets) (6.3.3)\n",
      "Requirement already satisfied: ptyprocess>=0.5 in /root/miniconda3/envs/fast/lib/python3.10/site-packages (from pexpect>4.3->ipython>=4.0.0->ipywidgets) (0.7.0)\n",
      "Requirement already satisfied: wcwidth in /root/miniconda3/envs/fast/lib/python3.10/site-packages (from prompt-toolkit!=3.0.37,<3.1.0,>=3.0.30->ipython>=4.0.0->ipywidgets) (0.2.5)\n",
      "Requirement already satisfied: executing in /root/miniconda3/envs/fast/lib/python3.10/site-packages (from stack-data->ipython>=4.0.0->ipywidgets) (0.8.3)\n",
      "Requirement already satisfied: asttokens in /root/miniconda3/envs/fast/lib/python3.10/site-packages (from stack-data->ipython>=4.0.0->ipywidgets) (2.0.5)\n",
      "Requirement already satisfied: pure-eval in /root/miniconda3/envs/fast/lib/python3.10/site-packages (from stack-data->ipython>=4.0.0->ipywidgets) (0.2.2)\n",
      "Requirement already satisfied: anyio>=3.1.0 in /root/miniconda3/envs/fast/lib/python3.10/site-packages (from jupyter-server<3,>=2.4.0->notebook>=4.4.1->widgetsnbextension~=3.6.6->ipywidgets) (3.5.0)\n",
      "Requirement already satisfied: argon2-cffi in /root/miniconda3/envs/fast/lib/python3.10/site-packages (from jupyter-server<3,>=2.4.0->notebook>=4.4.1->widgetsnbextension~=3.6.6->ipywidgets) (21.3.0)\n",
      "Requirement already satisfied: jinja2 in /root/miniconda3/envs/fast/lib/python3.10/site-packages (from jupyter-server<3,>=2.4.0->notebook>=4.4.1->widgetsnbextension~=3.6.6->ipywidgets) (3.1.2)\n",
      "Requirement already satisfied: jupyter-client>=7.4.4 in /root/miniconda3/envs/fast/lib/python3.10/site-packages (from jupyter-server<3,>=2.4.0->notebook>=4.4.1->widgetsnbextension~=3.6.6->ipywidgets) (8.6.0)\n",
      "Requirement already satisfied: jupyter-core!=5.0.*,>=4.12 in /root/miniconda3/envs/fast/lib/python3.10/site-packages (from jupyter-server<3,>=2.4.0->notebook>=4.4.1->widgetsnbextension~=3.6.6->ipywidgets) (5.5.0)\n",
      "Requirement already satisfied: jupyter-events>=0.6.0 in /root/miniconda3/envs/fast/lib/python3.10/site-packages (from jupyter-server<3,>=2.4.0->notebook>=4.4.1->widgetsnbextension~=3.6.6->ipywidgets) (0.8.0)\n",
      "Requirement already satisfied: jupyter-server-terminals in /root/miniconda3/envs/fast/lib/python3.10/site-packages (from jupyter-server<3,>=2.4.0->notebook>=4.4.1->widgetsnbextension~=3.6.6->ipywidgets) (0.4.4)\n",
      "Requirement already satisfied: nbconvert>=6.4.4 in /root/miniconda3/envs/fast/lib/python3.10/site-packages (from jupyter-server<3,>=2.4.0->notebook>=4.4.1->widgetsnbextension~=3.6.6->ipywidgets) (7.10.0)\n",
      "Requirement already satisfied: nbformat>=5.3.0 in /root/miniconda3/envs/fast/lib/python3.10/site-packages (from jupyter-server<3,>=2.4.0->notebook>=4.4.1->widgetsnbextension~=3.6.6->ipywidgets) (5.9.2)\n",
      "Requirement already satisfied: overrides in /root/miniconda3/envs/fast/lib/python3.10/site-packages (from jupyter-server<3,>=2.4.0->notebook>=4.4.1->widgetsnbextension~=3.6.6->ipywidgets) (7.4.0)\n",
      "Requirement already satisfied: packaging in /root/miniconda3/envs/fast/lib/python3.10/site-packages (from jupyter-server<3,>=2.4.0->notebook>=4.4.1->widgetsnbextension~=3.6.6->ipywidgets) (23.1)\n",
      "Requirement already satisfied: prometheus-client in /root/miniconda3/envs/fast/lib/python3.10/site-packages (from jupyter-server<3,>=2.4.0->notebook>=4.4.1->widgetsnbextension~=3.6.6->ipywidgets) (0.14.1)\n",
      "Requirement already satisfied: pyzmq>=24 in /root/miniconda3/envs/fast/lib/python3.10/site-packages (from jupyter-server<3,>=2.4.0->notebook>=4.4.1->widgetsnbextension~=3.6.6->ipywidgets) (25.1.0)\n",
      "Requirement already satisfied: send2trash>=1.8.2 in /root/miniconda3/envs/fast/lib/python3.10/site-packages (from jupyter-server<3,>=2.4.0->notebook>=4.4.1->widgetsnbextension~=3.6.6->ipywidgets) (1.8.2)\n",
      "Requirement already satisfied: terminado>=0.8.3 in /root/miniconda3/envs/fast/lib/python3.10/site-packages (from jupyter-server<3,>=2.4.0->notebook>=4.4.1->widgetsnbextension~=3.6.6->ipywidgets) (0.17.1)\n",
      "Requirement already satisfied: websocket-client in /root/miniconda3/envs/fast/lib/python3.10/site-packages (from jupyter-server<3,>=2.4.0->notebook>=4.4.1->widgetsnbextension~=3.6.6->ipywidgets) (0.58.0)\n",
      "Requirement already satisfied: async-lru>=1.0.0 in /root/miniconda3/envs/fast/lib/python3.10/site-packages (from jupyterlab<5,>=4.0.2->notebook>=4.4.1->widgetsnbextension~=3.6.6->ipywidgets) (2.0.4)\n",
      "Requirement already satisfied: ipykernel in /root/miniconda3/envs/fast/lib/python3.10/site-packages (from jupyterlab<5,>=4.0.2->notebook>=4.4.1->widgetsnbextension~=3.6.6->ipywidgets) (6.25.0)\n",
      "Requirement already satisfied: jupyter-lsp>=2.0.0 in /root/miniconda3/envs/fast/lib/python3.10/site-packages (from jupyterlab<5,>=4.0.2->notebook>=4.4.1->widgetsnbextension~=3.6.6->ipywidgets) (2.2.0)\n",
      "Requirement already satisfied: tomli in /root/miniconda3/envs/fast/lib/python3.10/site-packages (from jupyterlab<5,>=4.0.2->notebook>=4.4.1->widgetsnbextension~=3.6.6->ipywidgets) (2.0.1)\n",
      "Requirement already satisfied: babel>=2.10 in /root/miniconda3/envs/fast/lib/python3.10/site-packages (from jupyterlab-server<3,>=2.22.1->notebook>=4.4.1->widgetsnbextension~=3.6.6->ipywidgets) (2.11.0)\n",
      "Requirement already satisfied: json5>=0.9.0 in /root/miniconda3/envs/fast/lib/python3.10/site-packages (from jupyterlab-server<3,>=2.22.1->notebook>=4.4.1->widgetsnbextension~=3.6.6->ipywidgets) (0.9.6)\n",
      "Requirement already satisfied: jsonschema>=4.18.0 in /root/miniconda3/envs/fast/lib/python3.10/site-packages (from jupyterlab-server<3,>=2.22.1->notebook>=4.4.1->widgetsnbextension~=3.6.6->ipywidgets) (4.19.2)\n",
      "Requirement already satisfied: requests>=2.31 in /root/miniconda3/envs/fast/lib/python3.10/site-packages (from jupyterlab-server<3,>=2.22.1->notebook>=4.4.1->widgetsnbextension~=3.6.6->ipywidgets) (2.31.0)\n",
      "Requirement already satisfied: six in /root/miniconda3/envs/fast/lib/python3.10/site-packages (from asttokens->stack-data->ipython>=4.0.0->ipywidgets) (1.16.0)\n",
      "Requirement already satisfied: idna>=2.8 in /root/miniconda3/envs/fast/lib/python3.10/site-packages (from anyio>=3.1.0->jupyter-server<3,>=2.4.0->notebook>=4.4.1->widgetsnbextension~=3.6.6->ipywidgets) (3.4)\n",
      "Requirement already satisfied: sniffio>=1.1 in /root/miniconda3/envs/fast/lib/python3.10/site-packages (from anyio>=3.1.0->jupyter-server<3,>=2.4.0->notebook>=4.4.1->widgetsnbextension~=3.6.6->ipywidgets) (1.2.0)\n",
      "Requirement already satisfied: typing-extensions>=4.0.0 in /root/miniconda3/envs/fast/lib/python3.10/site-packages (from async-lru>=1.0.0->jupyterlab<5,>=4.0.2->notebook>=4.4.1->widgetsnbextension~=3.6.6->ipywidgets) (4.7.1)\n",
      "Requirement already satisfied: pytz>=2015.7 in /root/miniconda3/envs/fast/lib/python3.10/site-packages (from babel>=2.10->jupyterlab-server<3,>=2.22.1->notebook>=4.4.1->widgetsnbextension~=3.6.6->ipywidgets) (2023.3.post1)\n",
      "Requirement already satisfied: MarkupSafe>=2.0 in /root/miniconda3/envs/fast/lib/python3.10/site-packages (from jinja2->jupyter-server<3,>=2.4.0->notebook>=4.4.1->widgetsnbextension~=3.6.6->ipywidgets) (2.1.1)\n",
      "Requirement already satisfied: attrs>=22.2.0 in /root/miniconda3/envs/fast/lib/python3.10/site-packages (from jsonschema>=4.18.0->jupyterlab-server<3,>=2.22.1->notebook>=4.4.1->widgetsnbextension~=3.6.6->ipywidgets) (23.1.0)\n",
      "Requirement already satisfied: jsonschema-specifications>=2023.03.6 in /root/miniconda3/envs/fast/lib/python3.10/site-packages (from jsonschema>=4.18.0->jupyterlab-server<3,>=2.22.1->notebook>=4.4.1->widgetsnbextension~=3.6.6->ipywidgets) (2023.7.1)\n",
      "Requirement already satisfied: referencing>=0.28.4 in /root/miniconda3/envs/fast/lib/python3.10/site-packages (from jsonschema>=4.18.0->jupyterlab-server<3,>=2.22.1->notebook>=4.4.1->widgetsnbextension~=3.6.6->ipywidgets) (0.30.2)\n",
      "Requirement already satisfied: rpds-py>=0.7.1 in /root/miniconda3/envs/fast/lib/python3.10/site-packages (from jsonschema>=4.18.0->jupyterlab-server<3,>=2.22.1->notebook>=4.4.1->widgetsnbextension~=3.6.6->ipywidgets) (0.10.6)\n",
      "Requirement already satisfied: python-dateutil>=2.8.2 in /root/miniconda3/envs/fast/lib/python3.10/site-packages (from jupyter-client>=7.4.4->jupyter-server<3,>=2.4.0->notebook>=4.4.1->widgetsnbextension~=3.6.6->ipywidgets) (2.8.2)\n",
      "Requirement already satisfied: platformdirs>=2.5 in /root/miniconda3/envs/fast/lib/python3.10/site-packages (from jupyter-core!=5.0.*,>=4.12->jupyter-server<3,>=2.4.0->notebook>=4.4.1->widgetsnbextension~=3.6.6->ipywidgets) (3.10.0)\n",
      "Requirement already satisfied: python-json-logger>=2.0.4 in /root/miniconda3/envs/fast/lib/python3.10/site-packages (from jupyter-events>=0.6.0->jupyter-server<3,>=2.4.0->notebook>=4.4.1->widgetsnbextension~=3.6.6->ipywidgets) (2.0.7)\n",
      "Requirement already satisfied: pyyaml>=5.3 in /root/miniconda3/envs/fast/lib/python3.10/site-packages (from jupyter-events>=0.6.0->jupyter-server<3,>=2.4.0->notebook>=4.4.1->widgetsnbextension~=3.6.6->ipywidgets) (6.0.1)\n",
      "Requirement already satisfied: rfc3339-validator in /root/miniconda3/envs/fast/lib/python3.10/site-packages (from jupyter-events>=0.6.0->jupyter-server<3,>=2.4.0->notebook>=4.4.1->widgetsnbextension~=3.6.6->ipywidgets) (0.1.4)\n",
      "Requirement already satisfied: rfc3986-validator>=0.1.1 in /root/miniconda3/envs/fast/lib/python3.10/site-packages (from jupyter-events>=0.6.0->jupyter-server<3,>=2.4.0->notebook>=4.4.1->widgetsnbextension~=3.6.6->ipywidgets) (0.1.1)\n",
      "Requirement already satisfied: beautifulsoup4 in /root/miniconda3/envs/fast/lib/python3.10/site-packages (from nbconvert>=6.4.4->jupyter-server<3,>=2.4.0->notebook>=4.4.1->widgetsnbextension~=3.6.6->ipywidgets) (4.12.2)\n",
      "Requirement already satisfied: bleach!=5.0.0 in /root/miniconda3/envs/fast/lib/python3.10/site-packages (from nbconvert>=6.4.4->jupyter-server<3,>=2.4.0->notebook>=4.4.1->widgetsnbextension~=3.6.6->ipywidgets) (4.1.0)\n",
      "Requirement already satisfied: defusedxml in /root/miniconda3/envs/fast/lib/python3.10/site-packages (from nbconvert>=6.4.4->jupyter-server<3,>=2.4.0->notebook>=4.4.1->widgetsnbextension~=3.6.6->ipywidgets) (0.7.1)\n",
      "Requirement already satisfied: jupyterlab-pygments in /root/miniconda3/envs/fast/lib/python3.10/site-packages (from nbconvert>=6.4.4->jupyter-server<3,>=2.4.0->notebook>=4.4.1->widgetsnbextension~=3.6.6->ipywidgets) (0.1.2)\n",
      "Requirement already satisfied: mistune<4,>=2.0.3 in /root/miniconda3/envs/fast/lib/python3.10/site-packages (from nbconvert>=6.4.4->jupyter-server<3,>=2.4.0->notebook>=4.4.1->widgetsnbextension~=3.6.6->ipywidgets) (2.0.4)\n",
      "Requirement already satisfied: nbclient>=0.5.0 in /root/miniconda3/envs/fast/lib/python3.10/site-packages (from nbconvert>=6.4.4->jupyter-server<3,>=2.4.0->notebook>=4.4.1->widgetsnbextension~=3.6.6->ipywidgets) (0.8.0)\n",
      "Requirement already satisfied: pandocfilters>=1.4.1 in /root/miniconda3/envs/fast/lib/python3.10/site-packages (from nbconvert>=6.4.4->jupyter-server<3,>=2.4.0->notebook>=4.4.1->widgetsnbextension~=3.6.6->ipywidgets) (1.5.0)\n",
      "Requirement already satisfied: tinycss2 in /root/miniconda3/envs/fast/lib/python3.10/site-packages (from nbconvert>=6.4.4->jupyter-server<3,>=2.4.0->notebook>=4.4.1->widgetsnbextension~=3.6.6->ipywidgets) (1.2.1)\n",
      "Requirement already satisfied: fastjsonschema in /root/miniconda3/envs/fast/lib/python3.10/site-packages (from nbformat>=5.3.0->jupyter-server<3,>=2.4.0->notebook>=4.4.1->widgetsnbextension~=3.6.6->ipywidgets) (2.16.2)\n",
      "Requirement already satisfied: charset-normalizer<4,>=2 in /root/miniconda3/envs/fast/lib/python3.10/site-packages (from requests>=2.31->jupyterlab-server<3,>=2.22.1->notebook>=4.4.1->widgetsnbextension~=3.6.6->ipywidgets) (2.0.4)\n",
      "Requirement already satisfied: urllib3<3,>=1.21.1 in /root/miniconda3/envs/fast/lib/python3.10/site-packages (from requests>=2.31->jupyterlab-server<3,>=2.22.1->notebook>=4.4.1->widgetsnbextension~=3.6.6->ipywidgets) (1.26.18)\n",
      "Requirement already satisfied: certifi>=2017.4.17 in /root/miniconda3/envs/fast/lib/python3.10/site-packages (from requests>=2.31->jupyterlab-server<3,>=2.22.1->notebook>=4.4.1->widgetsnbextension~=3.6.6->ipywidgets) (2023.11.17)\n",
      "Requirement already satisfied: argon2-cffi-bindings in /root/miniconda3/envs/fast/lib/python3.10/site-packages (from argon2-cffi->jupyter-server<3,>=2.4.0->notebook>=4.4.1->widgetsnbextension~=3.6.6->ipywidgets) (21.2.0)\n",
      "Requirement already satisfied: debugpy>=1.6.5 in /root/miniconda3/envs/fast/lib/python3.10/site-packages (from ipykernel->jupyterlab<5,>=4.0.2->notebook>=4.4.1->widgetsnbextension~=3.6.6->ipywidgets) (1.6.7)\n",
      "Requirement already satisfied: nest-asyncio in /root/miniconda3/envs/fast/lib/python3.10/site-packages (from ipykernel->jupyterlab<5,>=4.0.2->notebook>=4.4.1->widgetsnbextension~=3.6.6->ipywidgets) (1.5.6)\n",
      "Requirement already satisfied: psutil in /root/miniconda3/envs/fast/lib/python3.10/site-packages (from ipykernel->jupyterlab<5,>=4.0.2->notebook>=4.4.1->widgetsnbextension~=3.6.6->ipywidgets) (5.9.0)\n",
      "Requirement already satisfied: webencodings in /root/miniconda3/envs/fast/lib/python3.10/site-packages (from bleach!=5.0.0->nbconvert>=6.4.4->jupyter-server<3,>=2.4.0->notebook>=4.4.1->widgetsnbextension~=3.6.6->ipywidgets) (0.5.1)\n",
      "Requirement already satisfied: fqdn in /root/miniconda3/envs/fast/lib/python3.10/site-packages (from jsonschema[format-nongpl]>=4.18.0->jupyter-events>=0.6.0->jupyter-server<3,>=2.4.0->notebook>=4.4.1->widgetsnbextension~=3.6.6->ipywidgets) (1.5.1)\n",
      "Requirement already satisfied: isoduration in /root/miniconda3/envs/fast/lib/python3.10/site-packages (from jsonschema[format-nongpl]>=4.18.0->jupyter-events>=0.6.0->jupyter-server<3,>=2.4.0->notebook>=4.4.1->widgetsnbextension~=3.6.6->ipywidgets) (20.11.0)\n",
      "Requirement already satisfied: jsonpointer>1.13 in /root/miniconda3/envs/fast/lib/python3.10/site-packages (from jsonschema[format-nongpl]>=4.18.0->jupyter-events>=0.6.0->jupyter-server<3,>=2.4.0->notebook>=4.4.1->widgetsnbextension~=3.6.6->ipywidgets) (2.4)\n",
      "Requirement already satisfied: uri-template in /root/miniconda3/envs/fast/lib/python3.10/site-packages (from jsonschema[format-nongpl]>=4.18.0->jupyter-events>=0.6.0->jupyter-server<3,>=2.4.0->notebook>=4.4.1->widgetsnbextension~=3.6.6->ipywidgets) (1.3.0)\n",
      "Requirement already satisfied: webcolors>=1.11 in /root/miniconda3/envs/fast/lib/python3.10/site-packages (from jsonschema[format-nongpl]>=4.18.0->jupyter-events>=0.6.0->jupyter-server<3,>=2.4.0->notebook>=4.4.1->widgetsnbextension~=3.6.6->ipywidgets) (1.13)\n",
      "Requirement already satisfied: cffi>=1.0.1 in /root/miniconda3/envs/fast/lib/python3.10/site-packages (from argon2-cffi-bindings->argon2-cffi->jupyter-server<3,>=2.4.0->notebook>=4.4.1->widgetsnbextension~=3.6.6->ipywidgets) (1.16.0)\n",
      "Requirement already satisfied: soupsieve>1.2 in /root/miniconda3/envs/fast/lib/python3.10/site-packages (from beautifulsoup4->nbconvert>=6.4.4->jupyter-server<3,>=2.4.0->notebook>=4.4.1->widgetsnbextension~=3.6.6->ipywidgets) (2.5)\n",
      "Requirement already satisfied: pycparser in /root/miniconda3/envs/fast/lib/python3.10/site-packages (from cffi>=1.0.1->argon2-cffi-bindings->argon2-cffi->jupyter-server<3,>=2.4.0->notebook>=4.4.1->widgetsnbextension~=3.6.6->ipywidgets) (2.21)\n",
      "Requirement already satisfied: arrow>=0.15.0 in /root/miniconda3/envs/fast/lib/python3.10/site-packages (from isoduration->jsonschema[format-nongpl]>=4.18.0->jupyter-events>=0.6.0->jupyter-server<3,>=2.4.0->notebook>=4.4.1->widgetsnbextension~=3.6.6->ipywidgets) (1.3.0)\n",
      "Requirement already satisfied: types-python-dateutil>=2.8.10 in /root/miniconda3/envs/fast/lib/python3.10/site-packages (from arrow>=0.15.0->isoduration->jsonschema[format-nongpl]>=4.18.0->jupyter-events>=0.6.0->jupyter-server<3,>=2.4.0->notebook>=4.4.1->widgetsnbextension~=3.6.6->ipywidgets) (2.8.19.14)\n",
      "\u001b[33mWARNING: Running pip as the 'root' user can result in broken permissions and conflicting behaviour with the system package manager. It is recommended to use a virtual environment instead: https://pip.pypa.io/warnings/venv\u001b[0m\u001b[33m\n",
      "\u001b[0musage: jupyter [-h] [--version] [--config-dir] [--data-dir] [--runtime-dir]\n",
      "               [--paths] [--json] [--debug]\n",
      "               [subcommand]\n",
      "\n",
      "Jupyter: Interactive Computing\n",
      "\n",
      "positional arguments:\n",
      "  subcommand     the subcommand to launch\n",
      "\n",
      "options:\n",
      "  -h, --help     show this help message and exit\n",
      "  --version      show the versions of core jupyter packages and exit\n",
      "  --config-dir   show Jupyter config dir\n",
      "  --data-dir     show Jupyter data dir\n",
      "  --runtime-dir  show Jupyter runtime dir\n",
      "  --paths        show all Jupyter paths. Add --json for machine-readable\n",
      "                 format.\n",
      "  --json         output paths as machine-readable json\n",
      "  --debug        output debug information about paths\n",
      "\n",
      "Available subcommands: console-script.py console.exe contrib dejavu dejavu.exe\n",
      "events events.exe execute execute.exe kernel kernel.exe kernelspec\n",
      "kernelspec.exe lab lab.exe labextension labextension.exe labhub labhub.exe\n",
      "migrate migrate.exe nbconvert nbconvert.exe nbextensions_configurator notebook\n",
      "notebook.exe qtconsole-script.py qtconsole.exe run run.exe script.py server\n",
      "server.exe troubleshoot troubleshoot.exe trust trust.exe\n",
      "\n",
      "Jupyter command `jupyter-nbextension` not found.\n",
      "usage: jupyter [-h] [--version] [--config-dir] [--data-dir] [--runtime-dir]\n",
      "               [--paths] [--json] [--debug]\n",
      "               [subcommand]\n",
      "\n",
      "Jupyter: Interactive Computing\n",
      "\n",
      "positional arguments:\n",
      "  subcommand     the subcommand to launch\n",
      "\n",
      "options:\n",
      "  -h, --help     show this help message and exit\n",
      "  --version      show the versions of core jupyter packages and exit\n",
      "  --config-dir   show Jupyter config dir\n",
      "  --data-dir     show Jupyter data dir\n",
      "  --runtime-dir  show Jupyter runtime dir\n",
      "  --paths        show all Jupyter paths. Add --json for machine-readable\n",
      "                 format.\n",
      "  --json         output paths as machine-readable json\n",
      "  --debug        output debug information about paths\n",
      "\n",
      "Available subcommands: console-script.py console.exe contrib dejavu dejavu.exe\n",
      "events events.exe execute execute.exe kernel kernel.exe kernelspec\n",
      "kernelspec.exe lab lab.exe labextension labextension.exe labhub labhub.exe\n",
      "migrate migrate.exe nbconvert nbconvert.exe nbextensions_configurator notebook\n",
      "notebook.exe qtconsole-script.py qtconsole.exe run run.exe script.py server\n",
      "server.exe troubleshoot troubleshoot.exe trust trust.exe\n",
      "\n",
      "Jupyter command `jupyter-nbextension` not found.\n"
     ]
    }
   ],
   "source": [
    "!pip install ipywidgets\n",
    "!jupyter nbextension enable --py widgetsnbextension\n",
    "!jupyter nbextension enable --py fileupload\n"
   ]
  }
 ],
 "metadata": {
  "kernelspec": {
   "display_name": "Python 3 (ipykernel)",
   "language": "python",
   "name": "python3"
  },
  "language_info": {
   "codemirror_mode": {
    "name": "ipython",
    "version": 3
   },
   "file_extension": ".py",
   "mimetype": "text/x-python",
   "name": "python",
   "nbconvert_exporter": "python",
   "pygments_lexer": "ipython3",
   "version": "3.10.13"
  }
 },
 "nbformat": 4,
 "nbformat_minor": 5
}
