{
 "cells": [
  {
   "cell_type": "markdown",
   "id": "de160284-7f23-4e48-b28a-94ce3715d89c",
   "metadata": {},
   "source": [
    "# FULL MNIST"
   ]
  },
  {
   "cell_type": "code",
   "execution_count": 10,
   "id": "71f23c5d-58c9-43b4-8d58-1621dbd14117",
   "metadata": {},
   "outputs": [
    {
     "name": "stdout",
     "output_type": "stream",
     "text": [
      "Requirement already satisfied: dataset in /root/miniconda3/envs/fast/lib/python3.10/site-packages (1.6.2)\n",
      "Requirement already satisfied: sqlalchemy<2.0.0,>=1.3.2 in /root/miniconda3/envs/fast/lib/python3.10/site-packages (from dataset) (1.4.51)\n",
      "Requirement already satisfied: alembic>=0.6.2 in /root/miniconda3/envs/fast/lib/python3.10/site-packages (from dataset) (1.13.1)\n",
      "Requirement already satisfied: banal>=1.0.1 in /root/miniconda3/envs/fast/lib/python3.10/site-packages (from dataset) (1.0.6)\n",
      "Requirement already satisfied: Mako in /root/miniconda3/envs/fast/lib/python3.10/site-packages (from alembic>=0.6.2->dataset) (1.3.0)\n",
      "Requirement already satisfied: typing-extensions>=4 in /root/miniconda3/envs/fast/lib/python3.10/site-packages (from alembic>=0.6.2->dataset) (4.7.1)\n",
      "Requirement already satisfied: greenlet!=0.4.17 in /root/miniconda3/envs/fast/lib/python3.10/site-packages (from sqlalchemy<2.0.0,>=1.3.2->dataset) (3.0.3)\n",
      "Requirement already satisfied: MarkupSafe>=0.9.2 in /root/miniconda3/envs/fast/lib/python3.10/site-packages (from Mako->alembic>=0.6.2->dataset) (2.1.1)\n",
      "\u001b[33mWARNING: Running pip as the 'root' user can result in broken permissions and conflicting behaviour with the system package manager. It is recommended to use a virtual environment instead: https://pip.pypa.io/warnings/venv\u001b[0m\u001b[33m\n",
      "\u001b[0m"
     ]
    }
   ],
   "source": [
    "#hide\n",
    "!pip install dataset"
   ]
  },
  {
   "cell_type": "code",
   "execution_count": 11,
   "id": "4cb2af7b-0058-4982-9465-3f2d1bb97dc6",
   "metadata": {},
   "outputs": [],
   "source": [
    "#from fastai.vision.all import DataLoader, DataLoaders, vision_learner, resnet18, PILImage, Resize\n",
    "from fastai.vision.all import *\n",
    "from fastai.data.core import L\n",
    "from fastai.metrics import accuracy\n",
    "import torch.nn.functional as F"
   ]
  },
  {
   "cell_type": "code",
   "execution_count": 12,
   "id": "9bca21ae-1d46-460f-8932-7019bfb22c85",
   "metadata": {},
   "outputs": [
    {
     "data": {
      "text/plain": [
       "DatasetDict({\n",
       "    train: Dataset({\n",
       "        features: ['image', 'label'],\n",
       "        num_rows: 60000\n",
       "    })\n",
       "    test: Dataset({\n",
       "        features: ['image', 'label'],\n",
       "        num_rows: 10000\n",
       "    })\n",
       "})"
      ]
     },
     "execution_count": 12,
     "metadata": {},
     "output_type": "execute_result"
    }
   ],
   "source": [
    "from datasets import load_dataset\n",
    "\n",
    "dataset = load_dataset(\"mnist\")\n",
    "dataset"
   ]
  },
  {
   "cell_type": "code",
   "execution_count": 13,
   "id": "cd6ebb3f-613d-494b-9961-8ca5b7565001",
   "metadata": {},
   "outputs": [
    {
     "data": {
      "image/jpeg": "[encoded data removed]",
      "image/png": "[encoded data removed]",
      "text/plain": [
       "<PIL.PngImagePlugin.PngImageFile image mode=L size=28x28>"
      ]
     },
     "metadata": {},
     "output_type": "display_data"
    },
    {
     "data": {
      "text/plain": [
       "(None, PIL.PngImagePlugin.PngImageFile)"
      ]
     },
     "execution_count": 13,
     "metadata": {},
     "output_type": "execute_result"
    }
   ],
   "source": [
    "img3 = dataset['train']['image'][0]\n",
    "img3.show(), type(img3)"
   ]
  },
  {
   "cell_type": "code",
   "execution_count": 50,
   "id": "f92e88c3-cd3e-4639-8272-01f600c5e1bc",
   "metadata": {},
   "outputs": [
    {
     "data": {
      "text/plain": [
       "fastai.vision.core.PILImage"
      ]
     },
     "execution_count": 50,
     "metadata": {},
     "output_type": "execute_result"
    }
   ],
   "source": [
    "type(PILImage.create(img3))"
   ]
  },
  {
   "cell_type": "code",
   "execution_count": 14,
   "id": "11a6cf51-545f-4196-8cfc-cf1c2f853af7",
   "metadata": {},
   "outputs": [
    {
     "data": {
      "text/plain": [
       "(5, int)"
      ]
     },
     "execution_count": 14,
     "metadata": {},
     "output_type": "execute_result"
    }
   ],
   "source": [
    "dataset['train']['label'][0], type(dataset['train']['label'][0])"
   ]
  },
  {
   "cell_type": "code",
   "execution_count": 15,
   "id": "b12e08e1-343c-43dc-873c-7522b7ebf787",
   "metadata": {},
   "outputs": [
    {
     "data": {
      "text/plain": [
       "(Dataset({\n",
       "     features: ['image', 'label'],\n",
       "     num_rows: 60000\n",
       " }),\n",
       " Dataset({\n",
       "     features: ['image', 'label'],\n",
       "     num_rows: 10000\n",
       " }))"
      ]
     },
     "execution_count": 15,
     "metadata": {},
     "output_type": "execute_result"
    }
   ],
   "source": [
    "train_ds = dataset['train']\n",
    "test_ds = dataset['test']\n",
    "train_ds, test_ds"
   ]
  },
  {
   "cell_type": "code",
   "execution_count": 16,
   "id": "f511fbb3-c8f6-47da-93b3-bfbd4b669307",
   "metadata": {},
   "outputs": [
    {
     "data": {
      "text/plain": [
       "5"
      ]
     },
     "execution_count": 16,
     "metadata": {},
     "output_type": "execute_result"
    }
   ],
   "source": [
    "train_ds[0]['label']"
   ]
  },
  {
   "cell_type": "code",
   "execution_count": 61,
   "id": "7874bb9f-6767-4bd1-a9f4-5a0bbfb0d153",
   "metadata": {},
   "outputs": [],
   "source": [
    "mnist = DataBlock(\n",
    "    blocks=(ImageBlock(cls=PILImage), CategoryBlock),\n",
    "    get_x=lambda x: PILImage.create(x['image']).convert('RGB'),\n",
    "    get_y=lambda x: x['label'],\n",
    "    splitter=RandomSplitter(valid_pct=0.2),\n",
    ")   "
   ]
  },
  {
   "cell_type": "code",
   "execution_count": 63,
   "id": "730c0741-01bb-412e-a2db-e9a5272bb321",
   "metadata": {},
   "outputs": [
    {
     "data": {
      "text/plain": [
       "<fastai.data.core.DataLoaders at 0x7fadf83ba950>"
      ]
     },
     "execution_count": 63,
     "metadata": {},
     "output_type": "execute_result"
    }
   ],
   "source": [
    "dls = mnist.dataloaders(train_ds)\n",
    "dls"
   ]
  },
  {
   "cell_type": "code",
   "execution_count": 64,
   "id": "2e241c30-3866-41f2-8f1b-95c9c2dffa1b",
   "metadata": {},
   "outputs": [
    {
     "data": {
      "text/plain": [
       "(#48000) [(PILImage mode=RGB size=28x28, TensorCategory(9)),(PILImage mode=RGB size=28x28, TensorCategory(0)),(PILImage mode=RGB size=28x28, TensorCategory(6)),(PILImage mode=RGB size=28x28, TensorCategory(4)),(PILImage mode=RGB size=28x28, TensorCategory(9)),(PILImage mode=RGB size=28x28, TensorCategory(2)),(PILImage mode=RGB size=28x28, TensorCategory(6)),(PILImage mode=RGB size=28x28, TensorCategory(8)),(PILImage mode=RGB size=28x28, TensorCategory(6)),(PILImage mode=RGB size=28x28, TensorCategory(6))...]"
      ]
     },
     "execution_count": 64,
     "metadata": {},
     "output_type": "execute_result"
    }
   ],
   "source": [
    "dls.train_ds"
   ]
  },
  {
   "cell_type": "code",
   "execution_count": 65,
   "id": "54c751c8-d5e9-4795-b8f5-eec8e30a2b0d",
   "metadata": {},
   "outputs": [],
   "source": [
    "learn = vision_learner(dls, resnet18, pretrained=False, loss_func=F.cross_entropy, metrics=accuracy)"
   ]
  },
  {
   "cell_type": "code",
   "execution_count": 68,
   "id": "665391bb-e5c0-4d92-8af3-b3deec4e9691",
   "metadata": {},
   "outputs": [
    {
     "data": {
      "text/html": [
       "\n",
       "<style>\n",
       "    /* Turns off some styling */\n",
       "    progress {\n",
       "        /* gets rid of default border in Firefox and Opera. */\n",
       "        border: none;\n",
       "        /* Needs to be in here for Safari polyfill so background images work as expected. */\n",
       "        background-size: auto;\n",
       "    }\n",
       "    progress:not([value]), progress:not([value])::-webkit-progress-bar {\n",
       "        background: repeating-linear-gradient(45deg, #7e7e7e, #7e7e7e 10px, #5c5c5c 10px, #5c5c5c 20px);\n",
       "    }\n",
       "    .progress-bar-interrupted, .progress-bar-interrupted::-webkit-progress-bar {\n",
       "        background: #F44336;\n",
       "    }\n",
       "</style>\n"
      ],
      "text/plain": [
       "<IPython.core.display.HTML object>"
      ]
     },
     "metadata": {},
     "output_type": "display_data"
    },
    {
     "data": {
      "text/html": [
       "<table border=\"1\" class=\"dataframe\">\n",
       "  <thead>\n",
       "    <tr style=\"text-align: left;\">\n",
       "      <th>epoch</th>\n",
       "      <th>train_loss</th>\n",
       "      <th>valid_loss</th>\n",
       "      <th>accuracy</th>\n",
       "      <th>time</th>\n",
       "    </tr>\n",
       "  </thead>\n",
       "  <tbody>\n",
       "    <tr>\n",
       "      <td>0</td>\n",
       "      <td>0.263067</td>\n",
       "      <td>31.031359</td>\n",
       "      <td>0.932583</td>\n",
       "      <td>00:34</td>\n",
       "    </tr>\n",
       "    <tr>\n",
       "      <td>1</td>\n",
       "      <td>0.996403</td>\n",
       "      <td>781.211853</td>\n",
       "      <td>0.843417</td>\n",
       "      <td>00:34</td>\n",
       "    </tr>\n",
       "    <tr>\n",
       "      <td>2</td>\n",
       "      <td>1.248157</td>\n",
       "      <td>48.445045</td>\n",
       "      <td>0.933000</td>\n",
       "      <td>00:33</td>\n",
       "    </tr>\n",
       "    <tr>\n",
       "      <td>3</td>\n",
       "      <td>1.109637</td>\n",
       "      <td>1.883233</td>\n",
       "      <td>0.940083</td>\n",
       "      <td>00:32</td>\n",
       "    </tr>\n",
       "    <tr>\n",
       "      <td>4</td>\n",
       "      <td>0.737672</td>\n",
       "      <td>238.556839</td>\n",
       "      <td>0.964500</td>\n",
       "      <td>00:33</td>\n",
       "    </tr>\n",
       "    <tr>\n",
       "      <td>5</td>\n",
       "      <td>0.464649</td>\n",
       "      <td>0.576921</td>\n",
       "      <td>0.955583</td>\n",
       "      <td>00:33</td>\n",
       "    </tr>\n",
       "    <tr>\n",
       "      <td>6</td>\n",
       "      <td>0.217559</td>\n",
       "      <td>0.156954</td>\n",
       "      <td>0.981750</td>\n",
       "      <td>00:33</td>\n",
       "    </tr>\n",
       "    <tr>\n",
       "      <td>7</td>\n",
       "      <td>0.081762</td>\n",
       "      <td>0.076060</td>\n",
       "      <td>0.986333</td>\n",
       "      <td>00:33</td>\n",
       "    </tr>\n",
       "    <tr>\n",
       "      <td>8</td>\n",
       "      <td>0.022330</td>\n",
       "      <td>0.042081</td>\n",
       "      <td>0.991583</td>\n",
       "      <td>00:33</td>\n",
       "    </tr>\n",
       "    <tr>\n",
       "      <td>9</td>\n",
       "      <td>0.015258</td>\n",
       "      <td>0.037065</td>\n",
       "      <td>0.992583</td>\n",
       "      <td>00:33</td>\n",
       "    </tr>\n",
       "  </tbody>\n",
       "</table>"
      ],
      "text/plain": [
       "<IPython.core.display.HTML object>"
      ]
     },
     "metadata": {},
     "output_type": "display_data"
    }
   ],
   "source": [
    "learn.fit_one_cycle(10, 0.1)"
   ]
  },
  {
   "cell_type": "code",
   "execution_count": 28,
   "id": "2c7e6907-5f67-444b-9e8e-53f3737d1dd8",
   "metadata": {},
   "outputs": [
    {
     "data": {
      "text/plain": [
       "[0, 1, 2, 3, 4, 5, 6, 7, 8, 9]"
      ]
     },
     "execution_count": 28,
     "metadata": {},
     "output_type": "execute_result"
    }
   ],
   "source": [
    "learn.dls.vocab"
   ]
  },
  {
   "cell_type": "code",
   "execution_count": 90,
   "id": "ac92a3b7-fbdd-4a46-86ac-03503314dc6c",
   "metadata": {},
   "outputs": [
    {
     "data": {
      "text/html": [
       "\n",
       "<style>\n",
       "    /* Turns off some styling */\n",
       "    progress {\n",
       "        /* gets rid of default border in Firefox and Opera. */\n",
       "        border: none;\n",
       "        /* Needs to be in here for Safari polyfill so background images work as expected. */\n",
       "        background-size: auto;\n",
       "    }\n",
       "    progress:not([value]), progress:not([value])::-webkit-progress-bar {\n",
       "        background: repeating-linear-gradient(45deg, #7e7e7e, #7e7e7e 10px, #5c5c5c 10px, #5c5c5c 20px);\n",
       "    }\n",
       "    .progress-bar-interrupted, .progress-bar-interrupted::-webkit-progress-bar {\n",
       "        background: #F44336;\n",
       "    }\n",
       "</style>\n"
      ],
      "text/plain": [
       "<IPython.core.display.HTML object>"
      ]
     },
     "metadata": {},
     "output_type": "display_data"
    },
    {
     "data": {
      "text/html": [],
      "text/plain": [
       "<IPython.core.display.HTML object>"
      ]
     },
     "metadata": {},
     "output_type": "display_data"
    },
    {
     "data": {
      "text/plain": [
       "(#2) [0.037064943462610245,0.9925833344459534]"
      ]
     },
     "execution_count": 90,
     "metadata": {},
     "output_type": "execute_result"
    }
   ],
   "source": [
    "learn.validate()"
   ]
  },
  {
   "cell_type": "code",
   "execution_count": 94,
   "id": "3c4149bc-294f-4b86-b293-f2f700f9cd57",
   "metadata": {},
   "outputs": [
    {
     "data": {
      "text/html": [
       "\n",
       "<style>\n",
       "    /* Turns off some styling */\n",
       "    progress {\n",
       "        /* gets rid of default border in Firefox and Opera. */\n",
       "        border: none;\n",
       "        /* Needs to be in here for Safari polyfill so background images work as expected. */\n",
       "        background-size: auto;\n",
       "    }\n",
       "    progress:not([value]), progress:not([value])::-webkit-progress-bar {\n",
       "        background: repeating-linear-gradient(45deg, #7e7e7e, #7e7e7e 10px, #5c5c5c 10px, #5c5c5c 20px);\n",
       "    }\n",
       "    .progress-bar-interrupted, .progress-bar-interrupted::-webkit-progress-bar {\n",
       "        background: #F44336;\n",
       "    }\n",
       "</style>\n"
      ],
      "text/plain": [
       "<IPython.core.display.HTML object>"
      ]
     },
     "metadata": {},
     "output_type": "display_data"
    },
    {
     "data": {
      "text/html": [],
      "text/plain": [
       "<IPython.core.display.HTML object>"
      ]
     },
     "metadata": {},
     "output_type": "display_data"
    }
   ],
   "source": [
    "#test_dls = mnist.dataloaders(test_ds)\n",
    "test_dls = learn.dls.test_dl(test_ds)\n",
    "preds, _ = learn.get_preds(dl=test_dls)"
   ]
  },
  {
   "cell_type": "code",
   "execution_count": 102,
   "id": "cbf2ef41-d7ef-4a03-a466-842360589f8b",
   "metadata": {},
   "outputs": [
    {
     "data": {
      "text/html": [
       "\n",
       "<style>\n",
       "    /* Turns off some styling */\n",
       "    progress {\n",
       "        /* gets rid of default border in Firefox and Opera. */\n",
       "        border: none;\n",
       "        /* Needs to be in here for Safari polyfill so background images work as expected. */\n",
       "        background-size: auto;\n",
       "    }\n",
       "    progress:not([value]), progress:not([value])::-webkit-progress-bar {\n",
       "        background: repeating-linear-gradient(45deg, #7e7e7e, #7e7e7e 10px, #5c5c5c 10px, #5c5c5c 20px);\n",
       "    }\n",
       "    .progress-bar-interrupted, .progress-bar-interrupted::-webkit-progress-bar {\n",
       "        background: #F44336;\n",
       "    }\n",
       "</style>\n"
      ],
      "text/plain": [
       "<IPython.core.display.HTML object>"
      ]
     },
     "metadata": {},
     "output_type": "display_data"
    },
    {
     "data": {
      "text/html": [],
      "text/plain": [
       "<IPython.core.display.HTML object>"
      ]
     },
     "metadata": {},
     "output_type": "display_data"
    }
   ],
   "source": [
    "x = learn.validate(dl=test_dls)"
   ]
  },
  {
   "cell_type": "code",
   "execution_count": 107,
   "id": "b2d205bd-7728-41d5-803d-084ed3a555c3",
   "metadata": {},
   "outputs": [
    {
     "data": {
      "text/plain": [
       "10000"
      ]
     },
     "execution_count": 107,
     "metadata": {},
     "output_type": "execute_result"
    }
   ],
   "source": [
    "test_ds.__len__()"
   ]
  },
  {
   "cell_type": "code",
   "execution_count": null,
   "id": "c4f5e61a-9e22-4e32-8078-91228170fb7a",
   "metadata": {},
   "outputs": [],
   "source": []
  }
 ],
 "metadata": {
  "kernelspec": {
   "display_name": "Python 3 (ipykernel)",
   "language": "python",
   "name": "python3"
  },
  "language_info": {
   "codemirror_mode": {
    "name": "ipython",
    "version": 3
   },
   "file_extension": ".py",
   "mimetype": "text/x-python",
   "name": "python",
   "nbconvert_exporter": "python",
   "pygments_lexer": "ipython3",
   "version": "3.10.13"
  }
 },
 "nbformat": 4,
 "nbformat_minor": 5
}
