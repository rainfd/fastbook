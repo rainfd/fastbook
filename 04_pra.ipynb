{
 "cells": [
  {
   "cell_type": "code",
   "execution_count": 2,
   "id": "a472d49f-97e4-40dd-8426-26ed7673b276",
   "metadata": {},
   "outputs": [],
   "source": [
    "import fastbook\n",
    "fastbook.setup_book()"
   ]
  },
  {
   "cell_type": "code",
   "execution_count": 3,
   "id": "84661433-aba7-4540-aa39-503d9c654e63",
   "metadata": {},
   "outputs": [],
   "source": [
    "import matplotlib\n",
    "matplotlib.rc('image', cmap='Greys')"
   ]
  },
  {
   "cell_type": "code",
   "execution_count": 4,
   "id": "21b62aec-2dae-4d5c-93c2-ecf84530bcb2",
   "metadata": {},
   "outputs": [],
   "source": [
    "#from fastai.vision.all import *\n",
    "from fastbook import *\n",
    "from fastai.vision.all import URLs"
   ]
  },
  {
   "cell_type": "code",
   "execution_count": 5,
   "id": "92254840-f2fa-4a3a-a42c-f27af727aad1",
   "metadata": {},
   "outputs": [],
   "source": [
    "from pathlib import Path"
   ]
  },
  {
   "cell_type": "code",
   "execution_count": 6,
   "id": "38224ecc-39ac-46ec-99e1-d45b49580bcf",
   "metadata": {},
   "outputs": [],
   "source": [
    "import torch.nn.functional as F"
   ]
  },
  {
   "cell_type": "code",
   "execution_count": 7,
   "id": "c85faa8a-6537-46d9-9bd4-1a1481ea4b63",
   "metadata": {},
   "outputs": [
    {
     "data": {
      "text/plain": [
       "'https://s3.amazonaws.com/fast-ai-sample/mnist_sample.tgz'"
      ]
     },
     "execution_count": 7,
     "metadata": {},
     "output_type": "execute_result"
    }
   ],
   "source": [
    "URLs.MNIST_SAMPLE"
   ]
  },
  {
   "cell_type": "code",
   "execution_count": 8,
   "id": "b76755a9-f15a-4174-a32b-262cf0452d2b",
   "metadata": {},
   "outputs": [],
   "source": [
    "path = untar_data(URLs.MNIST_SAMPLE)"
   ]
  },
  {
   "cell_type": "code",
   "execution_count": 9,
   "id": "bbf6349e-5bf4-4390-853d-c56b42d824ab",
   "metadata": {},
   "outputs": [],
   "source": [
    "Path.BASE_PATH = path"
   ]
  },
  {
   "cell_type": "code",
   "execution_count": 10,
   "id": "a102cf04-cc8c-44ad-93ec-4c1ceb478942",
   "metadata": {},
   "outputs": [
    {
     "data": {
      "text/plain": [
       "(#3) [Path('labels.csv'),Path('valid'),Path('train')]"
      ]
     },
     "execution_count": 10,
     "metadata": {},
     "output_type": "execute_result"
    }
   ],
   "source": [
    "path.ls()"
   ]
  },
  {
   "cell_type": "code",
   "execution_count": 11,
   "id": "020c355f-f9cf-4ae3-b12e-c79d02c1cade",
   "metadata": {},
   "outputs": [
    {
     "data": {
      "text/plain": [
       "(#6131) [Path('train/3/10.png'),Path('train/3/10000.png'),Path('train/3/10011.png'),Path('train/3/10031.png'),Path('train/3/10034.png'),Path('train/3/10042.png'),Path('train/3/10052.png'),Path('train/3/1007.png'),Path('train/3/10074.png'),Path('train/3/10091.png')...]"
      ]
     },
     "execution_count": 11,
     "metadata": {},
     "output_type": "execute_result"
    }
   ],
   "source": [
    "threes = (path/'train'/'3').ls().sorted()\n",
    "sevens = (path/'train'/'7').ls().sorted()\n",
    "threes"
   ]
  },
  {
   "cell_type": "code",
   "execution_count": 12,
   "id": "16de8e5d-7db4-4639-a620-55ccc6bb1c92",
   "metadata": {},
   "outputs": [
    {
     "data": {
      "image/jpeg": "[encoded data removed]",
      "image/png": "[encoded data removed]",
      "text/plain": [
       "<PIL.PngImagePlugin.PngImageFile image mode=L size=28x28>"
      ]
     },
     "execution_count": 12,
     "metadata": {},
     "output_type": "execute_result"
    }
   ],
   "source": [
    "from PIL import Image\n",
    "im3_path = threes[1]\n",
    "im3 = Image.open(im3_path)\n",
    "im3"
   ]
  },
  {
   "cell_type": "code",
   "execution_count": 13,
   "id": "3d01eaad-63a0-4551-9c77-296aabdbd79e",
   "metadata": {},
   "outputs": [
    {
     "data": {
      "text/plain": [
       "array([[  0,   0,   0,   0,   0,   0],\n",
       "       [  0,   0,   0,   0,   0,  29],\n",
       "       [  0,   0,   0,  48, 166, 224],\n",
       "       [  0,  93, 244, 249, 253, 187],\n",
       "       [  0, 107, 253, 253, 230,  48],\n",
       "       [  0,   3,  20,  20,  15,   0]], dtype=uint8)"
      ]
     },
     "execution_count": 13,
     "metadata": {},
     "output_type": "execute_result"
    }
   ],
   "source": [
    "array(im3)[4:10,4:10]"
   ]
  },
  {
   "cell_type": "code",
   "execution_count": 14,
   "id": "9a086ce7-880d-40b6-8a54-7b5ffe3d70dd",
   "metadata": {},
   "outputs": [
    {
     "data": {
      "text/plain": [
       "tensor([[  0,   0,   0,   0,   0,   0],\n",
       "        [  0,   0,   0,   0,   0,  29],\n",
       "        [  0,   0,   0,  48, 166, 224],\n",
       "        [  0,  93, 244, 249, 253, 187],\n",
       "        [  0, 107, 253, 253, 230,  48],\n",
       "        [  0,   3,  20,  20,  15,   0]], dtype=torch.uint8)"
      ]
     },
     "execution_count": 14,
     "metadata": {},
     "output_type": "execute_result"
    }
   ],
   "source": [
    "from torch import tensor\n",
    "tensor(array(im3))[4:10,4:10]"
   ]
  },
  {
   "cell_type": "code",
   "execution_count": 15,
   "id": "a20fc92c-1c8d-400a-a2d4-4cfd2f5def60",
   "metadata": {},
   "outputs": [
    {
     "data": {
      "text/html": [
       "<style type=\"text/css\">\n",
       "#T_6b39c_row0_col0, #T_6b39c_row0_col1, #T_6b39c_row0_col2, #T_6b39c_row0_col3, #T_6b39c_row0_col4, #T_6b39c_row0_col5, #T_6b39c_row0_col6, #T_6b39c_row0_col7, #T_6b39c_row0_col8, #T_6b39c_row0_col9, #T_6b39c_row0_col10, #T_6b39c_row0_col11, #T_6b39c_row0_col12, #T_6b39c_row0_col13, #T_6b39c_row0_col14, #T_6b39c_row0_col15, #T_6b39c_row0_col16, #T_6b39c_row0_col17, #T_6b39c_row1_col0, #T_6b39c_row1_col1, #T_6b39c_row1_col2, #T_6b39c_row1_col3, #T_6b39c_row1_col4, #T_6b39c_row1_col15, #T_6b39c_row1_col16, #T_6b39c_row1_col17, #T_6b39c_row2_col0, #T_6b39c_row2_col1, #T_6b39c_row2_col2, #T_6b39c_row2_col15, #T_6b39c_row2_col16, #T_6b39c_row2_col17, #T_6b39c_row3_col0, #T_6b39c_row3_col15, #T_6b39c_row3_col16, #T_6b39c_row3_col17, #T_6b39c_row4_col0, #T_6b39c_row4_col6, #T_6b39c_row4_col7, #T_6b39c_row4_col8, #T_6b39c_row4_col9, #T_6b39c_row4_col10, #T_6b39c_row4_col15, #T_6b39c_row4_col16, #T_6b39c_row4_col17, #T_6b39c_row5_col0, #T_6b39c_row5_col5, #T_6b39c_row5_col6, #T_6b39c_row5_col7, #T_6b39c_row5_col8, #T_6b39c_row5_col9, #T_6b39c_row5_col15, #T_6b39c_row5_col16, #T_6b39c_row5_col17, #T_6b39c_row6_col0, #T_6b39c_row6_col1, #T_6b39c_row6_col2, #T_6b39c_row6_col3, #T_6b39c_row6_col4, #T_6b39c_row6_col5, #T_6b39c_row6_col6, #T_6b39c_row6_col7, #T_6b39c_row6_col8, #T_6b39c_row6_col9, #T_6b39c_row6_col14, #T_6b39c_row6_col15, #T_6b39c_row6_col16, #T_6b39c_row6_col17, #T_6b39c_row7_col0, #T_6b39c_row7_col1, #T_6b39c_row7_col2, #T_6b39c_row7_col3, #T_6b39c_row7_col4, #T_6b39c_row7_col5, #T_6b39c_row7_col6, #T_6b39c_row7_col13, #T_6b39c_row7_col14, #T_6b39c_row7_col15, #T_6b39c_row7_col16, #T_6b39c_row7_col17, #T_6b39c_row8_col0, #T_6b39c_row8_col1, #T_6b39c_row8_col2, #T_6b39c_row8_col3, #T_6b39c_row8_col4, #T_6b39c_row8_col13, #T_6b39c_row8_col14, #T_6b39c_row8_col15, #T_6b39c_row8_col16, #T_6b39c_row8_col17, #T_6b39c_row9_col0, #T_6b39c_row9_col1, #T_6b39c_row9_col2, #T_6b39c_row9_col3, #T_6b39c_row9_col4, #T_6b39c_row9_col16, #T_6b39c_row9_col17, #T_6b39c_row10_col0, #T_6b39c_row10_col1, #T_6b39c_row10_col2, #T_6b39c_row10_col3, #T_6b39c_row10_col4, #T_6b39c_row10_col5, #T_6b39c_row10_col6, #T_6b39c_row10_col17 {\n",
       "  font-size: 6pt;\n",
       "  background-color: #ffffff;\n",
       "  color: #000000;\n",
       "}\n",
       "#T_6b39c_row1_col5 {\n",
       "  font-size: 6pt;\n",
       "  background-color: #efefef;\n",
       "  color: #000000;\n",
       "}\n",
       "#T_6b39c_row1_col6, #T_6b39c_row1_col13 {\n",
       "  font-size: 6pt;\n",
       "  background-color: #7c7c7c;\n",
       "  color: #f1f1f1;\n",
       "}\n",
       "#T_6b39c_row1_col7 {\n",
       "  font-size: 6pt;\n",
       "  background-color: #4a4a4a;\n",
       "  color: #f1f1f1;\n",
       "}\n",
       "#T_6b39c_row1_col8, #T_6b39c_row1_col9, #T_6b39c_row1_col10, #T_6b39c_row2_col5, #T_6b39c_row2_col6, #T_6b39c_row2_col7, #T_6b39c_row2_col11, #T_6b39c_row2_col12, #T_6b39c_row2_col13, #T_6b39c_row3_col4, #T_6b39c_row3_col12, #T_6b39c_row3_col13, #T_6b39c_row4_col1, #T_6b39c_row4_col2, #T_6b39c_row4_col3, #T_6b39c_row4_col12, #T_6b39c_row4_col13, #T_6b39c_row5_col12, #T_6b39c_row6_col11, #T_6b39c_row9_col11, #T_6b39c_row10_col11, #T_6b39c_row10_col12, #T_6b39c_row10_col13, #T_6b39c_row10_col14, #T_6b39c_row10_col15, #T_6b39c_row10_col16 {\n",
       "  font-size: 6pt;\n",
       "  background-color: #000000;\n",
       "  color: #f1f1f1;\n",
       "}\n",
       "#T_6b39c_row1_col11 {\n",
       "  font-size: 6pt;\n",
       "  background-color: #606060;\n",
       "  color: #f1f1f1;\n",
       "}\n",
       "#T_6b39c_row1_col12 {\n",
       "  font-size: 6pt;\n",
       "  background-color: #4d4d4d;\n",
       "  color: #f1f1f1;\n",
       "}\n",
       "#T_6b39c_row1_col14 {\n",
       "  font-size: 6pt;\n",
       "  background-color: #bbbbbb;\n",
       "  color: #000000;\n",
       "}\n",
       "#T_6b39c_row2_col3 {\n",
       "  font-size: 6pt;\n",
       "  background-color: #e4e4e4;\n",
       "  color: #000000;\n",
       "}\n",
       "#T_6b39c_row2_col4, #T_6b39c_row8_col6 {\n",
       "  font-size: 6pt;\n",
       "  background-color: #6b6b6b;\n",
       "  color: #f1f1f1;\n",
       "}\n",
       "#T_6b39c_row2_col8, #T_6b39c_row2_col14, #T_6b39c_row3_col14 {\n",
       "  font-size: 6pt;\n",
       "  background-color: #171717;\n",
       "  color: #f1f1f1;\n",
       "}\n",
       "#T_6b39c_row2_col9, #T_6b39c_row3_col11 {\n",
       "  font-size: 6pt;\n",
       "  background-color: #4b4b4b;\n",
       "  color: #f1f1f1;\n",
       "}\n",
       "#T_6b39c_row2_col10, #T_6b39c_row7_col10, #T_6b39c_row8_col8, #T_6b39c_row8_col10, #T_6b39c_row9_col8, #T_6b39c_row9_col10 {\n",
       "  font-size: 6pt;\n",
       "  background-color: #010101;\n",
       "  color: #f1f1f1;\n",
       "}\n",
       "#T_6b39c_row3_col1 {\n",
       "  font-size: 6pt;\n",
       "  background-color: #272727;\n",
       "  color: #f1f1f1;\n",
       "}\n",
       "#T_6b39c_row3_col2 {\n",
       "  font-size: 6pt;\n",
       "  background-color: #0a0a0a;\n",
       "  color: #f1f1f1;\n",
       "}\n",
       "#T_6b39c_row3_col3 {\n",
       "  font-size: 6pt;\n",
       "  background-color: #050505;\n",
       "  color: #f1f1f1;\n",
       "}\n",
       "#T_6b39c_row3_col5 {\n",
       "  font-size: 6pt;\n",
       "  background-color: #333333;\n",
       "  color: #f1f1f1;\n",
       "}\n",
       "#T_6b39c_row3_col6 {\n",
       "  font-size: 6pt;\n",
       "  background-color: #e6e6e6;\n",
       "  color: #000000;\n",
       "}\n",
       "#T_6b39c_row3_col7, #T_6b39c_row3_col10 {\n",
       "  font-size: 6pt;\n",
       "  background-color: #fafafa;\n",
       "  color: #000000;\n",
       "}\n",
       "#T_6b39c_row3_col8 {\n",
       "  font-size: 6pt;\n",
       "  background-color: #fbfbfb;\n",
       "  color: #000000;\n",
       "}\n",
       "#T_6b39c_row3_col9 {\n",
       "  font-size: 6pt;\n",
       "  background-color: #fdfdfd;\n",
       "  color: #000000;\n",
       "}\n",
       "#T_6b39c_row4_col4 {\n",
       "  font-size: 6pt;\n",
       "  background-color: #1b1b1b;\n",
       "  color: #f1f1f1;\n",
       "}\n",
       "#T_6b39c_row4_col5 {\n",
       "  font-size: 6pt;\n",
       "  background-color: #e0e0e0;\n",
       "  color: #000000;\n",
       "}\n",
       "#T_6b39c_row4_col11 {\n",
       "  font-size: 6pt;\n",
       "  background-color: #4e4e4e;\n",
       "  color: #f1f1f1;\n",
       "}\n",
       "#T_6b39c_row4_col14 {\n",
       "  font-size: 6pt;\n",
       "  background-color: #767676;\n",
       "  color: #f1f1f1;\n",
       "}\n",
       "#T_6b39c_row5_col1 {\n",
       "  font-size: 6pt;\n",
       "  background-color: #fcfcfc;\n",
       "  color: #000000;\n",
       "}\n",
       "#T_6b39c_row5_col2, #T_6b39c_row5_col3 {\n",
       "  font-size: 6pt;\n",
       "  background-color: #f6f6f6;\n",
       "  color: #000000;\n",
       "}\n",
       "#T_6b39c_row5_col4, #T_6b39c_row7_col7 {\n",
       "  font-size: 6pt;\n",
       "  background-color: #f8f8f8;\n",
       "  color: #000000;\n",
       "}\n",
       "#T_6b39c_row5_col10, #T_6b39c_row10_col7 {\n",
       "  font-size: 6pt;\n",
       "  background-color: #e8e8e8;\n",
       "  color: #000000;\n",
       "}\n",
       "#T_6b39c_row5_col11 {\n",
       "  font-size: 6pt;\n",
       "  background-color: #222222;\n",
       "  color: #f1f1f1;\n",
       "}\n",
       "#T_6b39c_row5_col13, #T_6b39c_row6_col12 {\n",
       "  font-size: 6pt;\n",
       "  background-color: #090909;\n",
       "  color: #f1f1f1;\n",
       "}\n",
       "#T_6b39c_row5_col14 {\n",
       "  font-size: 6pt;\n",
       "  background-color: #d0d0d0;\n",
       "  color: #000000;\n",
       "}\n",
       "#T_6b39c_row6_col10, #T_6b39c_row7_col11, #T_6b39c_row9_col6 {\n",
       "  font-size: 6pt;\n",
       "  background-color: #060606;\n",
       "  color: #f1f1f1;\n",
       "}\n",
       "#T_6b39c_row6_col13 {\n",
       "  font-size: 6pt;\n",
       "  background-color: #979797;\n",
       "  color: #f1f1f1;\n",
       "}\n",
       "#T_6b39c_row7_col8 {\n",
       "  font-size: 6pt;\n",
       "  background-color: #b6b6b6;\n",
       "  color: #000000;\n",
       "}\n",
       "#T_6b39c_row7_col9 {\n",
       "  font-size: 6pt;\n",
       "  background-color: #252525;\n",
       "  color: #f1f1f1;\n",
       "}\n",
       "#T_6b39c_row7_col12 {\n",
       "  font-size: 6pt;\n",
       "  background-color: #999999;\n",
       "  color: #f1f1f1;\n",
       "}\n",
       "#T_6b39c_row8_col5 {\n",
       "  font-size: 6pt;\n",
       "  background-color: #f9f9f9;\n",
       "  color: #000000;\n",
       "}\n",
       "#T_6b39c_row8_col7 {\n",
       "  font-size: 6pt;\n",
       "  background-color: #101010;\n",
       "  color: #f1f1f1;\n",
       "}\n",
       "#T_6b39c_row8_col9, #T_6b39c_row9_col9 {\n",
       "  font-size: 6pt;\n",
       "  background-color: #020202;\n",
       "  color: #f1f1f1;\n",
       "}\n",
       "#T_6b39c_row8_col11 {\n",
       "  font-size: 6pt;\n",
       "  background-color: #545454;\n",
       "  color: #f1f1f1;\n",
       "}\n",
       "#T_6b39c_row8_col12 {\n",
       "  font-size: 6pt;\n",
       "  background-color: #f1f1f1;\n",
       "  color: #000000;\n",
       "}\n",
       "#T_6b39c_row9_col5 {\n",
       "  font-size: 6pt;\n",
       "  background-color: #f7f7f7;\n",
       "  color: #000000;\n",
       "}\n",
       "#T_6b39c_row9_col7 {\n",
       "  font-size: 6pt;\n",
       "  background-color: #030303;\n",
       "  color: #f1f1f1;\n",
       "}\n",
       "#T_6b39c_row9_col12 {\n",
       "  font-size: 6pt;\n",
       "  background-color: #181818;\n",
       "  color: #f1f1f1;\n",
       "}\n",
       "#T_6b39c_row9_col13 {\n",
       "  font-size: 6pt;\n",
       "  background-color: #303030;\n",
       "  color: #f1f1f1;\n",
       "}\n",
       "#T_6b39c_row9_col14 {\n",
       "  font-size: 6pt;\n",
       "  background-color: #a9a9a9;\n",
       "  color: #f1f1f1;\n",
       "}\n",
       "#T_6b39c_row9_col15 {\n",
       "  font-size: 6pt;\n",
       "  background-color: #fefefe;\n",
       "  color: #000000;\n",
       "}\n",
       "#T_6b39c_row10_col8, #T_6b39c_row10_col9 {\n",
       "  font-size: 6pt;\n",
       "  background-color: #bababa;\n",
       "  color: #000000;\n",
       "}\n",
       "#T_6b39c_row10_col10 {\n",
       "  font-size: 6pt;\n",
       "  background-color: #393939;\n",
       "  color: #f1f1f1;\n",
       "}\n",
       "</style>\n",
       "<table id=\"T_6b39c\">\n",
       "  <thead>\n",
       "    <tr>\n",
       "      <th class=\"blank level0\" >&nbsp;</th>\n",
       "      <th id=\"T_6b39c_level0_col0\" class=\"col_heading level0 col0\" >0</th>\n",
       "      <th id=\"T_6b39c_level0_col1\" class=\"col_heading level0 col1\" >1</th>\n",
       "      <th id=\"T_6b39c_level0_col2\" class=\"col_heading level0 col2\" >2</th>\n",
       "      <th id=\"T_6b39c_level0_col3\" class=\"col_heading level0 col3\" >3</th>\n",
       "      <th id=\"T_6b39c_level0_col4\" class=\"col_heading level0 col4\" >4</th>\n",
       "      <th id=\"T_6b39c_level0_col5\" class=\"col_heading level0 col5\" >5</th>\n",
       "      <th id=\"T_6b39c_level0_col6\" class=\"col_heading level0 col6\" >6</th>\n",
       "      <th id=\"T_6b39c_level0_col7\" class=\"col_heading level0 col7\" >7</th>\n",
       "      <th id=\"T_6b39c_level0_col8\" class=\"col_heading level0 col8\" >8</th>\n",
       "      <th id=\"T_6b39c_level0_col9\" class=\"col_heading level0 col9\" >9</th>\n",
       "      <th id=\"T_6b39c_level0_col10\" class=\"col_heading level0 col10\" >10</th>\n",
       "      <th id=\"T_6b39c_level0_col11\" class=\"col_heading level0 col11\" >11</th>\n",
       "      <th id=\"T_6b39c_level0_col12\" class=\"col_heading level0 col12\" >12</th>\n",
       "      <th id=\"T_6b39c_level0_col13\" class=\"col_heading level0 col13\" >13</th>\n",
       "      <th id=\"T_6b39c_level0_col14\" class=\"col_heading level0 col14\" >14</th>\n",
       "      <th id=\"T_6b39c_level0_col15\" class=\"col_heading level0 col15\" >15</th>\n",
       "      <th id=\"T_6b39c_level0_col16\" class=\"col_heading level0 col16\" >16</th>\n",
       "      <th id=\"T_6b39c_level0_col17\" class=\"col_heading level0 col17\" >17</th>\n",
       "    </tr>\n",
       "  </thead>\n",
       "  <tbody>\n",
       "    <tr>\n",
       "      <th id=\"T_6b39c_level0_row0\" class=\"row_heading level0 row0\" >0</th>\n",
       "      <td id=\"T_6b39c_row0_col0\" class=\"data row0 col0\" >0</td>\n",
       "      <td id=\"T_6b39c_row0_col1\" class=\"data row0 col1\" >0</td>\n",
       "      <td id=\"T_6b39c_row0_col2\" class=\"data row0 col2\" >0</td>\n",
       "      <td id=\"T_6b39c_row0_col3\" class=\"data row0 col3\" >0</td>\n",
       "      <td id=\"T_6b39c_row0_col4\" class=\"data row0 col4\" >0</td>\n",
       "      <td id=\"T_6b39c_row0_col5\" class=\"data row0 col5\" >0</td>\n",
       "      <td id=\"T_6b39c_row0_col6\" class=\"data row0 col6\" >0</td>\n",
       "      <td id=\"T_6b39c_row0_col7\" class=\"data row0 col7\" >0</td>\n",
       "      <td id=\"T_6b39c_row0_col8\" class=\"data row0 col8\" >0</td>\n",
       "      <td id=\"T_6b39c_row0_col9\" class=\"data row0 col9\" >0</td>\n",
       "      <td id=\"T_6b39c_row0_col10\" class=\"data row0 col10\" >0</td>\n",
       "      <td id=\"T_6b39c_row0_col11\" class=\"data row0 col11\" >0</td>\n",
       "      <td id=\"T_6b39c_row0_col12\" class=\"data row0 col12\" >0</td>\n",
       "      <td id=\"T_6b39c_row0_col13\" class=\"data row0 col13\" >0</td>\n",
       "      <td id=\"T_6b39c_row0_col14\" class=\"data row0 col14\" >0</td>\n",
       "      <td id=\"T_6b39c_row0_col15\" class=\"data row0 col15\" >0</td>\n",
       "      <td id=\"T_6b39c_row0_col16\" class=\"data row0 col16\" >0</td>\n",
       "      <td id=\"T_6b39c_row0_col17\" class=\"data row0 col17\" >0</td>\n",
       "    </tr>\n",
       "    <tr>\n",
       "      <th id=\"T_6b39c_level0_row1\" class=\"row_heading level0 row1\" >1</th>\n",
       "      <td id=\"T_6b39c_row1_col0\" class=\"data row1 col0\" >0</td>\n",
       "      <td id=\"T_6b39c_row1_col1\" class=\"data row1 col1\" >0</td>\n",
       "      <td id=\"T_6b39c_row1_col2\" class=\"data row1 col2\" >0</td>\n",
       "      <td id=\"T_6b39c_row1_col3\" class=\"data row1 col3\" >0</td>\n",
       "      <td id=\"T_6b39c_row1_col4\" class=\"data row1 col4\" >0</td>\n",
       "      <td id=\"T_6b39c_row1_col5\" class=\"data row1 col5\" >29</td>\n",
       "      <td id=\"T_6b39c_row1_col6\" class=\"data row1 col6\" >150</td>\n",
       "      <td id=\"T_6b39c_row1_col7\" class=\"data row1 col7\" >195</td>\n",
       "      <td id=\"T_6b39c_row1_col8\" class=\"data row1 col8\" >254</td>\n",
       "      <td id=\"T_6b39c_row1_col9\" class=\"data row1 col9\" >255</td>\n",
       "      <td id=\"T_6b39c_row1_col10\" class=\"data row1 col10\" >254</td>\n",
       "      <td id=\"T_6b39c_row1_col11\" class=\"data row1 col11\" >176</td>\n",
       "      <td id=\"T_6b39c_row1_col12\" class=\"data row1 col12\" >193</td>\n",
       "      <td id=\"T_6b39c_row1_col13\" class=\"data row1 col13\" >150</td>\n",
       "      <td id=\"T_6b39c_row1_col14\" class=\"data row1 col14\" >96</td>\n",
       "      <td id=\"T_6b39c_row1_col15\" class=\"data row1 col15\" >0</td>\n",
       "      <td id=\"T_6b39c_row1_col16\" class=\"data row1 col16\" >0</td>\n",
       "      <td id=\"T_6b39c_row1_col17\" class=\"data row1 col17\" >0</td>\n",
       "    </tr>\n",
       "    <tr>\n",
       "      <th id=\"T_6b39c_level0_row2\" class=\"row_heading level0 row2\" >2</th>\n",
       "      <td id=\"T_6b39c_row2_col0\" class=\"data row2 col0\" >0</td>\n",
       "      <td id=\"T_6b39c_row2_col1\" class=\"data row2 col1\" >0</td>\n",
       "      <td id=\"T_6b39c_row2_col2\" class=\"data row2 col2\" >0</td>\n",
       "      <td id=\"T_6b39c_row2_col3\" class=\"data row2 col3\" >48</td>\n",
       "      <td id=\"T_6b39c_row2_col4\" class=\"data row2 col4\" >166</td>\n",
       "      <td id=\"T_6b39c_row2_col5\" class=\"data row2 col5\" >224</td>\n",
       "      <td id=\"T_6b39c_row2_col6\" class=\"data row2 col6\" >253</td>\n",
       "      <td id=\"T_6b39c_row2_col7\" class=\"data row2 col7\" >253</td>\n",
       "      <td id=\"T_6b39c_row2_col8\" class=\"data row2 col8\" >234</td>\n",
       "      <td id=\"T_6b39c_row2_col9\" class=\"data row2 col9\" >196</td>\n",
       "      <td id=\"T_6b39c_row2_col10\" class=\"data row2 col10\" >253</td>\n",
       "      <td id=\"T_6b39c_row2_col11\" class=\"data row2 col11\" >253</td>\n",
       "      <td id=\"T_6b39c_row2_col12\" class=\"data row2 col12\" >253</td>\n",
       "      <td id=\"T_6b39c_row2_col13\" class=\"data row2 col13\" >253</td>\n",
       "      <td id=\"T_6b39c_row2_col14\" class=\"data row2 col14\" >233</td>\n",
       "      <td id=\"T_6b39c_row2_col15\" class=\"data row2 col15\" >0</td>\n",
       "      <td id=\"T_6b39c_row2_col16\" class=\"data row2 col16\" >0</td>\n",
       "      <td id=\"T_6b39c_row2_col17\" class=\"data row2 col17\" >0</td>\n",
       "    </tr>\n",
       "    <tr>\n",
       "      <th id=\"T_6b39c_level0_row3\" class=\"row_heading level0 row3\" >3</th>\n",
       "      <td id=\"T_6b39c_row3_col0\" class=\"data row3 col0\" >0</td>\n",
       "      <td id=\"T_6b39c_row3_col1\" class=\"data row3 col1\" >93</td>\n",
       "      <td id=\"T_6b39c_row3_col2\" class=\"data row3 col2\" >244</td>\n",
       "      <td id=\"T_6b39c_row3_col3\" class=\"data row3 col3\" >249</td>\n",
       "      <td id=\"T_6b39c_row3_col4\" class=\"data row3 col4\" >253</td>\n",
       "      <td id=\"T_6b39c_row3_col5\" class=\"data row3 col5\" >187</td>\n",
       "      <td id=\"T_6b39c_row3_col6\" class=\"data row3 col6\" >46</td>\n",
       "      <td id=\"T_6b39c_row3_col7\" class=\"data row3 col7\" >10</td>\n",
       "      <td id=\"T_6b39c_row3_col8\" class=\"data row3 col8\" >8</td>\n",
       "      <td id=\"T_6b39c_row3_col9\" class=\"data row3 col9\" >4</td>\n",
       "      <td id=\"T_6b39c_row3_col10\" class=\"data row3 col10\" >10</td>\n",
       "      <td id=\"T_6b39c_row3_col11\" class=\"data row3 col11\" >194</td>\n",
       "      <td id=\"T_6b39c_row3_col12\" class=\"data row3 col12\" >253</td>\n",
       "      <td id=\"T_6b39c_row3_col13\" class=\"data row3 col13\" >253</td>\n",
       "      <td id=\"T_6b39c_row3_col14\" class=\"data row3 col14\" >233</td>\n",
       "      <td id=\"T_6b39c_row3_col15\" class=\"data row3 col15\" >0</td>\n",
       "      <td id=\"T_6b39c_row3_col16\" class=\"data row3 col16\" >0</td>\n",
       "      <td id=\"T_6b39c_row3_col17\" class=\"data row3 col17\" >0</td>\n",
       "    </tr>\n",
       "    <tr>\n",
       "      <th id=\"T_6b39c_level0_row4\" class=\"row_heading level0 row4\" >4</th>\n",
       "      <td id=\"T_6b39c_row4_col0\" class=\"data row4 col0\" >0</td>\n",
       "      <td id=\"T_6b39c_row4_col1\" class=\"data row4 col1\" >107</td>\n",
       "      <td id=\"T_6b39c_row4_col2\" class=\"data row4 col2\" >253</td>\n",
       "      <td id=\"T_6b39c_row4_col3\" class=\"data row4 col3\" >253</td>\n",
       "      <td id=\"T_6b39c_row4_col4\" class=\"data row4 col4\" >230</td>\n",
       "      <td id=\"T_6b39c_row4_col5\" class=\"data row4 col5\" >48</td>\n",
       "      <td id=\"T_6b39c_row4_col6\" class=\"data row4 col6\" >0</td>\n",
       "      <td id=\"T_6b39c_row4_col7\" class=\"data row4 col7\" >0</td>\n",
       "      <td id=\"T_6b39c_row4_col8\" class=\"data row4 col8\" >0</td>\n",
       "      <td id=\"T_6b39c_row4_col9\" class=\"data row4 col9\" >0</td>\n",
       "      <td id=\"T_6b39c_row4_col10\" class=\"data row4 col10\" >0</td>\n",
       "      <td id=\"T_6b39c_row4_col11\" class=\"data row4 col11\" >192</td>\n",
       "      <td id=\"T_6b39c_row4_col12\" class=\"data row4 col12\" >253</td>\n",
       "      <td id=\"T_6b39c_row4_col13\" class=\"data row4 col13\" >253</td>\n",
       "      <td id=\"T_6b39c_row4_col14\" class=\"data row4 col14\" >156</td>\n",
       "      <td id=\"T_6b39c_row4_col15\" class=\"data row4 col15\" >0</td>\n",
       "      <td id=\"T_6b39c_row4_col16\" class=\"data row4 col16\" >0</td>\n",
       "      <td id=\"T_6b39c_row4_col17\" class=\"data row4 col17\" >0</td>\n",
       "    </tr>\n",
       "    <tr>\n",
       "      <th id=\"T_6b39c_level0_row5\" class=\"row_heading level0 row5\" >5</th>\n",
       "      <td id=\"T_6b39c_row5_col0\" class=\"data row5 col0\" >0</td>\n",
       "      <td id=\"T_6b39c_row5_col1\" class=\"data row5 col1\" >3</td>\n",
       "      <td id=\"T_6b39c_row5_col2\" class=\"data row5 col2\" >20</td>\n",
       "      <td id=\"T_6b39c_row5_col3\" class=\"data row5 col3\" >20</td>\n",
       "      <td id=\"T_6b39c_row5_col4\" class=\"data row5 col4\" >15</td>\n",
       "      <td id=\"T_6b39c_row5_col5\" class=\"data row5 col5\" >0</td>\n",
       "      <td id=\"T_6b39c_row5_col6\" class=\"data row5 col6\" >0</td>\n",
       "      <td id=\"T_6b39c_row5_col7\" class=\"data row5 col7\" >0</td>\n",
       "      <td id=\"T_6b39c_row5_col8\" class=\"data row5 col8\" >0</td>\n",
       "      <td id=\"T_6b39c_row5_col9\" class=\"data row5 col9\" >0</td>\n",
       "      <td id=\"T_6b39c_row5_col10\" class=\"data row5 col10\" >43</td>\n",
       "      <td id=\"T_6b39c_row5_col11\" class=\"data row5 col11\" >224</td>\n",
       "      <td id=\"T_6b39c_row5_col12\" class=\"data row5 col12\" >253</td>\n",
       "      <td id=\"T_6b39c_row5_col13\" class=\"data row5 col13\" >245</td>\n",
       "      <td id=\"T_6b39c_row5_col14\" class=\"data row5 col14\" >74</td>\n",
       "      <td id=\"T_6b39c_row5_col15\" class=\"data row5 col15\" >0</td>\n",
       "      <td id=\"T_6b39c_row5_col16\" class=\"data row5 col16\" >0</td>\n",
       "      <td id=\"T_6b39c_row5_col17\" class=\"data row5 col17\" >0</td>\n",
       "    </tr>\n",
       "    <tr>\n",
       "      <th id=\"T_6b39c_level0_row6\" class=\"row_heading level0 row6\" >6</th>\n",
       "      <td id=\"T_6b39c_row6_col0\" class=\"data row6 col0\" >0</td>\n",
       "      <td id=\"T_6b39c_row6_col1\" class=\"data row6 col1\" >0</td>\n",
       "      <td id=\"T_6b39c_row6_col2\" class=\"data row6 col2\" >0</td>\n",
       "      <td id=\"T_6b39c_row6_col3\" class=\"data row6 col3\" >0</td>\n",
       "      <td id=\"T_6b39c_row6_col4\" class=\"data row6 col4\" >0</td>\n",
       "      <td id=\"T_6b39c_row6_col5\" class=\"data row6 col5\" >0</td>\n",
       "      <td id=\"T_6b39c_row6_col6\" class=\"data row6 col6\" >0</td>\n",
       "      <td id=\"T_6b39c_row6_col7\" class=\"data row6 col7\" >0</td>\n",
       "      <td id=\"T_6b39c_row6_col8\" class=\"data row6 col8\" >0</td>\n",
       "      <td id=\"T_6b39c_row6_col9\" class=\"data row6 col9\" >0</td>\n",
       "      <td id=\"T_6b39c_row6_col10\" class=\"data row6 col10\" >249</td>\n",
       "      <td id=\"T_6b39c_row6_col11\" class=\"data row6 col11\" >253</td>\n",
       "      <td id=\"T_6b39c_row6_col12\" class=\"data row6 col12\" >245</td>\n",
       "      <td id=\"T_6b39c_row6_col13\" class=\"data row6 col13\" >126</td>\n",
       "      <td id=\"T_6b39c_row6_col14\" class=\"data row6 col14\" >0</td>\n",
       "      <td id=\"T_6b39c_row6_col15\" class=\"data row6 col15\" >0</td>\n",
       "      <td id=\"T_6b39c_row6_col16\" class=\"data row6 col16\" >0</td>\n",
       "      <td id=\"T_6b39c_row6_col17\" class=\"data row6 col17\" >0</td>\n",
       "    </tr>\n",
       "    <tr>\n",
       "      <th id=\"T_6b39c_level0_row7\" class=\"row_heading level0 row7\" >7</th>\n",
       "      <td id=\"T_6b39c_row7_col0\" class=\"data row7 col0\" >0</td>\n",
       "      <td id=\"T_6b39c_row7_col1\" class=\"data row7 col1\" >0</td>\n",
       "      <td id=\"T_6b39c_row7_col2\" class=\"data row7 col2\" >0</td>\n",
       "      <td id=\"T_6b39c_row7_col3\" class=\"data row7 col3\" >0</td>\n",
       "      <td id=\"T_6b39c_row7_col4\" class=\"data row7 col4\" >0</td>\n",
       "      <td id=\"T_6b39c_row7_col5\" class=\"data row7 col5\" >0</td>\n",
       "      <td id=\"T_6b39c_row7_col6\" class=\"data row7 col6\" >0</td>\n",
       "      <td id=\"T_6b39c_row7_col7\" class=\"data row7 col7\" >14</td>\n",
       "      <td id=\"T_6b39c_row7_col8\" class=\"data row7 col8\" >101</td>\n",
       "      <td id=\"T_6b39c_row7_col9\" class=\"data row7 col9\" >223</td>\n",
       "      <td id=\"T_6b39c_row7_col10\" class=\"data row7 col10\" >253</td>\n",
       "      <td id=\"T_6b39c_row7_col11\" class=\"data row7 col11\" >248</td>\n",
       "      <td id=\"T_6b39c_row7_col12\" class=\"data row7 col12\" >124</td>\n",
       "      <td id=\"T_6b39c_row7_col13\" class=\"data row7 col13\" >0</td>\n",
       "      <td id=\"T_6b39c_row7_col14\" class=\"data row7 col14\" >0</td>\n",
       "      <td id=\"T_6b39c_row7_col15\" class=\"data row7 col15\" >0</td>\n",
       "      <td id=\"T_6b39c_row7_col16\" class=\"data row7 col16\" >0</td>\n",
       "      <td id=\"T_6b39c_row7_col17\" class=\"data row7 col17\" >0</td>\n",
       "    </tr>\n",
       "    <tr>\n",
       "      <th id=\"T_6b39c_level0_row8\" class=\"row_heading level0 row8\" >8</th>\n",
       "      <td id=\"T_6b39c_row8_col0\" class=\"data row8 col0\" >0</td>\n",
       "      <td id=\"T_6b39c_row8_col1\" class=\"data row8 col1\" >0</td>\n",
       "      <td id=\"T_6b39c_row8_col2\" class=\"data row8 col2\" >0</td>\n",
       "      <td id=\"T_6b39c_row8_col3\" class=\"data row8 col3\" >0</td>\n",
       "      <td id=\"T_6b39c_row8_col4\" class=\"data row8 col4\" >0</td>\n",
       "      <td id=\"T_6b39c_row8_col5\" class=\"data row8 col5\" >11</td>\n",
       "      <td id=\"T_6b39c_row8_col6\" class=\"data row8 col6\" >166</td>\n",
       "      <td id=\"T_6b39c_row8_col7\" class=\"data row8 col7\" >239</td>\n",
       "      <td id=\"T_6b39c_row8_col8\" class=\"data row8 col8\" >253</td>\n",
       "      <td id=\"T_6b39c_row8_col9\" class=\"data row8 col9\" >253</td>\n",
       "      <td id=\"T_6b39c_row8_col10\" class=\"data row8 col10\" >253</td>\n",
       "      <td id=\"T_6b39c_row8_col11\" class=\"data row8 col11\" >187</td>\n",
       "      <td id=\"T_6b39c_row8_col12\" class=\"data row8 col12\" >30</td>\n",
       "      <td id=\"T_6b39c_row8_col13\" class=\"data row8 col13\" >0</td>\n",
       "      <td id=\"T_6b39c_row8_col14\" class=\"data row8 col14\" >0</td>\n",
       "      <td id=\"T_6b39c_row8_col15\" class=\"data row8 col15\" >0</td>\n",
       "      <td id=\"T_6b39c_row8_col16\" class=\"data row8 col16\" >0</td>\n",
       "      <td id=\"T_6b39c_row8_col17\" class=\"data row8 col17\" >0</td>\n",
       "    </tr>\n",
       "    <tr>\n",
       "      <th id=\"T_6b39c_level0_row9\" class=\"row_heading level0 row9\" >9</th>\n",
       "      <td id=\"T_6b39c_row9_col0\" class=\"data row9 col0\" >0</td>\n",
       "      <td id=\"T_6b39c_row9_col1\" class=\"data row9 col1\" >0</td>\n",
       "      <td id=\"T_6b39c_row9_col2\" class=\"data row9 col2\" >0</td>\n",
       "      <td id=\"T_6b39c_row9_col3\" class=\"data row9 col3\" >0</td>\n",
       "      <td id=\"T_6b39c_row9_col4\" class=\"data row9 col4\" >0</td>\n",
       "      <td id=\"T_6b39c_row9_col5\" class=\"data row9 col5\" >16</td>\n",
       "      <td id=\"T_6b39c_row9_col6\" class=\"data row9 col6\" >248</td>\n",
       "      <td id=\"T_6b39c_row9_col7\" class=\"data row9 col7\" >250</td>\n",
       "      <td id=\"T_6b39c_row9_col8\" class=\"data row9 col8\" >253</td>\n",
       "      <td id=\"T_6b39c_row9_col9\" class=\"data row9 col9\" >253</td>\n",
       "      <td id=\"T_6b39c_row9_col10\" class=\"data row9 col10\" >253</td>\n",
       "      <td id=\"T_6b39c_row9_col11\" class=\"data row9 col11\" >253</td>\n",
       "      <td id=\"T_6b39c_row9_col12\" class=\"data row9 col12\" >232</td>\n",
       "      <td id=\"T_6b39c_row9_col13\" class=\"data row9 col13\" >213</td>\n",
       "      <td id=\"T_6b39c_row9_col14\" class=\"data row9 col14\" >111</td>\n",
       "      <td id=\"T_6b39c_row9_col15\" class=\"data row9 col15\" >2</td>\n",
       "      <td id=\"T_6b39c_row9_col16\" class=\"data row9 col16\" >0</td>\n",
       "      <td id=\"T_6b39c_row9_col17\" class=\"data row9 col17\" >0</td>\n",
       "    </tr>\n",
       "    <tr>\n",
       "      <th id=\"T_6b39c_level0_row10\" class=\"row_heading level0 row10\" >10</th>\n",
       "      <td id=\"T_6b39c_row10_col0\" class=\"data row10 col0\" >0</td>\n",
       "      <td id=\"T_6b39c_row10_col1\" class=\"data row10 col1\" >0</td>\n",
       "      <td id=\"T_6b39c_row10_col2\" class=\"data row10 col2\" >0</td>\n",
       "      <td id=\"T_6b39c_row10_col3\" class=\"data row10 col3\" >0</td>\n",
       "      <td id=\"T_6b39c_row10_col4\" class=\"data row10 col4\" >0</td>\n",
       "      <td id=\"T_6b39c_row10_col5\" class=\"data row10 col5\" >0</td>\n",
       "      <td id=\"T_6b39c_row10_col6\" class=\"data row10 col6\" >0</td>\n",
       "      <td id=\"T_6b39c_row10_col7\" class=\"data row10 col7\" >43</td>\n",
       "      <td id=\"T_6b39c_row10_col8\" class=\"data row10 col8\" >98</td>\n",
       "      <td id=\"T_6b39c_row10_col9\" class=\"data row10 col9\" >98</td>\n",
       "      <td id=\"T_6b39c_row10_col10\" class=\"data row10 col10\" >208</td>\n",
       "      <td id=\"T_6b39c_row10_col11\" class=\"data row10 col11\" >253</td>\n",
       "      <td id=\"T_6b39c_row10_col12\" class=\"data row10 col12\" >253</td>\n",
       "      <td id=\"T_6b39c_row10_col13\" class=\"data row10 col13\" >253</td>\n",
       "      <td id=\"T_6b39c_row10_col14\" class=\"data row10 col14\" >253</td>\n",
       "      <td id=\"T_6b39c_row10_col15\" class=\"data row10 col15\" >187</td>\n",
       "      <td id=\"T_6b39c_row10_col16\" class=\"data row10 col16\" >22</td>\n",
       "      <td id=\"T_6b39c_row10_col17\" class=\"data row10 col17\" >0</td>\n",
       "    </tr>\n",
       "  </tbody>\n",
       "</table>\n"
      ],
      "text/plain": [
       "<pandas.io.formats.style.Styler at 0x7fb9e5ec66e0>"
      ]
     },
     "execution_count": 15,
     "metadata": {},
     "output_type": "execute_result"
    }
   ],
   "source": [
    "im3_t = tensor(array(im3))\n",
    "df = pd.DataFrame(im3_t[4:15,4:22])\n",
    "df.style.set_properties(**{'font-size':'6pt'}).background_gradient('Greys')"
   ]
  },
  {
   "cell_type": "code",
   "execution_count": 16,
   "id": "c521ef95-6eb8-4c0f-88e5-32aebd6bbdc6",
   "metadata": {},
   "outputs": [
    {
     "data": {
      "text/plain": [
       "(6265, 6131)"
      ]
     },
     "execution_count": 16,
     "metadata": {},
     "output_type": "execute_result"
    }
   ],
   "source": [
    "seven_tensors = [tensor(array(Image.open(o))) for o in sevens]\n",
    "three_tensors = [tensor(array(Image.open(o))) for o in threes]\n",
    "len(seven_tensors), len(three_tensors)"
   ]
  },
  {
   "cell_type": "code",
   "execution_count": 17,
   "id": "f1ba10d9-c15f-4bd4-85bf-57d651681886",
   "metadata": {},
   "outputs": [
    {
     "data": {
      "text/plain": [
       "<Axes: >"
      ]
     },
     "execution_count": 17,
     "metadata": {},
     "output_type": "execute_result"
    },
    {
     "data": {
      "image/png": "[encoded data removed]",
      "text/plain": [
       "<Figure size 100x100 with 1 Axes>"
      ]
     },
     "metadata": {},
     "output_type": "display_data"
    }
   ],
   "source": [
    "from fastai.vision.all import show_image\n",
    "show_image(three_tensors[1])"
   ]
  },
  {
   "cell_type": "code",
   "execution_count": 18,
   "id": "8df1d061-4b7e-4409-a167-6a31facf1659",
   "metadata": {},
   "outputs": [
    {
     "data": {
      "text/plain": [
       "torch.Size([6131, 28, 28])"
      ]
     },
     "execution_count": 18,
     "metadata": {},
     "output_type": "execute_result"
    }
   ],
   "source": [
    "stacked_threes = torch.stack(three_tensors).float()/255\n",
    "stacked_sevens = torch.stack(seven_tensors).float()/255\n",
    "stacked_threes.shape"
   ]
  },
  {
   "cell_type": "code",
   "execution_count": 19,
   "id": "381ae31a-343c-43a3-8cbb-d5efe7fad15e",
   "metadata": {},
   "outputs": [
    {
     "data": {
      "text/plain": [
       "<Axes: >"
      ]
     },
     "execution_count": 19,
     "metadata": {},
     "output_type": "execute_result"
    },
    {
     "data": {
      "image/png": "[encoded data removed]",
      "text/plain": [
       "<Figure size 100x100 with 1 Axes>"
      ]
     },
     "metadata": {},
     "output_type": "display_data"
    }
   ],
   "source": [
    "mean3 = stacked_threes.mean(0)\n",
    "show_image(mean3)"
   ]
  },
  {
   "cell_type": "code",
   "execution_count": 20,
   "id": "e0bf54a8-ab19-4c1a-960a-6200a0828cc0",
   "metadata": {},
   "outputs": [
    {
     "data": {
      "text/plain": [
       "<Axes: >"
      ]
     },
     "execution_count": 20,
     "metadata": {},
     "output_type": "execute_result"
    },
    {
     "data": {
      "image/png": "[encoded data removed]",
      "text/plain": [
       "<Figure size 100x100 with 1 Axes>"
      ]
     },
     "metadata": {},
     "output_type": "display_data"
    }
   ],
   "source": [
    "mean7 = stacked_sevens.mean(0)\n",
    "show_image(mean7)"
   ]
  },
  {
   "cell_type": "code",
   "execution_count": 21,
   "id": "8264ff01-88e7-43a7-a080-01529affef02",
   "metadata": {},
   "outputs": [
    {
     "data": {
      "text/plain": [
       "<Axes: >"
      ]
     },
     "execution_count": 21,
     "metadata": {},
     "output_type": "execute_result"
    },
    {
     "data": {
      "image/png": "[encoded data removed]",
      "text/plain": [
       "<Figure size 100x100 with 1 Axes>"
      ]
     },
     "metadata": {},
     "output_type": "display_data"
    }
   ],
   "source": [
    "a_3 = stacked_threes[1]\n",
    "show_image(a_3)"
   ]
  },
  {
   "cell_type": "code",
   "execution_count": 22,
   "id": "00cdbdae-db1e-41a5-98e8-1a65668f5317",
   "metadata": {},
   "outputs": [
    {
     "data": {
      "text/plain": [
       "(tensor(0.1114), tensor(0.2021))"
      ]
     },
     "execution_count": 22,
     "metadata": {},
     "output_type": "execute_result"
    }
   ],
   "source": [
    "F.l1_loss(a_3, mean3), F.mse_loss(a_3, mean3).sqrt()"
   ]
  },
  {
   "cell_type": "code",
   "execution_count": 23,
   "id": "77945804-a083-4197-8fc2-d3914045afb3",
   "metadata": {},
   "outputs": [
    {
     "data": {
      "text/plain": [
       "(tensor(0.1586), tensor(0.3021))"
      ]
     },
     "execution_count": 23,
     "metadata": {},
     "output_type": "execute_result"
    }
   ],
   "source": [
    "F.l1_loss(a_3, mean7), F.mse_loss(a_3, mean7).sqrt()"
   ]
  },
  {
   "cell_type": "code",
   "execution_count": 24,
   "id": "f83c7635-e31e-42e3-ac57-ccd9f0b41952",
   "metadata": {},
   "outputs": [
    {
     "data": {
      "text/plain": [
       "(torch.Size([1010, 28, 28]), torch.Size([1028, 28, 28]))"
      ]
     },
     "execution_count": 24,
     "metadata": {},
     "output_type": "execute_result"
    }
   ],
   "source": [
    "valid_3_tens = torch.stack([tensor(array(Image.open(o))) for o in (path/'valid'/'3').ls()])\n",
    "valid_3_tens = valid_3_tens.float()/255\n",
    "valid_7_tens = torch.stack([tensor(array(Image.open(o))) for o in (path/'valid'/'7').ls()])\n",
    "valid_7_tens = valid_7_tens.float()/255\n",
    "valid_3_tens.shape, valid_7_tens.shape"
   ]
  },
  {
   "cell_type": "code",
   "execution_count": 25,
   "id": "ed372a08-68d2-448e-ba5a-0d3f7274ef64",
   "metadata": {},
   "outputs": [],
   "source": [
    "def mnist_distance(a, b):\n",
    "    return (a-b).abs().mean((-1,-2))"
   ]
  },
  {
   "cell_type": "code",
   "execution_count": 26,
   "id": "a4796068-1c02-40e8-a6ac-29477ec2eea7",
   "metadata": {},
   "outputs": [
    {
     "data": {
      "text/plain": [
       "tensor(0.1114)"
      ]
     },
     "execution_count": 26,
     "metadata": {},
     "output_type": "execute_result"
    }
   ],
   "source": [
    "mnist_distance(a_3, mean3)"
   ]
  },
  {
   "cell_type": "code",
   "execution_count": 27,
   "id": "283d1a7f-1bc6-46c8-b99f-0ba1edcef563",
   "metadata": {},
   "outputs": [
    {
     "data": {
      "text/plain": [
       "(tensor([0.1254, 0.1506, 0.1180,  ..., 0.1179, 0.1435, 0.1508]),\n",
       " torch.Size([1010]))"
      ]
     },
     "execution_count": 27,
     "metadata": {},
     "output_type": "execute_result"
    }
   ],
   "source": [
    "valid_3_dist = mnist_distance(valid_3_tens, mean3)\n",
    "valid_3_dist, valid_3_dist.shape"
   ]
  },
  {
   "cell_type": "code",
   "execution_count": 28,
   "id": "e1e47ad9-6bfc-4868-be3b-d73bb91ec76e",
   "metadata": {},
   "outputs": [],
   "source": [
    "def is_3(x): return mnist_distance(x, mean3) < mnist_distance(x, mean7)"
   ]
  },
  {
   "cell_type": "code",
   "execution_count": 29,
   "id": "47dc1f9d-0f73-4a39-b14c-343740d5c936",
   "metadata": {},
   "outputs": [
    {
     "data": {
      "text/plain": [
       "(tensor(True), tensor(1.))"
      ]
     },
     "execution_count": 29,
     "metadata": {},
     "output_type": "execute_result"
    }
   ],
   "source": [
    "is_3(a_3), is_3(a_3).float()"
   ]
  },
  {
   "cell_type": "code",
   "execution_count": 30,
   "id": "8bef59c4-209d-441f-b3c8-de7912a86f2d",
   "metadata": {},
   "outputs": [
    {
     "data": {
      "text/plain": [
       "tensor([True, True, True,  ..., True, True, True])"
      ]
     },
     "execution_count": 30,
     "metadata": {},
     "output_type": "execute_result"
    }
   ],
   "source": [
    "is_3(valid_3_tens)"
   ]
  },
  {
   "cell_type": "code",
   "execution_count": 31,
   "id": "cd506409-1da6-4665-9ede-0e540bcc32c4",
   "metadata": {},
   "outputs": [
    {
     "data": {
      "text/plain": [
       "(tensor(0.9168), tensor(0.9854))"
      ]
     },
     "execution_count": 31,
     "metadata": {},
     "output_type": "execute_result"
    }
   ],
   "source": [
    "accuracy_3s = is_3(valid_3_tens).float().mean()\n",
    "accuracy_7s = (1-is_3(valid_7_tens).float()).mean()\n",
    "accuracy_3s, accuracy_7s"
   ]
  },
  {
   "cell_type": "code",
   "execution_count": 32,
   "id": "8942940b-62e0-4140-b71a-77c9c86594ac",
   "metadata": {},
   "outputs": [
    {
     "data": {
      "image/png": "[encoded data removed]",
      "text/plain": [
       "<Figure size 600x400 with 1 Axes>"
      ]
     },
     "metadata": {},
     "output_type": "display_data"
    }
   ],
   "source": [
    "import matplotlib.pyplot as plt\n",
    "def plot_function(f, tx=None, ty=None, title=None, min=-2, max=2, steps=100, figsize=(6,4)):\n",
    "    x = torch.linspace(min,max, steps)\n",
    "    fig,ax = plt.subplots(figsize=figsize)\n",
    "    ax.plot(x,f(x))\n",
    "    if tx is not None: ax.set_xlabel(tx)\n",
    "    if ty is not None: ax.set_ylabel(ty)\n",
    "    if title is not None: ax.set_title(title)\n",
    "f = lambda x: x**2\n",
    "plot_function(f, 'x', 'x**2')"
   ]
  },
  {
   "cell_type": "code",
   "execution_count": 33,
   "id": "a16da5b3-c851-4eb5-84a8-4af04dd017a4",
   "metadata": {},
   "outputs": [
    {
     "data": {
      "image/png": "[encoded data removed]",
      "text/plain": [
       "<Figure size 600x400 with 1 Axes>"
      ]
     },
     "metadata": {},
     "output_type": "display_data"
    }
   ],
   "source": [
    "plot_function(f, 'x', 'x**2')\n",
    "plt.scatter(-1.5, f(-1.5), color='red');"
   ]
  },
  {
   "cell_type": "code",
   "execution_count": 34,
   "id": "d0a7c15f-dbf6-468c-bb1f-f5ae015e14c7",
   "metadata": {},
   "outputs": [],
   "source": [
    "xt = tensor(3.).requires_grad_()"
   ]
  },
  {
   "cell_type": "code",
   "execution_count": 35,
   "id": "271d82b9-9556-4314-8141-69016c1919d9",
   "metadata": {},
   "outputs": [],
   "source": [
    "yt = f(xt)"
   ]
  },
  {
   "cell_type": "code",
   "execution_count": 36,
   "id": "7ed7dfb1-1fa2-4c49-bf15-45e1d3f31c3e",
   "metadata": {},
   "outputs": [],
   "source": [
    "yt.backward()"
   ]
  },
  {
   "cell_type": "code",
   "execution_count": 37,
   "id": "e97a1db0-1ae2-4443-a64f-e1074d190c79",
   "metadata": {},
   "outputs": [
    {
     "data": {
      "text/plain": [
       "tensor(6.)"
      ]
     },
     "execution_count": 37,
     "metadata": {},
     "output_type": "execute_result"
    }
   ],
   "source": [
    "xt.grad"
   ]
  },
  {
   "cell_type": "code",
   "execution_count": 38,
   "id": "e7e38b34-f932-444a-9ecd-bb5dd14ddd1e",
   "metadata": {},
   "outputs": [
    {
     "data": {
      "text/plain": [
       "tensor([ 0.,  1.,  2.,  3.,  4.,  5.,  6.,  7.,  8.,  9., 10., 11., 12., 13., 14., 15., 16., 17., 18., 19.])"
      ]
     },
     "execution_count": 38,
     "metadata": {},
     "output_type": "execute_result"
    }
   ],
   "source": [
    "time = torch.arange(0, 20).float()\n",
    "time"
   ]
  },
  {
   "cell_type": "code",
   "execution_count": 39,
   "id": "2a125548-1e53-4f4a-8818-4a3d68a8a211",
   "metadata": {},
   "outputs": [
    {
     "data": {
      "text/plain": [
       "<matplotlib.collections.PathCollection at 0x7fb9e51fdcc0>"
      ]
     },
     "execution_count": 39,
     "metadata": {},
     "output_type": "execute_result"
    },
    {
     "data": {
      "image/png": "[encoded data removed]",
      "text/plain": [
       "<Figure size 640x480 with 1 Axes>"
      ]
     },
     "metadata": {},
     "output_type": "display_data"
    }
   ],
   "source": [
    "speed = torch.rand(20) * 3 + 0.75 * (time - 9.5)**2 + 1\n",
    "plt.scatter(time, speed)"
   ]
  },
  {
   "cell_type": "code",
   "execution_count": 40,
   "id": "90ff0e8c-bfeb-4891-9660-3808e964af7d",
   "metadata": {},
   "outputs": [],
   "source": [
    "def f(t, params):\n",
    "    a, b, c = params\n",
    "    return a*(t**2) + (b*t) + c"
   ]
  },
  {
   "cell_type": "code",
   "execution_count": 41,
   "id": "d9367f63-f9eb-459a-83ef-f76715ba0ee9",
   "metadata": {},
   "outputs": [],
   "source": [
    "def mse(preds, targets):\n",
    "    return ((preds-targets)**2).mean()"
   ]
  },
  {
   "cell_type": "code",
   "execution_count": 42,
   "id": "07917ce1-77e2-46b4-97db-6eb4e29eb6d1",
   "metadata": {},
   "outputs": [],
   "source": [
    "params = torch.randn(3).requires_grad_()"
   ]
  },
  {
   "cell_type": "code",
   "execution_count": 43,
   "id": "1817f6df-f342-4c0b-8124-45e26eb54c56",
   "metadata": {},
   "outputs": [],
   "source": [
    "orig_params = params.clone()"
   ]
  },
  {
   "cell_type": "code",
   "execution_count": 44,
   "id": "d1ecdda1-45f1-4d39-8def-f01a19f5d08d",
   "metadata": {},
   "outputs": [],
   "source": [
    "preds = f(time, params)"
   ]
  },
  {
   "cell_type": "code",
   "execution_count": 45,
   "id": "cbd7b387-64c4-4942-90cc-bc69fd2c562c",
   "metadata": {},
   "outputs": [],
   "source": [
    "def show_preds(preds, ax=None):\n",
    "    if ax is None: ax = plt.subplots()[1]\n",
    "    ax.scatter(time, speed)\n",
    "    ax.scatter(time, to_np(preds), color='red')\n",
    "    ax.set_ylim(-300, 100)"
   ]
  },
  {
   "cell_type": "code",
   "execution_count": 46,
   "id": "8ff08b32-8f69-4014-8f53-7ebf7e4a27de",
   "metadata": {},
   "outputs": [
    {
     "data": {
      "image/png": "[encoded data removed]",
      "text/plain": [
       "<Figure size 640x480 with 1 Axes>"
      ]
     },
     "metadata": {},
     "output_type": "display_data"
    }
   ],
   "source": [
    "show_preds(preds)"
   ]
  },
  {
   "cell_type": "code",
   "execution_count": 47,
   "id": "b54ecd5a-078c-4956-bafe-f23af8905b9e",
   "metadata": {},
   "outputs": [
    {
     "data": {
      "text/plain": [
       "tensor(6271.1558, grad_fn=<MeanBackward0>)"
      ]
     },
     "execution_count": 47,
     "metadata": {},
     "output_type": "execute_result"
    }
   ],
   "source": [
    "loss = mse(preds, speed)\n",
    "loss"
   ]
  },
  {
   "cell_type": "code",
   "execution_count": 48,
   "id": "da36659a-6e81-4944-ac1c-255b4e5e4ba9",
   "metadata": {},
   "outputs": [
    {
     "data": {
      "text/plain": [
       "tensor([25124.4727,  1624.3723,    94.0216])"
      ]
     },
     "execution_count": 48,
     "metadata": {},
     "output_type": "execute_result"
    }
   ],
   "source": [
    "loss.backward()\n",
    "params.grad"
   ]
  },
  {
   "cell_type": "code",
   "execution_count": 49,
   "id": "381c0167-cc15-4ffa-99c2-7465a730909d",
   "metadata": {},
   "outputs": [
    {
     "data": {
      "text/plain": [
       "tensor([0.2512, 0.0162, 0.0009])"
      ]
     },
     "execution_count": 49,
     "metadata": {},
     "output_type": "execute_result"
    }
   ],
   "source": [
    "params.grad * 1e-5"
   ]
  },
  {
   "cell_type": "code",
   "execution_count": 50,
   "id": "856e2f8b-a38e-46c9-b4c4-92fdb613fd2d",
   "metadata": {},
   "outputs": [
    {
     "data": {
      "text/plain": [
       "tensor([0.5349, 0.8094, 1.1103], requires_grad=True)"
      ]
     },
     "execution_count": 50,
     "metadata": {},
     "output_type": "execute_result"
    }
   ],
   "source": [
    "params"
   ]
  },
  {
   "cell_type": "code",
   "execution_count": 51,
   "id": "cdb7f81d-6a59-429a-a6e8-3b2d66d3d4e9",
   "metadata": {},
   "outputs": [],
   "source": [
    "lr = 1e-5\n",
    "params.data -= lr * params.grad.data\n",
    "params.grad = None"
   ]
  },
  {
   "cell_type": "code",
   "execution_count": 52,
   "id": "dcb0ae09-51ed-4cc8-80bd-d64d421aa0f8",
   "metadata": {},
   "outputs": [
    {
     "data": {
      "text/plain": [
       "tensor(1722.9987, grad_fn=<MeanBackward0>)"
      ]
     },
     "execution_count": 52,
     "metadata": {},
     "output_type": "execute_result"
    }
   ],
   "source": [
    "preds = f(time, params)\n",
    "mse(preds, speed)"
   ]
  },
  {
   "cell_type": "code",
   "execution_count": 53,
   "id": "66d6eb44-5161-4c07-ad9a-6226e5888281",
   "metadata": {},
   "outputs": [
    {
     "data": {
      "image/png": "[encoded data removed]",
      "text/plain": [
       "<Figure size 640x480 with 1 Axes>"
      ]
     },
     "metadata": {},
     "output_type": "display_data"
    }
   ],
   "source": [
    "show_preds(preds)"
   ]
  },
  {
   "cell_type": "code",
   "execution_count": 54,
   "id": "24654b5d-d8b5-4c54-8a07-f55065e75a94",
   "metadata": {},
   "outputs": [],
   "source": [
    "def apply_step(params, prn=True):\n",
    "    preds = f(time, params)\n",
    "    loss = mse(preds, speed)\n",
    "    loss.backward()\n",
    "    params.data -= lr * params.grad.data\n",
    "    params.grad = None\n",
    "    if prn: \n",
    "        print(loss.item())\n",
    "    return preds"
   ]
  },
  {
   "cell_type": "code",
   "execution_count": 55,
   "id": "a6062547-5334-4cfa-89bb-8e37c13a41dc",
   "metadata": {},
   "outputs": [
    {
     "name": "stdout",
     "output_type": "stream",
     "text": [
      "1722.9986572265625\n",
      "862.3447265625\n",
      "699.4794311523438\n",
      "668.6570434570312\n",
      "662.8212890625\n",
      "661.7135620117188\n",
      "661.5006103515625\n",
      "661.4569091796875\n",
      "661.4454345703125\n",
      "661.4398803710938\n"
     ]
    }
   ],
   "source": [
    "for i in range(10):\n",
    "    apply_step(params)"
   ]
  },
  {
   "cell_type": "code",
   "execution_count": 56,
   "id": "72a1d1d8-1572-4714-8b56-528cdbfe4617",
   "metadata": {},
   "outputs": [],
   "source": [
    "params = orig_params.detach().requires_grad_()"
   ]
  },
  {
   "cell_type": "code",
   "execution_count": 57,
   "id": "2c09bea8-c25a-4a77-953d-ed479e1abe0c",
   "metadata": {},
   "outputs": [
    {
     "data": {
      "image/png": "[encoded data removed]",
      "text/plain": [
       "<Figure size 1200x300 with 4 Axes>"
      ]
     },
     "metadata": {},
     "output_type": "display_data"
    }
   ],
   "source": [
    "_, axs = plt.subplots(1, 4, figsize=(12, 3))\n",
    "for ax in axs:\n",
    "    show_preds(apply_step(params, False), ax)\n",
    "plt.tight_layout()"
   ]
  },
  {
   "cell_type": "code",
   "execution_count": 58,
   "id": "1a856307-dddd-4d5f-ade6-1d906dfce23d",
   "metadata": {},
   "outputs": [
    {
     "data": {
      "image/svg+xml": [
       "<?xml version=\"1.0\" encoding=\"UTF-8\" standalone=\"no\"?>\n",
       "<!DOCTYPE svg PUBLIC \"-//W3C//DTD SVG 1.1//EN\"\n",
       " \"http://www.w3.org/Graphics/SVG/1.1/DTD/svg11.dtd\">\n",
       "<!-- Generated by graphviz version 2.43.0 (0)\n",
       " -->\n",
       "<!-- Title: G Pages: 1 -->\n",
       "<svg width=\"661pt\" height=\"78pt\"\n",
       " viewBox=\"0.00 0.00 660.87 78.00\" xmlns=\"http://www.w3.org/2000/svg\" xmlns:xlink=\"http://www.w3.org/1999/xlink\">\n",
       "<g id=\"graph0\" class=\"graph\" transform=\"scale(1 1) rotate(0) translate(4 74)\">\n",
       "<title>G</title>\n",
       "<polygon fill=\"white\" stroke=\"transparent\" points=\"-4,4 -4,-74 656.87,-74 656.87,4 -4,4\"/>\n",
       "<!-- init -->\n",
       "<g id=\"node1\" class=\"node\">\n",
       "<title>init</title>\n",
       "<ellipse fill=\"none\" stroke=\"black\" cx=\"27\" cy=\"-18\" rx=\"27\" ry=\"18\"/>\n",
       "<text text-anchor=\"middle\" x=\"27\" y=\"-14.3\" font-family=\"Times,serif\" font-size=\"14.00\">init</text>\n",
       "</g>\n",
       "<!-- predict -->\n",
       "<g id=\"node2\" class=\"node\">\n",
       "<title>predict</title>\n",
       "<ellipse fill=\"none\" stroke=\"black\" cx=\"135.2\" cy=\"-18\" rx=\"44.39\" ry=\"18\"/>\n",
       "<text text-anchor=\"middle\" x=\"135.2\" y=\"-14.3\" font-family=\"Times,serif\" font-size=\"14.00\">predict</text>\n",
       "</g>\n",
       "<!-- init&#45;&gt;predict -->\n",
       "<g id=\"edge1\" class=\"edge\">\n",
       "<title>init&#45;&gt;predict</title>\n",
       "<path fill=\"none\" stroke=\"black\" d=\"M54.25,-18C62.37,-18 71.63,-18 80.89,-18\"/>\n",
       "<polygon fill=\"black\" stroke=\"black\" points=\"80.89,-21.5 90.89,-18 80.89,-14.5 80.89,-21.5\"/>\n",
       "</g>\n",
       "<!-- loss -->\n",
       "<g id=\"node3\" class=\"node\">\n",
       "<title>loss</title>\n",
       "<ellipse fill=\"none\" stroke=\"black\" cx=\"244.99\" cy=\"-52\" rx=\"28.7\" ry=\"18\"/>\n",
       "<text text-anchor=\"middle\" x=\"244.99\" y=\"-48.3\" font-family=\"Times,serif\" font-size=\"14.00\">loss</text>\n",
       "</g>\n",
       "<!-- predict&#45;&gt;loss -->\n",
       "<g id=\"edge2\" class=\"edge\">\n",
       "<title>predict&#45;&gt;loss</title>\n",
       "<path fill=\"none\" stroke=\"black\" d=\"M170.6,-28.85C183.05,-32.78 197.09,-37.21 209.54,-41.14\"/>\n",
       "<polygon fill=\"black\" stroke=\"black\" points=\"208.53,-44.49 219.12,-44.16 210.64,-37.81 208.53,-44.49\"/>\n",
       "</g>\n",
       "<!-- gradient -->\n",
       "<g id=\"node4\" class=\"node\">\n",
       "<title>gradient</title>\n",
       "<ellipse fill=\"none\" stroke=\"black\" cx=\"406.63\" cy=\"-52\" rx=\"50.09\" ry=\"18\"/>\n",
       "<text text-anchor=\"middle\" x=\"406.63\" y=\"-48.3\" font-family=\"Times,serif\" font-size=\"14.00\">gradient</text>\n",
       "</g>\n",
       "<!-- loss&#45;&gt;gradient -->\n",
       "<g id=\"edge3\" class=\"edge\">\n",
       "<title>loss&#45;&gt;gradient</title>\n",
       "<path fill=\"none\" stroke=\"black\" d=\"M273.8,-52C293.82,-52 321.57,-52 346.45,-52\"/>\n",
       "<polygon fill=\"black\" stroke=\"black\" points=\"346.55,-55.5 356.55,-52 346.55,-48.5 346.55,-55.5\"/>\n",
       "</g>\n",
       "<!-- step -->\n",
       "<g id=\"node5\" class=\"node\">\n",
       "<title>step</title>\n",
       "<ellipse fill=\"none\" stroke=\"black\" cx=\"524.23\" cy=\"-18\" rx=\"30.59\" ry=\"18\"/>\n",
       "<text text-anchor=\"middle\" x=\"524.23\" y=\"-14.3\" font-family=\"Times,serif\" font-size=\"14.00\">step</text>\n",
       "</g>\n",
       "<!-- gradient&#45;&gt;step -->\n",
       "<g id=\"edge4\" class=\"edge\">\n",
       "<title>gradient&#45;&gt;step</title>\n",
       "<path fill=\"none\" stroke=\"black\" d=\"M445.8,-40.77C459.01,-36.89 473.76,-32.55 486.82,-28.71\"/>\n",
       "<polygon fill=\"black\" stroke=\"black\" points=\"487.82,-32.06 496.43,-25.88 485.85,-25.35 487.82,-32.06\"/>\n",
       "</g>\n",
       "<!-- step&#45;&gt;predict -->\n",
       "<g id=\"edge6\" class=\"edge\">\n",
       "<title>step&#45;&gt;predict</title>\n",
       "<path fill=\"none\" stroke=\"black\" d=\"M493.68,-18C428.65,-18 272.39,-18 189.67,-18\"/>\n",
       "<polygon fill=\"black\" stroke=\"black\" points=\"189.47,-14.5 179.47,-18 189.47,-21.5 189.47,-14.5\"/>\n",
       "<text text-anchor=\"middle\" x=\"315.09\" y=\"-21.8\" font-family=\"Times,serif\" font-size=\"14.00\">repeat</text>\n",
       "</g>\n",
       "<!-- stop -->\n",
       "<g id=\"node6\" class=\"node\">\n",
       "<title>stop</title>\n",
       "<ellipse fill=\"none\" stroke=\"black\" cx=\"622.32\" cy=\"-18\" rx=\"30.59\" ry=\"18\"/>\n",
       "<text text-anchor=\"middle\" x=\"622.32\" y=\"-14.3\" font-family=\"Times,serif\" font-size=\"14.00\">stop</text>\n",
       "</g>\n",
       "<!-- step&#45;&gt;stop -->\n",
       "<g id=\"edge5\" class=\"edge\">\n",
       "<title>step&#45;&gt;stop</title>\n",
       "<path fill=\"none\" stroke=\"black\" d=\"M554.84,-18C563.24,-18 572.53,-18 581.44,-18\"/>\n",
       "<polygon fill=\"black\" stroke=\"black\" points=\"581.64,-21.5 591.64,-18 581.64,-14.5 581.64,-21.5\"/>\n",
       "</g>\n",
       "</g>\n",
       "</svg>\n"
      ],
      "text/plain": [
       "<graphviz.sources.Source at 0x7fb9e030e980>"
      ]
     },
     "execution_count": 58,
     "metadata": {},
     "output_type": "execute_result"
    }
   ],
   "source": [
    "#hide_input\n",
    "#id gradient_descent\n",
    "#caption The gradient descent process\n",
    "#alt Graph showing the steps for Gradient Descent\n",
    "gv('''\n",
    "init->predict->loss->gradient->step->stop\n",
    "step->predict[label=repeat]\n",
    "''')"
   ]
  },
  {
   "cell_type": "code",
   "execution_count": 59,
   "id": "3f6b1939-cb84-4ad5-964a-3ea4081eac76",
   "metadata": {},
   "outputs": [],
   "source": [
    "# MNIST"
   ]
  },
  {
   "cell_type": "code",
   "execution_count": 60,
   "id": "b9aae4f8-03a0-45ed-b470-dedfebb55d95",
   "metadata": {},
   "outputs": [],
   "source": [
    "train_x = torch.cat([stacked_threes, stacked_sevens]).view(-1, 28*28)"
   ]
  },
  {
   "cell_type": "code",
   "execution_count": 61,
   "id": "759f9c53-e000-4ae7-a795-780d4bf6a37b",
   "metadata": {},
   "outputs": [
    {
     "data": {
      "text/plain": [
       "torch.Size([12396, 784])"
      ]
     },
     "execution_count": 61,
     "metadata": {},
     "output_type": "execute_result"
    }
   ],
   "source": [
    "train_x.shape"
   ]
  },
  {
   "cell_type": "code",
   "execution_count": 62,
   "id": "d34b9837-ae78-4bca-ad3d-1bde44dae76e",
   "metadata": {},
   "outputs": [
    {
     "data": {
      "text/plain": [
       "torch.Size([12396, 1])"
      ]
     },
     "execution_count": 62,
     "metadata": {},
     "output_type": "execute_result"
    }
   ],
   "source": [
    "train_y = tensor([1] * len(threes) + [0] * len(sevens)).unsqueeze(1)\n",
    "train_y.shape"
   ]
  },
  {
   "cell_type": "code",
   "execution_count": 63,
   "id": "cba0ab63-b5e8-4e0d-b8f1-63cd21ba31f0",
   "metadata": {},
   "outputs": [
    {
     "data": {
      "text/plain": [
       "(torch.Size([784]), tensor([1]))"
      ]
     },
     "execution_count": 63,
     "metadata": {},
     "output_type": "execute_result"
    }
   ],
   "source": [
    "dset = list(zip(train_x, train_y))\n",
    "x, y = dset[0]\n",
    "x.shape, y"
   ]
  },
  {
   "cell_type": "code",
   "execution_count": 64,
   "id": "f44a5c9f-bd44-49f8-addf-9fabdd65f445",
   "metadata": {},
   "outputs": [],
   "source": [
    "valid_x = torch.cat([valid_3_tens, valid_7_tens]).view(-1, 28*28)\n",
    "valid_y = tensor([1] * len(valid_3_tens) + [0] * len(valid_7_tens)).unsqueeze(1)\n",
    "valid_dest = list(zip(valid_x, valid_y))"
   ]
  },
  {
   "cell_type": "code",
   "execution_count": 65,
   "id": "971c6031-3092-4942-88a5-710cdf4b40db",
   "metadata": {},
   "outputs": [],
   "source": [
    "def init_params(size, std=1.0):\n",
    "    return (torch.randn(size) * std).requires_grad_()"
   ]
  },
  {
   "cell_type": "code",
   "execution_count": 66,
   "id": "00e7db75-a183-468f-8a0c-6d97fe7a5f51",
   "metadata": {},
   "outputs": [
    {
     "data": {
      "text/plain": [
       "tensor([[-1.1109],\n",
       "        [ 0.0915],\n",
       "        [-2.3169],\n",
       "        [-0.2168],\n",
       "        [-1.3847]], grad_fn=<SliceBackward0>)"
      ]
     },
     "execution_count": 66,
     "metadata": {},
     "output_type": "execute_result"
    }
   ],
   "source": [
    "weights = init_params((28*28, 1))\n",
    "weights[:5]"
   ]
  },
  {
   "cell_type": "code",
   "execution_count": 67,
   "id": "54e310c1-18b6-4804-abda-c4d1bb7003e2",
   "metadata": {},
   "outputs": [],
   "source": [
    "bias = init_params(1)"
   ]
  },
  {
   "cell_type": "code",
   "execution_count": 68,
   "id": "470fefa4-8650-4175-a4b4-8411748a69eb",
   "metadata": {},
   "outputs": [
    {
     "data": {
      "text/plain": [
       "tensor([6.0210], grad_fn=<AddBackward0>)"
      ]
     },
     "execution_count": 68,
     "metadata": {},
     "output_type": "execute_result"
    }
   ],
   "source": [
    "(train_x[0] * weights.T).sum() + bias"
   ]
  },
  {
   "cell_type": "code",
   "execution_count": 69,
   "id": "ea575393-861a-4a58-aac8-e7f66d07debd",
   "metadata": {},
   "outputs": [
    {
     "data": {
      "text/plain": [
       "tensor([[  6.0209],\n",
       "        [ -7.9800],\n",
       "        [-11.1979],\n",
       "        ...,\n",
       "        [-11.9900],\n",
       "        [  7.9160],\n",
       "        [ -1.7560]], grad_fn=<AddBackward0>)"
      ]
     },
     "execution_count": 69,
     "metadata": {},
     "output_type": "execute_result"
    }
   ],
   "source": [
    "# def linear1(xb):\n",
    "#     return xb@weights + bias\n",
    "def linear1(xb): return xb@weights + bias\n",
    "preds = linear1(train_x)\n",
    "preds"
   ]
  },
  {
   "cell_type": "code",
   "execution_count": 70,
   "id": "3bbf0500-f286-4f9f-9514-cb679f397413",
   "metadata": {},
   "outputs": [
    {
     "data": {
      "text/plain": [
       "tensor([[ True],\n",
       "        [False],\n",
       "        [False],\n",
       "        ...,\n",
       "        [ True],\n",
       "        [False],\n",
       "        [ True]])"
      ]
     },
     "execution_count": 70,
     "metadata": {},
     "output_type": "execute_result"
    }
   ],
   "source": [
    "corrects = (preds > 0.0).float() == train_y\n",
    "corrects"
   ]
  },
  {
   "cell_type": "code",
   "execution_count": 71,
   "id": "a90b31af-2ec8-4ff9-ba03-8a1cb1adbdfb",
   "metadata": {},
   "outputs": [
    {
     "data": {
      "text/plain": [
       "0.3568086624145508"
      ]
     },
     "execution_count": 71,
     "metadata": {},
     "output_type": "execute_result"
    }
   ],
   "source": [
    "corrects.float().mean().item()"
   ]
  },
  {
   "cell_type": "code",
   "execution_count": 72,
   "id": "62e9e388-c2a5-49d8-ac0a-8634030c6392",
   "metadata": {},
   "outputs": [],
   "source": [
    "with torch.no_grad():\n",
    "    weights[0] *= 1.0001"
   ]
  },
  {
   "cell_type": "code",
   "execution_count": 73,
   "id": "1aead5ed-ee2a-486e-aca8-4a746e4b6ce6",
   "metadata": {},
   "outputs": [],
   "source": [
    "def mnist_loss(predictions, targets):\n",
    "    return torch.where(targets==1, 1-predictions, predictions).mean()"
   ]
  },
  {
   "cell_type": "code",
   "execution_count": 74,
   "id": "12817283-0622-4489-bcf3-921c0164c2a2",
   "metadata": {},
   "outputs": [
    {
     "data": {
      "text/plain": [
       "tensor([0.1000, 0.4000, 0.8000])"
      ]
     },
     "execution_count": 74,
     "metadata": {},
     "output_type": "execute_result"
    }
   ],
   "source": [
    "trgts  = tensor([1,0,1])\n",
    "prds   = tensor([0.9, 0.4, 0.2])\n",
    "torch.where(trgts==1, 1-prds, prds)"
   ]
  },
  {
   "cell_type": "code",
   "execution_count": 75,
   "id": "80c50659-1119-4ce7-91ef-fda547932259",
   "metadata": {},
   "outputs": [
    {
     "data": {
      "text/plain": [
       "tensor(0.4333)"
      ]
     },
     "execution_count": 75,
     "metadata": {},
     "output_type": "execute_result"
    }
   ],
   "source": [
    "mnist_loss(prds, trgts)"
   ]
  },
  {
   "cell_type": "code",
   "execution_count": 76,
   "id": "b6d1893c-965d-454d-8c93-24cdeed512b3",
   "metadata": {},
   "outputs": [],
   "source": [
    "def sigmoid(x):\n",
    "    return 1 / (1 + torch.exp(-x))"
   ]
  },
  {
   "cell_type": "code",
   "execution_count": 77,
   "id": "ab43e0e2-54c3-4aaa-ae71-836980ca1b6f",
   "metadata": {},
   "outputs": [
    {
     "data": {
      "image/png": "[encoded data removed]",
      "text/plain": [
       "<Figure size 600x400 with 1 Axes>"
      ]
     },
     "metadata": {},
     "output_type": "display_data"
    }
   ],
   "source": [
    "plot_function(torch.sigmoid, title='Sigmoid', min=-5, max=5)"
   ]
  },
  {
   "cell_type": "code",
   "execution_count": 78,
   "id": "7d0157d9-bfdb-4d4f-9c66-3a8913660f3a",
   "metadata": {},
   "outputs": [],
   "source": [
    "def mnist_loss(predictions, targets):\n",
    "    predictions = predictions.sigmoid()\n",
    "    return torch.where(targets==1, 1-predictions, predictions).mean()"
   ]
  },
  {
   "cell_type": "code",
   "execution_count": 79,
   "id": "a1432051-beab-41ca-8d8f-6d67f5f1307e",
   "metadata": {},
   "outputs": [
    {
     "data": {
      "text/plain": [
       "[tensor([ 3, 12,  8, 10,  2]),\n",
       " tensor([ 9,  4,  7, 14,  5]),\n",
       " tensor([ 1, 13,  0,  6, 11])]"
      ]
     },
     "execution_count": 79,
     "metadata": {},
     "output_type": "execute_result"
    }
   ],
   "source": [
    "coll = range(15)\n",
    "dl = DataLoader(coll, batch_size=5, shuffle=True)\n",
    "list(dl)"
   ]
  },
  {
   "cell_type": "code",
   "execution_count": 80,
   "id": "b358f8eb-a58b-41c2-96a1-b04272a01b36",
   "metadata": {},
   "outputs": [],
   "source": [
    "weights = init_params((28*28,1))\n",
    "bias = init_params(1)"
   ]
  },
  {
   "cell_type": "code",
   "execution_count": 81,
   "id": "81c9c0b7-4f7f-4429-a048-c43de0c66a29",
   "metadata": {},
   "outputs": [
    {
     "data": {
      "text/plain": [
       "(torch.Size([256, 784]), torch.Size([256, 1]))"
      ]
     },
     "execution_count": 81,
     "metadata": {},
     "output_type": "execute_result"
    }
   ],
   "source": [
    "dl = DataLoader(dset, batch_size=256)\n",
    "xb, yb = first(dl)\n",
    "xb.shape, yb.shape"
   ]
  },
  {
   "cell_type": "code",
   "execution_count": 82,
   "id": "6b177df1-9c3e-42cf-9949-8584e7252f23",
   "metadata": {},
   "outputs": [],
   "source": [
    "valid_dset = valid_dest\n",
    "valid_dl = DataLoader(valid_dset, batch_size=256)"
   ]
  },
  {
   "cell_type": "code",
   "execution_count": 83,
   "id": "b0ca228a-20d2-4d6d-9ea9-ab16d7bc8c27",
   "metadata": {},
   "outputs": [],
   "source": [
    "bz1, bz2 = 5, 10\n",
    "batch = train_x[bz1:bz2]\n",
    "valid_batch = train_y[bz1:bz2]\n",
    "#batch.shape, batch, valid_batch, valid_batch.shape"
   ]
  },
  {
   "cell_type": "code",
   "execution_count": 84,
   "id": "b570a606-046a-4be1-8f68-6cc9ea3e45b9",
   "metadata": {},
   "outputs": [
    {
     "data": {
      "text/plain": [
       "tensor([[15.7885],\n",
       "        [-4.8862],\n",
       "        [22.9951],\n",
       "        [ 2.7429],\n",
       "        [11.5164]], grad_fn=<AddBackward0>)"
      ]
     },
     "execution_count": 84,
     "metadata": {},
     "output_type": "execute_result"
    }
   ],
   "source": [
    "preds = linear1(batch)\n",
    "preds"
   ]
  },
  {
   "cell_type": "code",
   "execution_count": 85,
   "id": "918655fa-8881-400b-bd41-80a24ba55a6d",
   "metadata": {},
   "outputs": [
    {
     "data": {
      "text/plain": [
       "tensor(0.2106, grad_fn=<MeanBackward0>)"
      ]
     },
     "execution_count": 85,
     "metadata": {},
     "output_type": "execute_result"
    }
   ],
   "source": [
    "loss = mnist_loss(preds, valid_batch)\n",
    "loss"
   ]
  },
  {
   "cell_type": "code",
   "execution_count": 86,
   "id": "524d165b-11b7-423c-9279-d7baf07308d1",
   "metadata": {},
   "outputs": [
    {
     "data": {
      "text/plain": [
       "(torch.Size([784, 1]), tensor(-0.0022), tensor([-0.0129]))"
      ]
     },
     "execution_count": 86,
     "metadata": {},
     "output_type": "execute_result"
    }
   ],
   "source": [
    "loss.backward()\n",
    "weights.grad.shape, weights.grad.mean(), bias.grad"
   ]
  },
  {
   "cell_type": "code",
   "execution_count": 87,
   "id": "701ffac9-e676-4e58-bf36-44a7e17790a0",
   "metadata": {},
   "outputs": [],
   "source": [
    "def calc_grad(xb, yb, model):\n",
    "    preds = model(xb)\n",
    "    loss = mnist_loss(preds, yb)\n",
    "    loss.backward()"
   ]
  },
  {
   "cell_type": "code",
   "execution_count": 88,
   "id": "defda7b9-4350-4da8-9a74-9e85beea357b",
   "metadata": {},
   "outputs": [
    {
     "data": {
      "text/plain": [
       "(tensor(-0.0109), tensor([-0.0742]))"
      ]
     },
     "execution_count": 88,
     "metadata": {},
     "output_type": "execute_result"
    }
   ],
   "source": [
    "calc_grad(train_x[:4], train_y[:4], linear1)\n",
    "weights.grad.mean(), bias.grad"
   ]
  },
  {
   "cell_type": "code",
   "execution_count": 89,
   "id": "c431dd96-8d51-49a8-8c59-5637d51c75d3",
   "metadata": {},
   "outputs": [
    {
     "data": {
      "text/plain": [
       "tensor([0.])"
      ]
     },
     "execution_count": 89,
     "metadata": {},
     "output_type": "execute_result"
    }
   ],
   "source": [
    "weights.grad.zero_()\n",
    "bias.grad.zero_()"
   ]
  },
  {
   "cell_type": "code",
   "execution_count": 90,
   "id": "4296b314-4618-4b31-938a-eaab06fdc510",
   "metadata": {},
   "outputs": [],
   "source": [
    "def train_epoch(model, lr, pararms):\n",
    "    for xb, yb in dl:\n",
    "        calc_grad(xb, yb, model)\n",
    "        for p in params:\n",
    "            p.data -= p.grad * lr\n",
    "            p.grad.zero_()"
   ]
  },
  {
   "cell_type": "code",
   "execution_count": 91,
   "id": "68514d90-60e4-4fd1-9f36-243518851211",
   "metadata": {},
   "outputs": [
    {
     "data": {
      "text/plain": [
       "tensor([[15.7885],\n",
       "        [-4.8862],\n",
       "        [22.9951],\n",
       "        [ 2.7429],\n",
       "        [11.5164]], grad_fn=<AddBackward0>)"
      ]
     },
     "execution_count": 91,
     "metadata": {},
     "output_type": "execute_result"
    }
   ],
   "source": [
    "preds"
   ]
  },
  {
   "cell_type": "code",
   "execution_count": 92,
   "id": "bba72018-b39a-49b5-aef2-4a37873b21a0",
   "metadata": {},
   "outputs": [
    {
     "data": {
      "text/plain": [
       "tensor([[ True],\n",
       "        [False],\n",
       "        [ True],\n",
       "        [ True],\n",
       "        [ True]])"
      ]
     },
     "execution_count": 92,
     "metadata": {},
     "output_type": "execute_result"
    }
   ],
   "source": [
    "(preds > 0.0).float() == train_y[:5]"
   ]
  },
  {
   "cell_type": "code",
   "execution_count": 93,
   "id": "837a1df2-5936-44ed-9935-728be6ef020f",
   "metadata": {},
   "outputs": [],
   "source": [
    "def batch_accuracy(xb, yb):\n",
    "    preds = xb.sigmoid()\n",
    "    correct = (preds > 0.5) == yb\n",
    "    return correct.float().mean()"
   ]
  },
  {
   "cell_type": "code",
   "execution_count": 94,
   "id": "699ff1c3-4f10-4471-a4c3-5593a1b0134c",
   "metadata": {},
   "outputs": [
    {
     "data": {
      "text/plain": [
       "tensor(0.7500)"
      ]
     },
     "execution_count": 94,
     "metadata": {},
     "output_type": "execute_result"
    }
   ],
   "source": [
    "batch_accuracy(linear1(train_x[:4]), train_y[:4])"
   ]
  },
  {
   "cell_type": "code",
   "execution_count": 95,
   "id": "f561db28-dc87-4a20-9820-3a1ecf4a4523",
   "metadata": {},
   "outputs": [],
   "source": [
    "def validate_epoch(model):\n",
    "    accs = [batch_accuracy(model(xb), yb) for xb,yb in valid_dl]\n",
    "    return round(torch.stack(accs).mean().item(), 4)"
   ]
  },
  {
   "cell_type": "code",
   "execution_count": 96,
   "id": "cfeccb23-576b-4cec-9891-f321f85a5ad7",
   "metadata": {},
   "outputs": [
    {
     "data": {
      "text/plain": [
       "0.3512"
      ]
     },
     "execution_count": 96,
     "metadata": {},
     "output_type": "execute_result"
    }
   ],
   "source": [
    "validate_epoch(linear1)"
   ]
  },
  {
   "cell_type": "code",
   "execution_count": 97,
   "id": "c722ccfc-ab33-40df-816f-f0730c8c4ad7",
   "metadata": {},
   "outputs": [
    {
     "data": {
      "text/plain": [
       "0.4902"
      ]
     },
     "execution_count": 97,
     "metadata": {},
     "output_type": "execute_result"
    }
   ],
   "source": [
    "lr = 1.\n",
    "params = weights, bias\n",
    "train_epoch(linear1, lr, params)\n",
    "validate_epoch(linear1)"
   ]
  },
  {
   "cell_type": "code",
   "execution_count": 98,
   "id": "21b137d3-1ccd-4c11-babd-a1e7a1595d5e",
   "metadata": {},
   "outputs": [
    {
     "name": "stdout",
     "output_type": "stream",
     "text": [
      "0.4927 0.4946 0.4971 0.5025 0.6549 0.7509 0.9091 0.9413 0.954 0.9579 0.9609 0.9633 0.9667 0.9677 0.9687 0.9706 0.9716 0.9726 0.9731 0.9736 "
     ]
    }
   ],
   "source": [
    "for i in range(20):\n",
    "    train_epoch(linear1, lr, params)\n",
    "    print(validate_epoch(linear1), end=' ')"
   ]
  },
  {
   "cell_type": "markdown",
   "id": "9191096a-b6b8-4e46-9ee2-df24dc30489a",
   "metadata": {},
   "source": [
    "# Optimizer"
   ]
  },
  {
   "cell_type": "code",
   "execution_count": 99,
   "id": "4efe07e2-7985-4eb9-9774-3bb5778eacce",
   "metadata": {},
   "outputs": [],
   "source": [
    "linear_model = nn.Linear(28*28, 1)"
   ]
  },
  {
   "cell_type": "code",
   "execution_count": 100,
   "id": "8dfef55a-2840-4117-ac20-c70cd17af494",
   "metadata": {},
   "outputs": [],
   "source": [
    "w, b = linear_model.parameters()"
   ]
  },
  {
   "cell_type": "code",
   "execution_count": 101,
   "id": "8cfc436a-885e-4799-b109-1bbc43f08358",
   "metadata": {},
   "outputs": [
    {
     "data": {
      "text/plain": [
       "(torch.Size([1, 784]), torch.Size([1]))"
      ]
     },
     "execution_count": 101,
     "metadata": {},
     "output_type": "execute_result"
    }
   ],
   "source": [
    "w.shape, b.shape"
   ]
  },
  {
   "cell_type": "code",
   "execution_count": 102,
   "id": "7377f4b7-70c6-45cd-9d13-69b3cd74fca5",
   "metadata": {},
   "outputs": [],
   "source": [
    "class BasicOptim:\n",
    "    def __init__(self, params, lr):\n",
    "        self.params, self.lr = list(params), lr\n",
    "\n",
    "    def step(self, *args, **kwargs):\n",
    "        for p in self.params:\n",
    "            p.data -= p.grad.data * self.lr\n",
    "\n",
    "    def zero_grad(self, *args, **kwargs):\n",
    "        for p in self.params:\n",
    "            p.grad = None"
   ]
  },
  {
   "cell_type": "code",
   "execution_count": 103,
   "id": "bee9c4da-176a-406f-88f6-8c6267c5c4f5",
   "metadata": {},
   "outputs": [],
   "source": [
    "opt = BasicOptim(linear_model.parameters(), lr)"
   ]
  },
  {
   "cell_type": "code",
   "execution_count": 104,
   "id": "e2ba5ee0-74b5-4206-a1a7-a894f9feee67",
   "metadata": {},
   "outputs": [],
   "source": [
    "def train_epoch(model):\n",
    "    for xb, yb in dl:\n",
    "        calc_grad(xb, yb, model)\n",
    "        opt.step()\n",
    "        opt.zero_grad()"
   ]
  },
  {
   "cell_type": "code",
   "execution_count": 105,
   "id": "d4e17c64-ac7a-4097-93d6-9b7196407042",
   "metadata": {},
   "outputs": [
    {
     "data": {
      "text/plain": [
       "0.5878"
      ]
     },
     "execution_count": 105,
     "metadata": {},
     "output_type": "execute_result"
    }
   ],
   "source": [
    "validate_epoch(linear_model)"
   ]
  },
  {
   "cell_type": "code",
   "execution_count": 106,
   "id": "6bc5258e-9427-4dab-a0ea-4c04eb3932bb",
   "metadata": {},
   "outputs": [],
   "source": [
    "def train_model(model, epochs):\n",
    "    for i in range(epochs):\n",
    "        train_epoch(model)\n",
    "        print(validate_epoch(model), end=' ')"
   ]
  },
  {
   "cell_type": "code",
   "execution_count": 107,
   "id": "33a3d7f3-aa88-4a7a-8cd6-a443c4f357d6",
   "metadata": {},
   "outputs": [
    {
     "name": "stdout",
     "output_type": "stream",
     "text": [
      "0.4932 0.7734 0.8559 0.9175 0.935 0.9487 0.956 0.9638 0.9658 0.9677 0.9697 0.9726 0.9736 0.9751 0.9755 0.977 0.9775 0.978 0.9785 0.9785 "
     ]
    }
   ],
   "source": [
    "train_model(linear_model, 20)"
   ]
  },
  {
   "cell_type": "code",
   "execution_count": 108,
   "id": "3ab5400d-85db-4718-86aa-87539810739a",
   "metadata": {},
   "outputs": [
    {
     "name": "stdout",
     "output_type": "stream",
     "text": [
      "0.4932 0.8559 0.8379 0.9121 0.9326 0.9467 0.956 0.9633 0.9653 0.9668 0.9692 0.9712 0.9731 0.9741 0.976 0.976 0.9775 0.9785 0.9785 0.979 "
     ]
    }
   ],
   "source": [
    "linear_model = nn.Linear(28*28, 1)\n",
    "opt = SGD(linear_model.parameters(), lr)\n",
    "train_model(linear_model, 20)"
   ]
  },
  {
   "cell_type": "code",
   "execution_count": 109,
   "id": "0bc57524-05f6-4871-8dee-419e7edffe02",
   "metadata": {},
   "outputs": [],
   "source": [
    "dls = DataLoaders(dl, valid_dl)"
   ]
  },
  {
   "cell_type": "code",
   "execution_count": 110,
   "id": "f73eb461-a5d4-4075-998e-5668f0cd49bf",
   "metadata": {},
   "outputs": [],
   "source": [
    "learn = Learner(dls, nn.Linear(28*28, 1), opt_func=SGD, loss_func=mnist_loss, metrics=batch_accuracy)"
   ]
  },
  {
   "cell_type": "code",
   "execution_count": 111,
   "id": "5104b401-894e-42b7-9efc-1c7cd481caf6",
   "metadata": {},
   "outputs": [
    {
     "data": {
      "text/html": [
       "\n",
       "<style>\n",
       "    /* Turns off some styling */\n",
       "    progress {\n",
       "        /* gets rid of default border in Firefox and Opera. */\n",
       "        border: none;\n",
       "        /* Needs to be in here for Safari polyfill so background images work as expected. */\n",
       "        background-size: auto;\n",
       "    }\n",
       "    progress:not([value]), progress:not([value])::-webkit-progress-bar {\n",
       "        background: repeating-linear-gradient(45deg, #7e7e7e, #7e7e7e 10px, #5c5c5c 10px, #5c5c5c 20px);\n",
       "    }\n",
       "    .progress-bar-interrupted, .progress-bar-interrupted::-webkit-progress-bar {\n",
       "        background: #F44336;\n",
       "    }\n",
       "</style>\n"
      ],
      "text/plain": [
       "<IPython.core.display.HTML object>"
      ]
     },
     "metadata": {},
     "output_type": "display_data"
    },
    {
     "data": {
      "text/html": [
       "<table border=\"1\" class=\"dataframe\">\n",
       "  <thead>\n",
       "    <tr style=\"text-align: left;\">\n",
       "      <th>epoch</th>\n",
       "      <th>train_loss</th>\n",
       "      <th>valid_loss</th>\n",
       "      <th>batch_accuracy</th>\n",
       "      <th>time</th>\n",
       "    </tr>\n",
       "  </thead>\n",
       "  <tbody>\n",
       "    <tr>\n",
       "      <td>0</td>\n",
       "      <td>0.636877</td>\n",
       "      <td>0.503603</td>\n",
       "      <td>0.495584</td>\n",
       "      <td>00:00</td>\n",
       "    </tr>\n",
       "    <tr>\n",
       "      <td>1</td>\n",
       "      <td>0.585546</td>\n",
       "      <td>0.128285</td>\n",
       "      <td>0.914622</td>\n",
       "      <td>00:00</td>\n",
       "    </tr>\n",
       "    <tr>\n",
       "      <td>2</td>\n",
       "      <td>0.212065</td>\n",
       "      <td>0.214228</td>\n",
       "      <td>0.798822</td>\n",
       "      <td>00:00</td>\n",
       "    </tr>\n",
       "    <tr>\n",
       "      <td>3</td>\n",
       "      <td>0.091537</td>\n",
       "      <td>0.116088</td>\n",
       "      <td>0.903827</td>\n",
       "      <td>00:00</td>\n",
       "    </tr>\n",
       "    <tr>\n",
       "      <td>4</td>\n",
       "      <td>0.047227</td>\n",
       "      <td>0.082336</td>\n",
       "      <td>0.930324</td>\n",
       "      <td>00:00</td>\n",
       "    </tr>\n",
       "    <tr>\n",
       "      <td>5</td>\n",
       "      <td>0.030045</td>\n",
       "      <td>0.065007</td>\n",
       "      <td>0.945044</td>\n",
       "      <td>00:00</td>\n",
       "    </tr>\n",
       "    <tr>\n",
       "      <td>6</td>\n",
       "      <td>0.023047</td>\n",
       "      <td>0.054450</td>\n",
       "      <td>0.954367</td>\n",
       "      <td>00:00</td>\n",
       "    </tr>\n",
       "    <tr>\n",
       "      <td>7</td>\n",
       "      <td>0.019983</td>\n",
       "      <td>0.047521</td>\n",
       "      <td>0.960255</td>\n",
       "      <td>00:00</td>\n",
       "    </tr>\n",
       "    <tr>\n",
       "      <td>8</td>\n",
       "      <td>0.018463</td>\n",
       "      <td>0.042692</td>\n",
       "      <td>0.964671</td>\n",
       "      <td>00:00</td>\n",
       "    </tr>\n",
       "    <tr>\n",
       "      <td>9</td>\n",
       "      <td>0.017569</td>\n",
       "      <td>0.039153</td>\n",
       "      <td>0.966634</td>\n",
       "      <td>00:00</td>\n",
       "    </tr>\n",
       "    <tr>\n",
       "      <td>10</td>\n",
       "      <td>0.016948</td>\n",
       "      <td>0.036451</td>\n",
       "      <td>0.968106</td>\n",
       "      <td>00:00</td>\n",
       "    </tr>\n",
       "    <tr>\n",
       "      <td>11</td>\n",
       "      <td>0.016462</td>\n",
       "      <td>0.034316</td>\n",
       "      <td>0.971541</td>\n",
       "      <td>00:00</td>\n",
       "    </tr>\n",
       "    <tr>\n",
       "      <td>12</td>\n",
       "      <td>0.016056</td>\n",
       "      <td>0.032580</td>\n",
       "      <td>0.972522</td>\n",
       "      <td>00:00</td>\n",
       "    </tr>\n",
       "    <tr>\n",
       "      <td>13</td>\n",
       "      <td>0.015709</td>\n",
       "      <td>0.031138</td>\n",
       "      <td>0.974485</td>\n",
       "      <td>00:00</td>\n",
       "    </tr>\n",
       "    <tr>\n",
       "      <td>14</td>\n",
       "      <td>0.015409</td>\n",
       "      <td>0.029922</td>\n",
       "      <td>0.975466</td>\n",
       "      <td>00:00</td>\n",
       "    </tr>\n",
       "    <tr>\n",
       "      <td>15</td>\n",
       "      <td>0.015150</td>\n",
       "      <td>0.028884</td>\n",
       "      <td>0.976448</td>\n",
       "      <td>00:00</td>\n",
       "    </tr>\n",
       "    <tr>\n",
       "      <td>16</td>\n",
       "      <td>0.014923</td>\n",
       "      <td>0.027990</td>\n",
       "      <td>0.977429</td>\n",
       "      <td>00:00</td>\n",
       "    </tr>\n",
       "    <tr>\n",
       "      <td>17</td>\n",
       "      <td>0.014723</td>\n",
       "      <td>0.027213</td>\n",
       "      <td>0.977920</td>\n",
       "      <td>00:00</td>\n",
       "    </tr>\n",
       "    <tr>\n",
       "      <td>18</td>\n",
       "      <td>0.014544</td>\n",
       "      <td>0.026533</td>\n",
       "      <td>0.978410</td>\n",
       "      <td>00:00</td>\n",
       "    </tr>\n",
       "    <tr>\n",
       "      <td>19</td>\n",
       "      <td>0.014383</td>\n",
       "      <td>0.025934</td>\n",
       "      <td>0.978410</td>\n",
       "      <td>00:00</td>\n",
       "    </tr>\n",
       "  </tbody>\n",
       "</table>"
      ],
      "text/plain": [
       "<IPython.core.display.HTML object>"
      ]
     },
     "metadata": {},
     "output_type": "display_data"
    }
   ],
   "source": [
    "learn.fit(20, lr=lr)"
   ]
  },
  {
   "cell_type": "code",
   "execution_count": 112,
   "id": "465bec9c-4f3a-4d06-865e-d1a07dada3b5",
   "metadata": {},
   "outputs": [],
   "source": [
    "def simple_net(xb):\n",
    "    res = xb@w1 + b1\n",
    "    res = res.max(tensor(0.0))\n",
    "    res = res@w2 + b2\n",
    "    return res"
   ]
  },
  {
   "cell_type": "code",
   "execution_count": 113,
   "id": "c33bffab-d344-4740-9371-101b0d3c15cd",
   "metadata": {},
   "outputs": [],
   "source": [
    "w1 = init_params((28*28,30))\n",
    "b1 = init_params(30)\n",
    "w2 = init_params((30,1))\n",
    "b2 = init_params(1)"
   ]
  },
  {
   "cell_type": "code",
   "execution_count": 114,
   "id": "c4e2cc08-2a60-4b0e-8029-744951644acf",
   "metadata": {},
   "outputs": [
    {
     "data": {
      "text/plain": [
       "torch.Size([784, 30])"
      ]
     },
     "execution_count": 114,
     "metadata": {},
     "output_type": "execute_result"
    }
   ],
   "source": [
    "w1.shape"
   ]
  },
  {
   "cell_type": "code",
   "execution_count": 115,
   "id": "6029def4-11aa-48ff-af5b-4828f3cf1ca1",
   "metadata": {},
   "outputs": [],
   "source": [
    "simple_net = nn.Sequential(\n",
    "    nn.Linear(28*28, 30),\n",
    "    nn.ReLU(),\n",
    "    nn.Linear(30, 1)\n",
    ")"
   ]
  },
  {
   "cell_type": "code",
   "execution_count": 116,
   "id": "6467353b-f5b2-421f-8735-2fd9b222d7b6",
   "metadata": {},
   "outputs": [
    {
     "data": {
      "text/plain": [
       "Sequential(\n",
       "  (0): Linear(in_features=784, out_features=30, bias=True)\n",
       "  (1): ReLU()\n",
       "  (2): Linear(in_features=30, out_features=1, bias=True)\n",
       ")"
      ]
     },
     "execution_count": 116,
     "metadata": {},
     "output_type": "execute_result"
    }
   ],
   "source": [
    "simple_net"
   ]
  },
  {
   "cell_type": "code",
   "execution_count": 117,
   "id": "85a783d7-81a2-4e41-a2d6-9c619209a5e4",
   "metadata": {},
   "outputs": [],
   "source": [
    "learn = Learner(dls, simple_net, opt_func=SGD, loss_func=mnist_loss, metrics=batch_accuracy)"
   ]
  },
  {
   "cell_type": "code",
   "execution_count": 118,
   "id": "acc910fe-ec33-4473-b1ff-4060f3dac181",
   "metadata": {},
   "outputs": [
    {
     "data": {
      "text/html": [
       "\n",
       "<style>\n",
       "    /* Turns off some styling */\n",
       "    progress {\n",
       "        /* gets rid of default border in Firefox and Opera. */\n",
       "        border: none;\n",
       "        /* Needs to be in here for Safari polyfill so background images work as expected. */\n",
       "        background-size: auto;\n",
       "    }\n",
       "    progress:not([value]), progress:not([value])::-webkit-progress-bar {\n",
       "        background: repeating-linear-gradient(45deg, #7e7e7e, #7e7e7e 10px, #5c5c5c 10px, #5c5c5c 20px);\n",
       "    }\n",
       "    .progress-bar-interrupted, .progress-bar-interrupted::-webkit-progress-bar {\n",
       "        background: #F44336;\n",
       "    }\n",
       "</style>\n"
      ],
      "text/plain": [
       "<IPython.core.display.HTML object>"
      ]
     },
     "metadata": {},
     "output_type": "display_data"
    },
    {
     "data": {
      "text/html": [
       "<table border=\"1\" class=\"dataframe\">\n",
       "  <thead>\n",
       "    <tr style=\"text-align: left;\">\n",
       "      <th>epoch</th>\n",
       "      <th>train_loss</th>\n",
       "      <th>valid_loss</th>\n",
       "      <th>batch_accuracy</th>\n",
       "      <th>time</th>\n",
       "    </tr>\n",
       "  </thead>\n",
       "  <tbody>\n",
       "    <tr>\n",
       "      <td>0</td>\n",
       "      <td>0.270501</td>\n",
       "      <td>0.415193</td>\n",
       "      <td>0.504416</td>\n",
       "      <td>00:00</td>\n",
       "    </tr>\n",
       "    <tr>\n",
       "      <td>1</td>\n",
       "      <td>0.130624</td>\n",
       "      <td>0.218204</td>\n",
       "      <td>0.818940</td>\n",
       "      <td>00:00</td>\n",
       "    </tr>\n",
       "    <tr>\n",
       "      <td>2</td>\n",
       "      <td>0.074510</td>\n",
       "      <td>0.112016</td>\n",
       "      <td>0.917566</td>\n",
       "      <td>00:00</td>\n",
       "    </tr>\n",
       "    <tr>\n",
       "      <td>3</td>\n",
       "      <td>0.050401</td>\n",
       "      <td>0.076601</td>\n",
       "      <td>0.942591</td>\n",
       "      <td>00:00</td>\n",
       "    </tr>\n",
       "    <tr>\n",
       "      <td>4</td>\n",
       "      <td>0.039023</td>\n",
       "      <td>0.060131</td>\n",
       "      <td>0.956820</td>\n",
       "      <td>00:00</td>\n",
       "    </tr>\n",
       "    <tr>\n",
       "      <td>5</td>\n",
       "      <td>0.033071</td>\n",
       "      <td>0.050772</td>\n",
       "      <td>0.964671</td>\n",
       "      <td>00:00</td>\n",
       "    </tr>\n",
       "    <tr>\n",
       "      <td>6</td>\n",
       "      <td>0.029560</td>\n",
       "      <td>0.044829</td>\n",
       "      <td>0.966634</td>\n",
       "      <td>00:00</td>\n",
       "    </tr>\n",
       "    <tr>\n",
       "      <td>7</td>\n",
       "      <td>0.027227</td>\n",
       "      <td>0.040753</td>\n",
       "      <td>0.967615</td>\n",
       "      <td>00:00</td>\n",
       "    </tr>\n",
       "    <tr>\n",
       "      <td>8</td>\n",
       "      <td>0.025521</td>\n",
       "      <td>0.037778</td>\n",
       "      <td>0.969087</td>\n",
       "      <td>00:00</td>\n",
       "    </tr>\n",
       "    <tr>\n",
       "      <td>9</td>\n",
       "      <td>0.024189</td>\n",
       "      <td>0.035502</td>\n",
       "      <td>0.971541</td>\n",
       "      <td>00:00</td>\n",
       "    </tr>\n",
       "    <tr>\n",
       "      <td>10</td>\n",
       "      <td>0.023105</td>\n",
       "      <td>0.033692</td>\n",
       "      <td>0.972522</td>\n",
       "      <td>00:00</td>\n",
       "    </tr>\n",
       "    <tr>\n",
       "      <td>11</td>\n",
       "      <td>0.022198</td>\n",
       "      <td>0.032209</td>\n",
       "      <td>0.973013</td>\n",
       "      <td>00:00</td>\n",
       "    </tr>\n",
       "    <tr>\n",
       "      <td>12</td>\n",
       "      <td>0.021425</td>\n",
       "      <td>0.030961</td>\n",
       "      <td>0.974485</td>\n",
       "      <td>00:00</td>\n",
       "    </tr>\n",
       "    <tr>\n",
       "      <td>13</td>\n",
       "      <td>0.020756</td>\n",
       "      <td>0.029891</td>\n",
       "      <td>0.974975</td>\n",
       "      <td>00:00</td>\n",
       "    </tr>\n",
       "    <tr>\n",
       "      <td>14</td>\n",
       "      <td>0.020170</td>\n",
       "      <td>0.028960</td>\n",
       "      <td>0.974975</td>\n",
       "      <td>00:00</td>\n",
       "    </tr>\n",
       "    <tr>\n",
       "      <td>15</td>\n",
       "      <td>0.019652</td>\n",
       "      <td>0.028140</td>\n",
       "      <td>0.976448</td>\n",
       "      <td>00:00</td>\n",
       "    </tr>\n",
       "    <tr>\n",
       "      <td>16</td>\n",
       "      <td>0.019188</td>\n",
       "      <td>0.027411</td>\n",
       "      <td>0.976938</td>\n",
       "      <td>00:00</td>\n",
       "    </tr>\n",
       "    <tr>\n",
       "      <td>17</td>\n",
       "      <td>0.018771</td>\n",
       "      <td>0.026758</td>\n",
       "      <td>0.977920</td>\n",
       "      <td>00:00</td>\n",
       "    </tr>\n",
       "    <tr>\n",
       "      <td>18</td>\n",
       "      <td>0.018391</td>\n",
       "      <td>0.026170</td>\n",
       "      <td>0.978410</td>\n",
       "      <td>00:00</td>\n",
       "    </tr>\n",
       "    <tr>\n",
       "      <td>19</td>\n",
       "      <td>0.018045</td>\n",
       "      <td>0.025637</td>\n",
       "      <td>0.978901</td>\n",
       "      <td>00:00</td>\n",
       "    </tr>\n",
       "    <tr>\n",
       "      <td>20</td>\n",
       "      <td>0.017727</td>\n",
       "      <td>0.025153</td>\n",
       "      <td>0.979392</td>\n",
       "      <td>00:00</td>\n",
       "    </tr>\n",
       "    <tr>\n",
       "      <td>21</td>\n",
       "      <td>0.017432</td>\n",
       "      <td>0.024710</td>\n",
       "      <td>0.979392</td>\n",
       "      <td>00:00</td>\n",
       "    </tr>\n",
       "    <tr>\n",
       "      <td>22</td>\n",
       "      <td>0.017159</td>\n",
       "      <td>0.024305</td>\n",
       "      <td>0.979392</td>\n",
       "      <td>00:00</td>\n",
       "    </tr>\n",
       "    <tr>\n",
       "      <td>23</td>\n",
       "      <td>0.016904</td>\n",
       "      <td>0.023931</td>\n",
       "      <td>0.980373</td>\n",
       "      <td>00:00</td>\n",
       "    </tr>\n",
       "    <tr>\n",
       "      <td>24</td>\n",
       "      <td>0.016665</td>\n",
       "      <td>0.023586</td>\n",
       "      <td>0.980373</td>\n",
       "      <td>00:00</td>\n",
       "    </tr>\n",
       "    <tr>\n",
       "      <td>25</td>\n",
       "      <td>0.016440</td>\n",
       "      <td>0.023266</td>\n",
       "      <td>0.980373</td>\n",
       "      <td>00:00</td>\n",
       "    </tr>\n",
       "    <tr>\n",
       "      <td>26</td>\n",
       "      <td>0.016229</td>\n",
       "      <td>0.022969</td>\n",
       "      <td>0.981354</td>\n",
       "      <td>00:00</td>\n",
       "    </tr>\n",
       "    <tr>\n",
       "      <td>27</td>\n",
       "      <td>0.016029</td>\n",
       "      <td>0.022693</td>\n",
       "      <td>0.981845</td>\n",
       "      <td>00:00</td>\n",
       "    </tr>\n",
       "    <tr>\n",
       "      <td>28</td>\n",
       "      <td>0.015839</td>\n",
       "      <td>0.022436</td>\n",
       "      <td>0.982336</td>\n",
       "      <td>00:00</td>\n",
       "    </tr>\n",
       "    <tr>\n",
       "      <td>29</td>\n",
       "      <td>0.015659</td>\n",
       "      <td>0.022196</td>\n",
       "      <td>0.982336</td>\n",
       "      <td>00:00</td>\n",
       "    </tr>\n",
       "    <tr>\n",
       "      <td>30</td>\n",
       "      <td>0.015488</td>\n",
       "      <td>0.021972</td>\n",
       "      <td>0.982826</td>\n",
       "      <td>00:00</td>\n",
       "    </tr>\n",
       "    <tr>\n",
       "      <td>31</td>\n",
       "      <td>0.015325</td>\n",
       "      <td>0.021761</td>\n",
       "      <td>0.982826</td>\n",
       "      <td>00:00</td>\n",
       "    </tr>\n",
       "    <tr>\n",
       "      <td>32</td>\n",
       "      <td>0.015168</td>\n",
       "      <td>0.021564</td>\n",
       "      <td>0.983317</td>\n",
       "      <td>00:00</td>\n",
       "    </tr>\n",
       "    <tr>\n",
       "      <td>33</td>\n",
       "      <td>0.015019</td>\n",
       "      <td>0.021378</td>\n",
       "      <td>0.982826</td>\n",
       "      <td>00:00</td>\n",
       "    </tr>\n",
       "    <tr>\n",
       "      <td>34</td>\n",
       "      <td>0.014875</td>\n",
       "      <td>0.021204</td>\n",
       "      <td>0.983317</td>\n",
       "      <td>00:00</td>\n",
       "    </tr>\n",
       "    <tr>\n",
       "      <td>35</td>\n",
       "      <td>0.014737</td>\n",
       "      <td>0.021039</td>\n",
       "      <td>0.983317</td>\n",
       "      <td>00:00</td>\n",
       "    </tr>\n",
       "    <tr>\n",
       "      <td>36</td>\n",
       "      <td>0.014605</td>\n",
       "      <td>0.020884</td>\n",
       "      <td>0.983317</td>\n",
       "      <td>00:00</td>\n",
       "    </tr>\n",
       "    <tr>\n",
       "      <td>37</td>\n",
       "      <td>0.014477</td>\n",
       "      <td>0.020737</td>\n",
       "      <td>0.983317</td>\n",
       "      <td>00:00</td>\n",
       "    </tr>\n",
       "    <tr>\n",
       "      <td>38</td>\n",
       "      <td>0.014353</td>\n",
       "      <td>0.020597</td>\n",
       "      <td>0.983317</td>\n",
       "      <td>00:00</td>\n",
       "    </tr>\n",
       "    <tr>\n",
       "      <td>39</td>\n",
       "      <td>0.014234</td>\n",
       "      <td>0.020464</td>\n",
       "      <td>0.982826</td>\n",
       "      <td>00:00</td>\n",
       "    </tr>\n",
       "  </tbody>\n",
       "</table>"
      ],
      "text/plain": [
       "<IPython.core.display.HTML object>"
      ]
     },
     "metadata": {},
     "output_type": "display_data"
    }
   ],
   "source": [
    "learn.fit(40, 0.1)"
   ]
  },
  {
   "cell_type": "code",
   "execution_count": 119,
   "id": "a6d24269-40f2-476c-8d84-5beb08c917b4",
   "metadata": {},
   "outputs": [
    {
     "data": {
      "text/plain": [
       "[<matplotlib.lines.Line2D at 0x7fb9c8571780>]"
      ]
     },
     "execution_count": 119,
     "metadata": {},
     "output_type": "execute_result"
    },
    {
     "data": {
      "image/png": "[encoded data removed]",
      "text/plain": [
       "<Figure size 640x480 with 1 Axes>"
      ]
     },
     "metadata": {},
     "output_type": "display_data"
    }
   ],
   "source": [
    "plt.plot(L(learn.recorder.values).itemgot(2))"
   ]
  },
  {
   "cell_type": "code",
   "execution_count": 120,
   "id": "2479668f-c2e9-4b52-96ba-7275875f70cf",
   "metadata": {},
   "outputs": [
    {
     "data": {
      "text/plain": [
       "0.982826292514801"
      ]
     },
     "execution_count": 120,
     "metadata": {},
     "output_type": "execute_result"
    }
   ],
   "source": [
    "learn.recorder.values[-1][2]"
   ]
  },
  {
   "cell_type": "code",
   "execution_count": 332,
   "id": "efe82bef-f1ca-4979-a4bd-7686536f2857",
   "metadata": {},
   "outputs": [
    {
     "data": {
      "text/html": [
       "\n",
       "<style>\n",
       "    /* Turns off some styling */\n",
       "    progress {\n",
       "        /* gets rid of default border in Firefox and Opera. */\n",
       "        border: none;\n",
       "        /* Needs to be in here for Safari polyfill so background images work as expected. */\n",
       "        background-size: auto;\n",
       "    }\n",
       "    progress:not([value]), progress:not([value])::-webkit-progress-bar {\n",
       "        background: repeating-linear-gradient(45deg, #7e7e7e, #7e7e7e 10px, #5c5c5c 10px, #5c5c5c 20px);\n",
       "    }\n",
       "    .progress-bar-interrupted, .progress-bar-interrupted::-webkit-progress-bar {\n",
       "        background: #F44336;\n",
       "    }\n",
       "</style>\n"
      ],
      "text/plain": [
       "<IPython.core.display.HTML object>"
      ]
     },
     "metadata": {},
     "output_type": "display_data"
    },
    {
     "data": {
      "text/html": [
       "<table border=\"1\" class=\"dataframe\">\n",
       "  <thead>\n",
       "    <tr style=\"text-align: left;\">\n",
       "      <th>epoch</th>\n",
       "      <th>train_loss</th>\n",
       "      <th>valid_loss</th>\n",
       "      <th>accuracy</th>\n",
       "      <th>time</th>\n",
       "    </tr>\n",
       "  </thead>\n",
       "  <tbody>\n",
       "    <tr>\n",
       "      <td>0</td>\n",
       "      <td>0.093631</td>\n",
       "      <td>0.019640</td>\n",
       "      <td>0.997056</td>\n",
       "      <td>00:12</td>\n",
       "    </tr>\n",
       "  </tbody>\n",
       "</table>"
      ],
      "text/plain": [
       "<IPython.core.display.HTML object>"
      ]
     },
     "metadata": {},
     "output_type": "display_data"
    }
   ],
   "source": [
    "dls = ImageDataLoaders.from_folder(path)\n",
    "learn = vision_learner(dls, resnet18, pretrained=False, loss_func=F.cross_entropy, metrics=accuracy)\n",
    "learn.fit_one_cycle(1, 0.1)"
   ]
  },
  {
   "cell_type": "code",
   "execution_count": 138,
   "id": "2d302440-9e29-459d-99af-2d44ef24ca9e",
   "metadata": {},
   "outputs": [
    {
     "data": {
      "text/plain": [
       "(torch.Size([784]), torch.float32)"
      ]
     },
     "execution_count": 138,
     "metadata": {},
     "output_type": "execute_result"
    }
   ],
   "source": [
    "dls.train_ds[0][0].shape, dls.train_ds[0][0].dtype"
   ]
  },
  {
   "cell_type": "code",
   "execution_count": 1,
   "id": "f0a3db90-3b7d-46c6-a234-ec33af25ed0e",
   "metadata": {},
   "outputs": [
    {
     "ename": "NameError",
     "evalue": "name 'learn' is not defined",
     "output_type": "error",
     "traceback": [
      "\u001b[0;31m---------------------------------------------------------------------------\u001b[0m",
      "\u001b[0;31mNameError\u001b[0m                                 Traceback (most recent call last)",
      "Cell \u001b[0;32mIn[1], line 1\u001b[0m\n\u001b[0;32m----> 1\u001b[0m \u001b[43mlearn\u001b[49m\u001b[38;5;241m.\u001b[39mdls\u001b[38;5;241m.\u001b[39mvocab\n",
      "\u001b[0;31mNameError\u001b[0m: name 'learn' is not defined"
     ]
    }
   ],
   "source": [
    "learn.dls.vocab"
   ]
  },
  {
   "cell_type": "code",
   "execution_count": null,
   "id": "23da3f68-f1c5-429a-a9a4-cdfbc1ce9bf5",
   "metadata": {},
   "outputs": [],
   "source": [
    "learn"
   ]
  }
 ],
 "metadata": {
  "kernelspec": {
   "display_name": "Python 3 (ipykernel)",
   "language": "python",
   "name": "python3"
  },
  "language_info": {
   "codemirror_mode": {
    "name": "ipython",
    "version": 3
   },
   "file_extension": ".py",
   "mimetype": "text/x-python",
   "name": "python",
   "nbconvert_exporter": "python",
   "pygments_lexer": "ipython3",
   "version": "3.10.13"
  }
 },
 "nbformat": 4,
 "nbformat_minor": 5
}
